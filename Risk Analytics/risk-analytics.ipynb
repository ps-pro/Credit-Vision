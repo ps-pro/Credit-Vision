{
 "cells": [
  {
   "cell_type": "code",
   "execution_count": 1,
   "id": "48bbdccd",
   "metadata": {
    "execution": {
     "iopub.execute_input": "2025-08-13T13:27:24.252947Z",
     "iopub.status.busy": "2025-08-13T13:27:24.252443Z",
     "iopub.status.idle": "2025-08-13T13:27:31.194622Z",
     "shell.execute_reply": "2025-08-13T13:27:31.193992Z"
    },
    "papermill": {
     "duration": 6.957314,
     "end_time": "2025-08-13T13:27:31.195999",
     "exception": false,
     "start_time": "2025-08-13T13:27:24.238685",
     "status": "completed"
    },
    "tags": []
   },
   "outputs": [
    {
     "name": "stdout",
     "output_type": "stream",
     "text": [
      "  Preparing metadata (setup.py) ... \u001b[?25l\u001b[?25hdone\r\n",
      "\u001b[2K   \u001b[90m━━━━━━━━━━━━━━━━━━━━━━━━━━━━━━━━━━━━━━━━\u001b[0m \u001b[32m349.3/349.3 kB\u001b[0m \u001b[31m8.3 MB/s\u001b[0m eta \u001b[36m0:00:00\u001b[0m\r\n",
      "\u001b[2K   \u001b[90m━━━━━━━━━━━━━━━━━━━━━━━━━━━━━━━━━━━━━━━━\u001b[0m \u001b[32m117.2/117.2 kB\u001b[0m \u001b[31m9.2 MB/s\u001b[0m eta \u001b[36m0:00:00\u001b[0m\r\n",
      "\u001b[?25h  Building wheel for autograd-gamma (setup.py) ... \u001b[?25l\u001b[?25hdone\r\n"
     ]
    }
   ],
   "source": [
    "!pip install -q lifelines"
   ]
  },
  {
   "cell_type": "code",
   "execution_count": 2,
   "id": "5ea2abee",
   "metadata": {
    "execution": {
     "iopub.execute_input": "2025-08-13T13:27:31.215555Z",
     "iopub.status.busy": "2025-08-13T13:27:31.215318Z",
     "iopub.status.idle": "2025-08-13T13:27:49.841553Z",
     "shell.execute_reply": "2025-08-13T13:27:49.840833Z"
    },
    "papermill": {
     "duration": 18.637061,
     "end_time": "2025-08-13T13:27:49.842742",
     "exception": false,
     "start_time": "2025-08-13T13:27:31.205681",
     "status": "completed"
    },
    "tags": []
   },
   "outputs": [
    {
     "name": "stderr",
     "output_type": "stream",
     "text": [
      "2025-08-13 13:27:38.359750: E external/local_xla/xla/stream_executor/cuda/cuda_fft.cc:477] Unable to register cuFFT factory: Attempting to register factory for plugin cuFFT when one has already been registered\n",
      "WARNING: All log messages before absl::InitializeLog() is called are written to STDERR\n",
      "E0000 00:00:1755091658.582749      19 cuda_dnn.cc:8310] Unable to register cuDNN factory: Attempting to register factory for plugin cuDNN when one has already been registered\n",
      "E0000 00:00:1755091658.651445      19 cuda_blas.cc:1418] Unable to register cuBLAS factory: Attempting to register factory for plugin cuBLAS when one has already been registered\n"
     ]
    },
    {
     "name": "stdout",
     "output_type": "stream",
     "text": [
      "All libraries imported successfully\n"
     ]
    }
   ],
   "source": [
    "# Lending Club Risk Analysis - Complete Implementation\n",
    "# Professional Data Science Notebook for Comprehensive Risk Analytics\n",
    "\n",
    "# =============================================================================\n",
    "# IMPORTS AND SETUP\n",
    "# =============================================================================\n",
    "\n",
    "import pandas as pd\n",
    "import numpy as np\n",
    "import seaborn as sns\n",
    "import matplotlib.pyplot as plt\n",
    "import plotly.io as pio\n",
    "import plotly.graph_objects as go\n",
    "import plotly.express as px\n",
    "from plotly.subplots import make_subplots\n",
    "import plotly.figure_factory as ff\n",
    "\n",
    "# Set Plotly renderer for Kaggle compatibility\n",
    "pio.renderers.default = 'iframe'\n",
    "\n",
    "# Survival Analysis Libraries\n",
    "from lifelines import KaplanMeierFitter, CoxPHFitter\n",
    "from lifelines.statistics import logrank_test\n",
    "\n",
    "# Machine Learning Libraries\n",
    "from sklearn.model_selection import StratifiedShuffleSplit\n",
    "from sklearn.preprocessing import StandardScaler, LabelEncoder\n",
    "from sklearn.pipeline import Pipeline, FeatureUnion\n",
    "from sklearn.base import BaseEstimator, TransformerMixin\n",
    "from sklearn.utils import check_array\n",
    "from scipy import sparse\n",
    "import tensorflow as tf\n",
    "\n",
    "# Utility Libraries\n",
    "import warnings\n",
    "warnings.filterwarnings('ignore')\n",
    "from collections import OrderedDict\n",
    "import time\n",
    "\n",
    "print(\"All libraries imported successfully\")"
   ]
  },
  {
   "cell_type": "code",
   "execution_count": 3,
   "id": "5d3e94fa",
   "metadata": {
    "execution": {
     "iopub.execute_input": "2025-08-13T13:27:49.863610Z",
     "iopub.status.busy": "2025-08-13T13:27:49.863074Z",
     "iopub.status.idle": "2025-08-13T13:28:02.318546Z",
     "shell.execute_reply": "2025-08-13T13:28:02.317709Z"
    },
    "papermill": {
     "duration": 12.467008,
     "end_time": "2025-08-13T13:28:02.319619",
     "exception": false,
     "start_time": "2025-08-13T13:27:49.852611",
     "status": "completed"
    },
    "tags": []
   },
   "outputs": [
    {
     "name": "stdout",
     "output_type": "stream",
     "text": [
      "Dataset loaded successfully: 2260701 rows, 144 columns\n"
     ]
    }
   ],
   "source": [
    "# =============================================================================\n",
    "# DATA LOADING AND INITIAL PREPROCESSING\n",
    "# =============================================================================\n",
    "\n",
    "# Load the complete dataset\n",
    "df = pd.read_parquet('/kaggle/input/lending-club-dataset-proper-formatted/lending_club_accepted_systematic.parquet')\n",
    "\n",
    "# Create backup copy\n",
    "original_df = df.copy()\n",
    "\n",
    "# Rename columns for clarity\n",
    "df = df.rename(columns={\n",
    "    \"loan_amnt\": \"loan_amount\", \n",
    "    \"funded_amnt\": \"funded_amount\", \n",
    "    \"funded_amnt_inv\": \"investor_funds\",\n",
    "    \"int_rate\": \"interest_rate\", \n",
    "    \"annual_inc\": \"annual_income\"\n",
    "})\n",
    "\n",
    "# Drop irrelevant columns\n",
    "df.drop(['id', 'member_id', 'emp_title', 'url', 'desc', 'zip_code', 'title'], \n",
    "        axis=1, inplace=True)\n",
    "\n",
    "print(f\"Dataset loaded successfully: {df.shape[0]} rows, {df.shape[1]} columns\")"
   ]
  },
  {
   "cell_type": "code",
   "execution_count": 4,
   "id": "c0163469",
   "metadata": {
    "execution": {
     "iopub.execute_input": "2025-08-13T13:28:02.340896Z",
     "iopub.status.busy": "2025-08-13T13:28:02.340400Z",
     "iopub.status.idle": "2025-08-13T13:28:02.421749Z",
     "shell.execute_reply": "2025-08-13T13:28:02.420999Z"
    },
    "papermill": {
     "duration": 0.093739,
     "end_time": "2025-08-13T13:28:02.422866",
     "exception": false,
     "start_time": "2025-08-13T13:28:02.329127",
     "status": "completed"
    },
    "tags": []
   },
   "outputs": [
    {
     "name": "stdout",
     "output_type": "stream",
     "text": [
      "Date range: 2007-06-01 00:00:00 to 2018-12-01 00:00:00\n",
      "Phase 1: Data Distribution Analysis\n"
     ]
    }
   ],
   "source": [
    "# =============================================================================\n",
    "# PHASE 1: DATA DISTRIBUTION & BASIC ANALYSIS\n",
    "# =============================================================================\n",
    "\n",
    "# Create date-related features\n",
    "df['year'] = df['issue_d'].dt.year\n",
    "print(f\"Date range: {df['issue_d'].min()} to {df['issue_d'].max()}\")\n",
    "\n",
    "print(\"Phase 1: Data Distribution Analysis\")"
   ]
  },
  {
   "cell_type": "code",
   "execution_count": 5,
   "id": "1aa9f227",
   "metadata": {
    "execution": {
     "iopub.execute_input": "2025-08-13T13:28:02.442197Z",
     "iopub.status.busy": "2025-08-13T13:28:02.441993Z",
     "iopub.status.idle": "2025-08-13T13:28:02.756999Z",
     "shell.execute_reply": "2025-08-13T13:28:02.756257Z"
    },
    "papermill": {
     "duration": 0.325729,
     "end_time": "2025-08-13T13:28:02.758036",
     "exception": false,
     "start_time": "2025-08-13T13:28:02.432307",
     "status": "completed"
    },
    "tags": []
   },
   "outputs": [
    {
     "data": {
      "text/html": [
       "<div>\n",
       "<style scoped>\n",
       "    .dataframe tbody tr th:only-of-type {\n",
       "        vertical-align: middle;\n",
       "    }\n",
       "\n",
       "    .dataframe tbody tr th {\n",
       "        vertical-align: top;\n",
       "    }\n",
       "\n",
       "    .dataframe thead th {\n",
       "        text-align: right;\n",
       "    }\n",
       "</style>\n",
       "<table border=\"1\" class=\"dataframe\">\n",
       "  <thead>\n",
       "    <tr style=\"text-align: right;\">\n",
       "      <th></th>\n",
       "      <th>loan_amount</th>\n",
       "      <th>funded_amount</th>\n",
       "      <th>investor_funds</th>\n",
       "      <th>term</th>\n",
       "      <th>interest_rate</th>\n",
       "      <th>installment</th>\n",
       "      <th>grade</th>\n",
       "      <th>sub_grade</th>\n",
       "      <th>emp_length</th>\n",
       "      <th>home_ownership</th>\n",
       "      <th>...</th>\n",
       "      <th>hardship_last_payment_amount</th>\n",
       "      <th>disbursement_method</th>\n",
       "      <th>debt_settlement_flag</th>\n",
       "      <th>debt_settlement_flag_date</th>\n",
       "      <th>settlement_status</th>\n",
       "      <th>settlement_date</th>\n",
       "      <th>settlement_amount</th>\n",
       "      <th>settlement_percentage</th>\n",
       "      <th>settlement_term</th>\n",
       "      <th>year</th>\n",
       "    </tr>\n",
       "  </thead>\n",
       "  <tbody>\n",
       "    <tr>\n",
       "      <th>0</th>\n",
       "      <td>3600.0</td>\n",
       "      <td>3600.0</td>\n",
       "      <td>3600.0</td>\n",
       "      <td>36</td>\n",
       "      <td>13.99</td>\n",
       "      <td>123.03</td>\n",
       "      <td>C</td>\n",
       "      <td>C4</td>\n",
       "      <td>10</td>\n",
       "      <td>MORTGAGE</td>\n",
       "      <td>...</td>\n",
       "      <td>NaN</td>\n",
       "      <td>Cash</td>\n",
       "      <td>N</td>\n",
       "      <td>NaT</td>\n",
       "      <td>NaN</td>\n",
       "      <td>NaT</td>\n",
       "      <td>NaN</td>\n",
       "      <td>NaN</td>\n",
       "      <td>&lt;NA&gt;</td>\n",
       "      <td>2015.0</td>\n",
       "    </tr>\n",
       "    <tr>\n",
       "      <th>1</th>\n",
       "      <td>24700.0</td>\n",
       "      <td>24700.0</td>\n",
       "      <td>24700.0</td>\n",
       "      <td>36</td>\n",
       "      <td>11.99</td>\n",
       "      <td>820.28</td>\n",
       "      <td>C</td>\n",
       "      <td>C1</td>\n",
       "      <td>10</td>\n",
       "      <td>MORTGAGE</td>\n",
       "      <td>...</td>\n",
       "      <td>NaN</td>\n",
       "      <td>Cash</td>\n",
       "      <td>N</td>\n",
       "      <td>NaT</td>\n",
       "      <td>NaN</td>\n",
       "      <td>NaT</td>\n",
       "      <td>NaN</td>\n",
       "      <td>NaN</td>\n",
       "      <td>&lt;NA&gt;</td>\n",
       "      <td>2015.0</td>\n",
       "    </tr>\n",
       "    <tr>\n",
       "      <th>2</th>\n",
       "      <td>20000.0</td>\n",
       "      <td>20000.0</td>\n",
       "      <td>20000.0</td>\n",
       "      <td>60</td>\n",
       "      <td>10.78</td>\n",
       "      <td>432.66</td>\n",
       "      <td>B</td>\n",
       "      <td>B4</td>\n",
       "      <td>10</td>\n",
       "      <td>MORTGAGE</td>\n",
       "      <td>...</td>\n",
       "      <td>NaN</td>\n",
       "      <td>Cash</td>\n",
       "      <td>N</td>\n",
       "      <td>NaT</td>\n",
       "      <td>NaN</td>\n",
       "      <td>NaT</td>\n",
       "      <td>NaN</td>\n",
       "      <td>NaN</td>\n",
       "      <td>&lt;NA&gt;</td>\n",
       "      <td>2015.0</td>\n",
       "    </tr>\n",
       "    <tr>\n",
       "      <th>3</th>\n",
       "      <td>35000.0</td>\n",
       "      <td>35000.0</td>\n",
       "      <td>35000.0</td>\n",
       "      <td>60</td>\n",
       "      <td>14.85</td>\n",
       "      <td>829.90</td>\n",
       "      <td>C</td>\n",
       "      <td>C5</td>\n",
       "      <td>10</td>\n",
       "      <td>MORTGAGE</td>\n",
       "      <td>...</td>\n",
       "      <td>NaN</td>\n",
       "      <td>Cash</td>\n",
       "      <td>N</td>\n",
       "      <td>NaT</td>\n",
       "      <td>NaN</td>\n",
       "      <td>NaT</td>\n",
       "      <td>NaN</td>\n",
       "      <td>NaN</td>\n",
       "      <td>&lt;NA&gt;</td>\n",
       "      <td>2015.0</td>\n",
       "    </tr>\n",
       "    <tr>\n",
       "      <th>4</th>\n",
       "      <td>10400.0</td>\n",
       "      <td>10400.0</td>\n",
       "      <td>10400.0</td>\n",
       "      <td>60</td>\n",
       "      <td>22.45</td>\n",
       "      <td>289.91</td>\n",
       "      <td>F</td>\n",
       "      <td>F1</td>\n",
       "      <td>3</td>\n",
       "      <td>MORTGAGE</td>\n",
       "      <td>...</td>\n",
       "      <td>NaN</td>\n",
       "      <td>Cash</td>\n",
       "      <td>N</td>\n",
       "      <td>NaT</td>\n",
       "      <td>NaN</td>\n",
       "      <td>NaT</td>\n",
       "      <td>NaN</td>\n",
       "      <td>NaN</td>\n",
       "      <td>&lt;NA&gt;</td>\n",
       "      <td>2015.0</td>\n",
       "    </tr>\n",
       "    <tr>\n",
       "      <th>...</th>\n",
       "      <td>...</td>\n",
       "      <td>...</td>\n",
       "      <td>...</td>\n",
       "      <td>...</td>\n",
       "      <td>...</td>\n",
       "      <td>...</td>\n",
       "      <td>...</td>\n",
       "      <td>...</td>\n",
       "      <td>...</td>\n",
       "      <td>...</td>\n",
       "      <td>...</td>\n",
       "      <td>...</td>\n",
       "      <td>...</td>\n",
       "      <td>...</td>\n",
       "      <td>...</td>\n",
       "      <td>...</td>\n",
       "      <td>...</td>\n",
       "      <td>...</td>\n",
       "      <td>...</td>\n",
       "      <td>...</td>\n",
       "      <td>...</td>\n",
       "    </tr>\n",
       "    <tr>\n",
       "      <th>2260696</th>\n",
       "      <td>40000.0</td>\n",
       "      <td>40000.0</td>\n",
       "      <td>40000.0</td>\n",
       "      <td>60</td>\n",
       "      <td>10.49</td>\n",
       "      <td>859.56</td>\n",
       "      <td>B</td>\n",
       "      <td>B3</td>\n",
       "      <td>9</td>\n",
       "      <td>MORTGAGE</td>\n",
       "      <td>...</td>\n",
       "      <td>NaN</td>\n",
       "      <td>Cash</td>\n",
       "      <td>N</td>\n",
       "      <td>NaT</td>\n",
       "      <td>NaN</td>\n",
       "      <td>NaT</td>\n",
       "      <td>NaN</td>\n",
       "      <td>NaN</td>\n",
       "      <td>&lt;NA&gt;</td>\n",
       "      <td>2016.0</td>\n",
       "    </tr>\n",
       "    <tr>\n",
       "      <th>2260697</th>\n",
       "      <td>24000.0</td>\n",
       "      <td>24000.0</td>\n",
       "      <td>24000.0</td>\n",
       "      <td>60</td>\n",
       "      <td>14.49</td>\n",
       "      <td>564.56</td>\n",
       "      <td>C</td>\n",
       "      <td>C4</td>\n",
       "      <td>6</td>\n",
       "      <td>RENT</td>\n",
       "      <td>...</td>\n",
       "      <td>NaN</td>\n",
       "      <td>Cash</td>\n",
       "      <td>Y</td>\n",
       "      <td>2019-03-01</td>\n",
       "      <td>ACTIVE</td>\n",
       "      <td>2019-03-01</td>\n",
       "      <td>10000.0</td>\n",
       "      <td>44.82</td>\n",
       "      <td>1</td>\n",
       "      <td>2016.0</td>\n",
       "    </tr>\n",
       "    <tr>\n",
       "      <th>2260698</th>\n",
       "      <td>14000.0</td>\n",
       "      <td>14000.0</td>\n",
       "      <td>14000.0</td>\n",
       "      <td>60</td>\n",
       "      <td>14.49</td>\n",
       "      <td>329.33</td>\n",
       "      <td>C</td>\n",
       "      <td>C4</td>\n",
       "      <td>10</td>\n",
       "      <td>MORTGAGE</td>\n",
       "      <td>...</td>\n",
       "      <td>NaN</td>\n",
       "      <td>Cash</td>\n",
       "      <td>N</td>\n",
       "      <td>NaT</td>\n",
       "      <td>NaN</td>\n",
       "      <td>NaT</td>\n",
       "      <td>NaN</td>\n",
       "      <td>NaN</td>\n",
       "      <td>&lt;NA&gt;</td>\n",
       "      <td>2016.0</td>\n",
       "    </tr>\n",
       "    <tr>\n",
       "      <th>2260699</th>\n",
       "      <td>NaN</td>\n",
       "      <td>NaN</td>\n",
       "      <td>NaN</td>\n",
       "      <td>&lt;NA&gt;</td>\n",
       "      <td>NaN</td>\n",
       "      <td>NaN</td>\n",
       "      <td>NaN</td>\n",
       "      <td>NaN</td>\n",
       "      <td>&lt;NA&gt;</td>\n",
       "      <td>NaN</td>\n",
       "      <td>...</td>\n",
       "      <td>NaN</td>\n",
       "      <td>NaN</td>\n",
       "      <td>NaN</td>\n",
       "      <td>NaT</td>\n",
       "      <td>NaN</td>\n",
       "      <td>NaT</td>\n",
       "      <td>NaN</td>\n",
       "      <td>NaN</td>\n",
       "      <td>&lt;NA&gt;</td>\n",
       "      <td>NaN</td>\n",
       "    </tr>\n",
       "    <tr>\n",
       "      <th>2260700</th>\n",
       "      <td>NaN</td>\n",
       "      <td>NaN</td>\n",
       "      <td>NaN</td>\n",
       "      <td>&lt;NA&gt;</td>\n",
       "      <td>NaN</td>\n",
       "      <td>NaN</td>\n",
       "      <td>NaN</td>\n",
       "      <td>NaN</td>\n",
       "      <td>&lt;NA&gt;</td>\n",
       "      <td>NaN</td>\n",
       "      <td>...</td>\n",
       "      <td>NaN</td>\n",
       "      <td>NaN</td>\n",
       "      <td>NaN</td>\n",
       "      <td>NaT</td>\n",
       "      <td>NaN</td>\n",
       "      <td>NaT</td>\n",
       "      <td>NaN</td>\n",
       "      <td>NaN</td>\n",
       "      <td>&lt;NA&gt;</td>\n",
       "      <td>NaN</td>\n",
       "    </tr>\n",
       "  </tbody>\n",
       "</table>\n",
       "<p>2260701 rows × 145 columns</p>\n",
       "</div>"
      ],
      "text/plain": [
       "         loan_amount  funded_amount  investor_funds  term  interest_rate  \\\n",
       "0             3600.0         3600.0          3600.0    36          13.99   \n",
       "1            24700.0        24700.0         24700.0    36          11.99   \n",
       "2            20000.0        20000.0         20000.0    60          10.78   \n",
       "3            35000.0        35000.0         35000.0    60          14.85   \n",
       "4            10400.0        10400.0         10400.0    60          22.45   \n",
       "...              ...            ...             ...   ...            ...   \n",
       "2260696      40000.0        40000.0         40000.0    60          10.49   \n",
       "2260697      24000.0        24000.0         24000.0    60          14.49   \n",
       "2260698      14000.0        14000.0         14000.0    60          14.49   \n",
       "2260699          NaN            NaN             NaN  <NA>            NaN   \n",
       "2260700          NaN            NaN             NaN  <NA>            NaN   \n",
       "\n",
       "         installment grade sub_grade  emp_length home_ownership  ...  \\\n",
       "0             123.03     C        C4          10       MORTGAGE  ...   \n",
       "1             820.28     C        C1          10       MORTGAGE  ...   \n",
       "2             432.66     B        B4          10       MORTGAGE  ...   \n",
       "3             829.90     C        C5          10       MORTGAGE  ...   \n",
       "4             289.91     F        F1           3       MORTGAGE  ...   \n",
       "...              ...   ...       ...         ...            ...  ...   \n",
       "2260696       859.56     B        B3           9       MORTGAGE  ...   \n",
       "2260697       564.56     C        C4           6           RENT  ...   \n",
       "2260698       329.33     C        C4          10       MORTGAGE  ...   \n",
       "2260699          NaN   NaN       NaN        <NA>            NaN  ...   \n",
       "2260700          NaN   NaN       NaN        <NA>            NaN  ...   \n",
       "\n",
       "         hardship_last_payment_amount disbursement_method  \\\n",
       "0                                 NaN                Cash   \n",
       "1                                 NaN                Cash   \n",
       "2                                 NaN                Cash   \n",
       "3                                 NaN                Cash   \n",
       "4                                 NaN                Cash   \n",
       "...                               ...                 ...   \n",
       "2260696                           NaN                Cash   \n",
       "2260697                           NaN                Cash   \n",
       "2260698                           NaN                Cash   \n",
       "2260699                           NaN                 NaN   \n",
       "2260700                           NaN                 NaN   \n",
       "\n",
       "        debt_settlement_flag debt_settlement_flag_date settlement_status  \\\n",
       "0                          N                       NaT               NaN   \n",
       "1                          N                       NaT               NaN   \n",
       "2                          N                       NaT               NaN   \n",
       "3                          N                       NaT               NaN   \n",
       "4                          N                       NaT               NaN   \n",
       "...                      ...                       ...               ...   \n",
       "2260696                    N                       NaT               NaN   \n",
       "2260697                    Y                2019-03-01            ACTIVE   \n",
       "2260698                    N                       NaT               NaN   \n",
       "2260699                  NaN                       NaT               NaN   \n",
       "2260700                  NaN                       NaT               NaN   \n",
       "\n",
       "        settlement_date settlement_amount  settlement_percentage  \\\n",
       "0                   NaT               NaN                    NaN   \n",
       "1                   NaT               NaN                    NaN   \n",
       "2                   NaT               NaN                    NaN   \n",
       "3                   NaT               NaN                    NaN   \n",
       "4                   NaT               NaN                    NaN   \n",
       "...                 ...               ...                    ...   \n",
       "2260696             NaT               NaN                    NaN   \n",
       "2260697      2019-03-01           10000.0                  44.82   \n",
       "2260698             NaT               NaN                    NaN   \n",
       "2260699             NaT               NaN                    NaN   \n",
       "2260700             NaT               NaN                    NaN   \n",
       "\n",
       "         settlement_term    year  \n",
       "0                   <NA>  2015.0  \n",
       "1                   <NA>  2015.0  \n",
       "2                   <NA>  2015.0  \n",
       "3                   <NA>  2015.0  \n",
       "4                   <NA>  2015.0  \n",
       "...                  ...     ...  \n",
       "2260696             <NA>  2016.0  \n",
       "2260697                1  2016.0  \n",
       "2260698             <NA>  2016.0  \n",
       "2260699             <NA>     NaN  \n",
       "2260700             <NA>     NaN  \n",
       "\n",
       "[2260701 rows x 145 columns]"
      ]
     },
     "execution_count": 5,
     "metadata": {},
     "output_type": "execute_result"
    }
   ],
   "source": [
    "df"
   ]
  },
  {
   "cell_type": "code",
   "execution_count": 6,
   "id": "08e7df0e",
   "metadata": {
    "execution": {
     "iopub.execute_input": "2025-08-13T13:28:02.778142Z",
     "iopub.status.busy": "2025-08-13T13:28:02.777722Z",
     "iopub.status.idle": "2025-08-13T13:28:04.045631Z",
     "shell.execute_reply": "2025-08-13T13:28:04.044966Z"
    },
    "papermill": {
     "duration": 1.278955,
     "end_time": "2025-08-13T13:28:04.046809",
     "exception": false,
     "start_time": "2025-08-13T13:28:02.767854",
     "status": "completed"
    },
    "tags": []
   },
   "outputs": [
    {
     "data": {
      "text/html": [
       "<iframe\n",
       "    scrolling=\"no\"\n",
       "    width=\"100%\"\n",
       "    height=\"520\"\n",
       "    src=\"iframe_figures/figure_6.html\"\n",
       "    frameborder=\"0\"\n",
       "    allowfullscreen\n",
       "></iframe>\n"
      ]
     },
     "metadata": {},
     "output_type": "display_data"
    }
   ],
   "source": [
    "# =============================================================================\n",
    "# PLOT 1: Loan Amount Distribution - Applied by Borrower\n",
    "# =============================================================================\n",
    "\n",
    "loan_amount_data = df[\"loan_amount\"].to_numpy()\n",
    "\n",
    "fig = go.Figure()\n",
    "fig.add_trace(go.Histogram(\n",
    "    x=loan_amount_data,\n",
    "    nbinsx=50,\n",
    "    name=\"Loan Amount Applied\",\n",
    "    marker_color=\"#F7522F\",\n",
    "    opacity=0.7\n",
    "))\n",
    "\n",
    "fig.update_layout(\n",
    "    title=\"Distribution of Loan Amount Applied by Borrower\",\n",
    "    xaxis_title=\"Loan Amount (USD)\",\n",
    "    yaxis_title=\"Frequency\",\n",
    "    template=\"plotly_white\",\n",
    "    height=500\n",
    ")\n",
    "\n",
    "fig.show()"
   ]
  },
  {
   "cell_type": "code",
   "execution_count": 7,
   "id": "7b311edd",
   "metadata": {
    "execution": {
     "iopub.execute_input": "2025-08-13T13:28:04.067015Z",
     "iopub.status.busy": "2025-08-13T13:28:04.066619Z",
     "iopub.status.idle": "2025-08-13T13:28:04.367787Z",
     "shell.execute_reply": "2025-08-13T13:28:04.366969Z"
    },
    "papermill": {
     "duration": 0.31229,
     "end_time": "2025-08-13T13:28:04.369027",
     "exception": false,
     "start_time": "2025-08-13T13:28:04.056737",
     "status": "completed"
    },
    "tags": []
   },
   "outputs": [
    {
     "data": {
      "text/html": [
       "<iframe\n",
       "    scrolling=\"no\"\n",
       "    width=\"100%\"\n",
       "    height=\"520\"\n",
       "    src=\"iframe_figures/figure_7.html\"\n",
       "    frameborder=\"0\"\n",
       "    allowfullscreen\n",
       "></iframe>\n"
      ]
     },
     "metadata": {},
     "output_type": "display_data"
    }
   ],
   "source": [
    "# =============================================================================\n",
    "# PLOT 2: Loan Amount Distribution - Funded by Lender\n",
    "# =============================================================================\n",
    "\n",
    "funded_amount_data = df[\"funded_amount\"].to_numpy()\n",
    "\n",
    "fig = go.Figure()\n",
    "fig.add_trace(go.Histogram(\n",
    "    x=funded_amount_data,\n",
    "    nbinsx=50,\n",
    "    name=\"Amount Funded\",\n",
    "    marker_color=\"#2F8FF7\",\n",
    "    opacity=0.7\n",
    "))\n",
    "\n",
    "fig.update_layout(\n",
    "    title=\"Distribution of Amount Funded by Lender\",\n",
    "    xaxis_title=\"Funded Amount (USD)\",\n",
    "    yaxis_title=\"Frequency\",\n",
    "    template=\"plotly_white\",\n",
    "    height=500\n",
    ")\n",
    "\n",
    "fig.show()"
   ]
  },
  {
   "cell_type": "code",
   "execution_count": 8,
   "id": "52ee9bdf",
   "metadata": {
    "execution": {
     "iopub.execute_input": "2025-08-13T13:28:04.407061Z",
     "iopub.status.busy": "2025-08-13T13:28:04.406589Z",
     "iopub.status.idle": "2025-08-13T13:28:04.704293Z",
     "shell.execute_reply": "2025-08-13T13:28:04.703552Z"
    },
    "papermill": {
     "duration": 0.315814,
     "end_time": "2025-08-13T13:28:04.705542",
     "exception": false,
     "start_time": "2025-08-13T13:28:04.389728",
     "status": "completed"
    },
    "tags": []
   },
   "outputs": [
    {
     "data": {
      "text/html": [
       "<iframe\n",
       "    scrolling=\"no\"\n",
       "    width=\"100%\"\n",
       "    height=\"520\"\n",
       "    src=\"iframe_figures/figure_8.html\"\n",
       "    frameborder=\"0\"\n",
       "    allowfullscreen\n",
       "></iframe>\n"
      ]
     },
     "metadata": {},
     "output_type": "display_data"
    }
   ],
   "source": [
    "# =============================================================================\n",
    "# PLOT 3: Loan Amount Distribution - Committed by Investors\n",
    "# =============================================================================\n",
    "\n",
    "investor_funds_data = df[\"investor_funds\"].to_numpy()\n",
    "\n",
    "fig = go.Figure()\n",
    "fig.add_trace(go.Histogram(\n",
    "    x=investor_funds_data,\n",
    "    nbinsx=50,\n",
    "    name=\"Investor Funds\",\n",
    "    marker_color=\"#2EAD46\",\n",
    "    opacity=0.7\n",
    "))\n",
    "\n",
    "fig.update_layout(\n",
    "    title=\"Distribution of Total Amount Committed by Investors\",\n",
    "    xaxis_title=\"Investor Funds (USD)\",\n",
    "    yaxis_title=\"Frequency\",\n",
    "    template=\"plotly_white\",\n",
    "    height=500\n",
    ")\n",
    "\n",
    "fig.show()"
   ]
  },
  {
   "cell_type": "code",
   "execution_count": 9,
   "id": "0a530aea",
   "metadata": {
    "execution": {
     "iopub.execute_input": "2025-08-13T13:28:04.727467Z",
     "iopub.status.busy": "2025-08-13T13:28:04.727239Z",
     "iopub.status.idle": "2025-08-13T13:28:05.000404Z",
     "shell.execute_reply": "2025-08-13T13:28:04.999715Z"
    },
    "papermill": {
     "duration": 0.285162,
     "end_time": "2025-08-13T13:28:05.001543",
     "exception": false,
     "start_time": "2025-08-13T13:28:04.716381",
     "status": "completed"
    },
    "tags": []
   },
   "outputs": [
    {
     "data": {
      "text/html": [
       "<iframe\n",
       "    scrolling=\"no\"\n",
       "    width=\"100%\"\n",
       "    height=\"520\"\n",
       "    src=\"iframe_figures/figure_9.html\"\n",
       "    frameborder=\"0\"\n",
       "    allowfullscreen\n",
       "></iframe>\n"
      ]
     },
     "metadata": {},
     "output_type": "display_data"
    }
   ],
   "source": [
    "# =============================================================================\n",
    "# PLOT 4: Loan Issuance by Year - Animated Bar Chart\n",
    "# =============================================================================\n",
    "\n",
    "yearly_stats = df.groupby('year').agg({'loan_amount': 'mean'}).reset_index()\n",
    "yearly_stats.columns = ['year', 'avg_loan_amount']\n",
    "\n",
    "fig = px.bar(\n",
    "    yearly_stats,\n",
    "    x='year',\n",
    "    y='avg_loan_amount',\n",
    "    title='Average Loan Amount Issued by Year',\n",
    "    labels={'avg_loan_amount': 'Average Loan Amount (USD)', 'year': 'Year'},\n",
    "    color='avg_loan_amount',\n",
    "    color_continuous_scale='viridis'\n",
    ")\n",
    "\n",
    "fig.update_layout(\n",
    "    template=\"plotly_white\",\n",
    "    height=500,\n",
    "    xaxis=dict(tickmode='linear')\n",
    ")\n",
    "\n",
    "fig.show()"
   ]
  },
  {
   "cell_type": "code",
   "execution_count": 10,
   "id": "1b81c204",
   "metadata": {
    "execution": {
     "iopub.execute_input": "2025-08-13T13:28:05.022262Z",
     "iopub.status.busy": "2025-08-13T13:28:05.022033Z",
     "iopub.status.idle": "2025-08-13T13:28:05.794373Z",
     "shell.execute_reply": "2025-08-13T13:28:05.793443Z"
    },
    "papermill": {
     "duration": 0.783819,
     "end_time": "2025-08-13T13:28:05.795696",
     "exception": false,
     "start_time": "2025-08-13T13:28:05.011877",
     "status": "completed"
    },
    "tags": []
   },
   "outputs": [
    {
     "name": "stdout",
     "output_type": "stream",
     "text": [
      "Phase 2: Good vs Bad Loan Classification\n",
      "Loan distribution: loan_condition\n",
      "Good Loan    1957056\n",
      "Bad Loan      303612\n",
      "Name: count, dtype: int64\n"
     ]
    }
   ],
   "source": [
    "# =============================================================================\n",
    "# PHASE 2: GOOD VS BAD LOAN ANALYSIS\n",
    "# =============================================================================\n",
    "\n",
    "print(\"Phase 2: Good vs Bad Loan Classification\")\n",
    "\n",
    "# Define bad loan statuses\n",
    "bad_loan = [\"Charged Off\", \"Default\", \"Does not meet the credit policy. Status:Charged Off\", \n",
    "            \"In Grace Period\", \"Late (16-30 days)\", \"Late (31-120 days)\"]\n",
    "\n",
    "# Create loan condition classification\n",
    "df['loan_condition'] = df['loan_status'].apply(\n",
    "    lambda status: 'Bad Loan' if status in bad_loan else 'Good Loan'\n",
    ")\n",
    "\n",
    "# Create binary loan condition for modeling\n",
    "df['loan_condition_int'] = df['loan_condition'].apply(\n",
    "    lambda x: 1 if x == 'Bad Loan' else 0\n",
    ")\n",
    "\n",
    "print(f\"Loan distribution: {df['loan_condition'].value_counts()}\")"
   ]
  },
  {
   "cell_type": "code",
   "execution_count": 11,
   "id": "5fd07f37",
   "metadata": {
    "execution": {
     "iopub.execute_input": "2025-08-13T13:28:05.817302Z",
     "iopub.status.busy": "2025-08-13T13:28:05.816760Z",
     "iopub.status.idle": "2025-08-13T13:28:05.987390Z",
     "shell.execute_reply": "2025-08-13T13:28:05.986784Z"
    },
    "papermill": {
     "duration": 0.182298,
     "end_time": "2025-08-13T13:28:05.988444",
     "exception": false,
     "start_time": "2025-08-13T13:28:05.806146",
     "status": "completed"
    },
    "tags": []
   },
   "outputs": [
    {
     "data": {
      "text/html": [
       "<iframe\n",
       "    scrolling=\"no\"\n",
       "    width=\"100%\"\n",
       "    height=\"520\"\n",
       "    src=\"iframe_figures/figure_11.html\"\n",
       "    frameborder=\"0\"\n",
       "    allowfullscreen\n",
       "></iframe>\n"
      ]
     },
     "metadata": {},
     "output_type": "display_data"
    }
   ],
   "source": [
    "# =============================================================================\n",
    "# PLOT 5: Loan Condition Overview - Interactive Donut Chart\n",
    "# =============================================================================\n",
    "\n",
    "loan_condition_counts = df[\"loan_condition\"].value_counts()\n",
    "condition_labels = loan_condition_counts.index.to_numpy()\n",
    "condition_values = loan_condition_counts.values\n",
    "\n",
    "fig = go.Figure(data=[go.Pie(\n",
    "    labels=condition_labels,\n",
    "    values=condition_values,\n",
    "    hole=0.4,\n",
    "    marker_colors=[\"#3791D7\", \"#D72626\"],\n",
    "    textinfo='label+percent',\n",
    "    textfont_size=12\n",
    ")])\n",
    "\n",
    "fig.update_layout(\n",
    "    title=\"Distribution of Loan Conditions\",\n",
    "    template=\"plotly_white\",\n",
    "    height=500,\n",
    "    annotations=[dict(text='Loan<br>Portfolio', x=0.5, y=0.5, font_size=16, showarrow=False)]\n",
    ")\n",
    "\n",
    "fig.show()"
   ]
  },
  {
   "cell_type": "code",
   "execution_count": 12,
   "id": "c722afd6",
   "metadata": {
    "execution": {
     "iopub.execute_input": "2025-08-13T13:28:06.009390Z",
     "iopub.status.busy": "2025-08-13T13:28:06.009143Z",
     "iopub.status.idle": "2025-08-13T13:28:06.299715Z",
     "shell.execute_reply": "2025-08-13T13:28:06.299090Z"
    },
    "papermill": {
     "duration": 0.302177,
     "end_time": "2025-08-13T13:28:06.300814",
     "exception": false,
     "start_time": "2025-08-13T13:28:05.998637",
     "status": "completed"
    },
    "tags": []
   },
   "outputs": [
    {
     "data": {
      "text/html": [
       "<iframe\n",
       "    scrolling=\"no\"\n",
       "    width=\"100%\"\n",
       "    height=\"520\"\n",
       "    src=\"iframe_figures/figure_12.html\"\n",
       "    frameborder=\"0\"\n",
       "    allowfullscreen\n",
       "></iframe>\n"
      ]
     },
     "metadata": {},
     "output_type": "display_data"
    }
   ],
   "source": [
    "# =============================================================================\n",
    "# PLOT 6: Loan Condition by Year - Stacked Bar Chart\n",
    "# =============================================================================\n",
    "\n",
    "yearly_condition = df.groupby(['year', 'loan_condition']).size().reset_index(name='count')\n",
    "yearly_condition['percentage'] = yearly_condition.groupby('year')['count'].transform(lambda x: x / x.sum() * 100)\n",
    "\n",
    "fig = px.bar(\n",
    "    yearly_condition,\n",
    "    x='year',\n",
    "    y='percentage',\n",
    "    color='loan_condition',\n",
    "    title='Loan Condition Distribution by Year (%)',\n",
    "    labels={'percentage': 'Percentage (%)', 'year': 'Year'},\n",
    "    color_discrete_map={'Good Loan': '#3791D7', 'Bad Loan': '#E01E1B'}\n",
    ")\n",
    "\n",
    "fig.update_layout(\n",
    "    template=\"plotly_white\",\n",
    "    height=500,\n",
    "    barmode='stack'\n",
    ")\n",
    "\n",
    "fig.show()"
   ]
  },
  {
   "cell_type": "code",
   "execution_count": 13,
   "id": "b2c8a982",
   "metadata": {
    "execution": {
     "iopub.execute_input": "2025-08-13T13:28:06.322036Z",
     "iopub.status.busy": "2025-08-13T13:28:06.321815Z",
     "iopub.status.idle": "2025-08-13T13:28:06.466336Z",
     "shell.execute_reply": "2025-08-13T13:28:06.465358Z"
    },
    "papermill": {
     "duration": 0.156562,
     "end_time": "2025-08-13T13:28:06.467643",
     "exception": false,
     "start_time": "2025-08-13T13:28:06.311081",
     "status": "completed"
    },
    "tags": []
   },
   "outputs": [
    {
     "name": "stdout",
     "output_type": "stream",
     "text": [
      "Phase 3: Regional Analysis Setup\n",
      "Regional distribution: region\n",
      "SouthEast    550165\n",
      "NorthEast    519095\n",
      "West         515469\n",
      "MidWest      403150\n",
      "SouthWest    272789\n",
      "Name: count, dtype: int64\n"
     ]
    }
   ],
   "source": [
    "# =============================================================================\n",
    "# REGIONAL ANALYSIS SETUP\n",
    "# =============================================================================\n",
    "\n",
    "print(\"Phase 3: Regional Analysis Setup\")\n",
    "\n",
    "# Define regional classifications\n",
    "west = ['CA', 'OR', 'UT','WA', 'CO', 'NV', 'AK', 'MT', 'HI', 'WY', 'ID']\n",
    "south_west = ['AZ', 'TX', 'NM', 'OK']\n",
    "south_east = ['GA', 'NC', 'VA', 'FL', 'KY', 'SC', 'LA', 'AL', 'WV', 'DC', 'AR', 'DE', 'MS', 'TN']\n",
    "mid_west = ['IL', 'MO', 'MN', 'OH', 'WI', 'KS', 'MI', 'SD', 'IA', 'NE', 'IN', 'ND']\n",
    "north_east = ['CT', 'NY', 'PA', 'NJ', 'RI','MA', 'MD', 'VT', 'NH', 'ME']\n",
    "\n",
    "def assign_region(state):\n",
    "    if state in west:\n",
    "        return 'West'\n",
    "    elif state in south_west:\n",
    "        return 'SouthWest'\n",
    "    elif state in south_east:\n",
    "        return 'SouthEast'\n",
    "    elif state in mid_west:\n",
    "        return 'MidWest'\n",
    "    elif state in north_east:\n",
    "        return 'NorthEast'\n",
    "    else:\n",
    "        return 'Unknown'\n",
    "\n",
    "df['region'] = df['addr_state'].apply(assign_region)\n",
    "\n",
    "\n",
    "print(f\"Regional distribution: {df['region'].value_counts()}\")"
   ]
  },
  {
   "cell_type": "code",
   "execution_count": 14,
   "id": "4f57b45a",
   "metadata": {
    "execution": {
     "iopub.execute_input": "2025-08-13T13:28:06.489313Z",
     "iopub.status.busy": "2025-08-13T13:28:06.488775Z",
     "iopub.status.idle": "2025-08-13T13:28:06.761907Z",
     "shell.execute_reply": "2025-08-13T13:28:06.761315Z"
    },
    "papermill": {
     "duration": 0.284874,
     "end_time": "2025-08-13T13:28:06.763102",
     "exception": false,
     "start_time": "2025-08-13T13:28:06.478228",
     "status": "completed"
    },
    "tags": []
   },
   "outputs": [
    {
     "data": {
      "text/html": [
       "<iframe\n",
       "    scrolling=\"no\"\n",
       "    width=\"100%\"\n",
       "    height=\"520\"\n",
       "    src=\"iframe_figures/figure_14.html\"\n",
       "    frameborder=\"0\"\n",
       "    allowfullscreen\n",
       "></iframe>\n"
      ]
     },
     "metadata": {},
     "output_type": "display_data"
    }
   ],
   "source": [
    "# =============================================================================\n",
    "# PLOT 7: Loans Issued by Region Over Time\n",
    "# =============================================================================\n",
    "\n",
    "regional_loans = df.groupby(['year', 'region']).agg({'loan_amount': 'sum'}).reset_index()\n",
    "regional_loans.columns = ['year', 'region', 'total_loan_amount']\n",
    "regional_loans['total_loan_amount'] = regional_loans['total_loan_amount'] / 1000  # Convert to thousands\n",
    "\n",
    "fig = go.Figure()\n",
    "\n",
    "regions = regional_loans['region'].unique()\n",
    "colors = ['#1f77b4', '#ff7f0e', '#2ca02c', '#d62728', '#9467bd']\n",
    "\n",
    "for i, region in enumerate(regions):\n",
    "    region_data = regional_loans[regional_loans['region'] == region]\n",
    "    fig.add_trace(go.Scatter(\n",
    "        x=region_data['year'].to_numpy(),\n",
    "        y=region_data['total_loan_amount'].to_numpy(),\n",
    "        mode='lines+markers',\n",
    "        name=region,\n",
    "        line=dict(color=colors[i % len(colors)], width=3),\n",
    "        marker=dict(size=6)\n",
    "    ))\n",
    "\n",
    "fig.update_layout(\n",
    "    title='Total Loans Issued by Region Over Time',\n",
    "    xaxis_title='Year',\n",
    "    yaxis_title='Total Loan Amount (Thousands USD)',\n",
    "    template=\"plotly_white\",\n",
    "    height=500\n",
    ")\n",
    "\n",
    "fig.show()"
   ]
  },
  {
   "cell_type": "code",
   "execution_count": 15,
   "id": "7da0e023",
   "metadata": {
    "execution": {
     "iopub.execute_input": "2025-08-13T13:28:06.784570Z",
     "iopub.status.busy": "2025-08-13T13:28:06.784352Z",
     "iopub.status.idle": "2025-08-13T13:28:07.033957Z",
     "shell.execute_reply": "2025-08-13T13:28:07.033318Z"
    },
    "papermill": {
     "duration": 0.261509,
     "end_time": "2025-08-13T13:28:07.035141",
     "exception": false,
     "start_time": "2025-08-13T13:28:06.773632",
     "status": "completed"
    },
    "tags": []
   },
   "outputs": [
    {
     "data": {
      "text/html": [
       "<iframe\n",
       "    scrolling=\"no\"\n",
       "    width=\"100%\"\n",
       "    height=\"520\"\n",
       "    src=\"iframe_figures/figure_15.html\"\n",
       "    frameborder=\"0\"\n",
       "    allowfullscreen\n",
       "></iframe>\n"
      ]
     },
     "metadata": {},
     "output_type": "display_data"
    }
   ],
   "source": [
    "# =============================================================================\n",
    "# PLOT 8: Average Interest Rate by Region Over Time\n",
    "# =============================================================================\n",
    "\n",
    "regional_interest = df.groupby(['year', 'region']).agg({'interest_rate': 'mean'}).reset_index()\n",
    "regional_interest.columns = ['year', 'region', 'avg_interest_rate']\n",
    "\n",
    "fig = go.Figure()\n",
    "\n",
    "for i, region in enumerate(regions):\n",
    "    region_data = regional_interest[regional_interest['region'] == region]\n",
    "    fig.add_trace(go.Scatter(\n",
    "        x=region_data['year'].to_numpy(),\n",
    "        y=region_data['avg_interest_rate'].to_numpy(),\n",
    "        mode='lines+markers',\n",
    "        name=region,\n",
    "        line=dict(color=colors[i % len(colors)], width=3),\n",
    "        marker=dict(size=6),\n",
    "        # fill='tonexty' if i > 0 else None\n",
    "    ))\n",
    "\n",
    "fig.update_layout(\n",
    "    title='Average Interest Rate by Region Over Time',\n",
    "    xaxis_title='Year',\n",
    "    yaxis_title='Average Interest Rate (%)',\n",
    "    template=\"plotly_white\",\n",
    "    height=500\n",
    ")\n",
    "\n",
    "fig.show()"
   ]
  },
  {
   "cell_type": "code",
   "execution_count": 16,
   "id": "efa0514d",
   "metadata": {
    "execution": {
     "iopub.execute_input": "2025-08-13T13:28:07.101741Z",
     "iopub.status.busy": "2025-08-13T13:28:07.101470Z",
     "iopub.status.idle": "2025-08-13T13:28:07.353821Z",
     "shell.execute_reply": "2025-08-13T13:28:07.353187Z"
    },
    "papermill": {
     "duration": 0.265604,
     "end_time": "2025-08-13T13:28:07.354982",
     "exception": false,
     "start_time": "2025-08-13T13:28:07.089378",
     "status": "completed"
    },
    "tags": []
   },
   "outputs": [
    {
     "data": {
      "text/html": [
       "<iframe\n",
       "    scrolling=\"no\"\n",
       "    width=\"100%\"\n",
       "    height=\"520\"\n",
       "    src=\"iframe_figures/figure_16.html\"\n",
       "    frameborder=\"0\"\n",
       "    allowfullscreen\n",
       "></iframe>\n"
      ]
     },
     "metadata": {},
     "output_type": "display_data"
    }
   ],
   "source": [
    "# =============================================================================\n",
    "# PLOT 9: Average Employment Length by Region Over Time\n",
    "# =============================================================================\n",
    "\n",
    "regional_employment = df.groupby(['year', 'region']).agg({'emp_length': 'mean'}).reset_index()\n",
    "regional_employment.columns = ['year', 'region', 'avg_emp_length']\n",
    "\n",
    "fig = go.Figure()\n",
    "\n",
    "for i, region in enumerate(regions):\n",
    "    region_data = regional_employment[regional_employment['region'] == region]\n",
    "    fig.add_trace(go.Scatter(\n",
    "        x=region_data['year'].to_numpy(),\n",
    "        y=region_data['avg_emp_length'].to_numpy(),\n",
    "        mode='lines+markers',\n",
    "        name=region,\n",
    "        line=dict(color=colors[i % len(colors)], width=3),\n",
    "        marker=dict(size=6),\n",
    "        # fill='tonexty' if i > 0 else None\n",
    "    ))\n",
    "\n",
    "fig.update_layout(\n",
    "    title='Average Employment Length by Region Over Time',\n",
    "    xaxis_title='Year',\n",
    "    yaxis_title='Average Employment Length (Years)',\n",
    "    template=\"plotly_white\",\n",
    "    height=500\n",
    ")\n",
    "\n",
    "fig.show()"
   ]
  },
  {
   "cell_type": "code",
   "execution_count": 17,
   "id": "9032a2d2",
   "metadata": {
    "execution": {
     "iopub.execute_input": "2025-08-13T13:28:07.381756Z",
     "iopub.status.busy": "2025-08-13T13:28:07.381538Z",
     "iopub.status.idle": "2025-08-13T13:28:07.626952Z",
     "shell.execute_reply": "2025-08-13T13:28:07.626279Z"
    },
    "papermill": {
     "duration": 0.257588,
     "end_time": "2025-08-13T13:28:07.628175",
     "exception": false,
     "start_time": "2025-08-13T13:28:07.370587",
     "status": "completed"
    },
    "tags": []
   },
   "outputs": [
    {
     "data": {
      "text/html": [
       "<iframe\n",
       "    scrolling=\"no\"\n",
       "    width=\"100%\"\n",
       "    height=\"520\"\n",
       "    src=\"iframe_figures/figure_17.html\"\n",
       "    frameborder=\"0\"\n",
       "    allowfullscreen\n",
       "></iframe>\n"
      ]
     },
     "metadata": {},
     "output_type": "display_data"
    }
   ],
   "source": [
    "# =============================================================================\n",
    "# PLOT 10: Average Debt-to-Income by Region Over Time\n",
    "# =============================================================================\n",
    "\n",
    "regional_dti = df.groupby(['year', 'region']).agg({'dti': 'mean'}).reset_index()\n",
    "regional_dti.columns = ['year', 'region', 'avg_dti']\n",
    "\n",
    "fig = go.Figure()\n",
    "\n",
    "for i, region in enumerate(regions):\n",
    "    region_data = regional_dti[regional_dti['region'] == region]\n",
    "    fig.add_trace(go.Scatter(\n",
    "        x=region_data['year'].to_numpy(),\n",
    "        y=region_data['avg_dti'].to_numpy(),\n",
    "        mode='lines+markers',\n",
    "        name=region,\n",
    "        line=dict(color=colors[i % len(colors)], width=3),\n",
    "        marker=dict(size=6),\n",
    "        # fill='tonexty' if i > 0 else None\n",
    "    ))\n",
    "\n",
    "fig.update_layout(\n",
    "    title='Average Debt-to-Income Ratio by Region Over Time',\n",
    "    xaxis_title='Year',\n",
    "    yaxis_title='Average DTI Ratio',\n",
    "    template=\"plotly_white\",\n",
    "    height=500\n",
    ")\n",
    "\n",
    "fig.show()"
   ]
  },
  {
   "cell_type": "code",
   "execution_count": 18,
   "id": "379bdd7c",
   "metadata": {
    "execution": {
     "iopub.execute_input": "2025-08-13T13:28:07.650674Z",
     "iopub.status.busy": "2025-08-13T13:28:07.650241Z",
     "iopub.status.idle": "2025-08-13T13:28:07.904746Z",
     "shell.execute_reply": "2025-08-13T13:28:07.904007Z"
    },
    "papermill": {
     "duration": 0.266616,
     "end_time": "2025-08-13T13:28:07.905883",
     "exception": false,
     "start_time": "2025-08-13T13:28:07.639267",
     "status": "completed"
    },
    "tags": []
   },
   "outputs": [
    {
     "data": {
      "text/html": [
       "<iframe\n",
       "    scrolling=\"no\"\n",
       "    width=\"100%\"\n",
       "    height=\"520\"\n",
       "    src=\"iframe_figures/figure_18.html\"\n",
       "    frameborder=\"0\"\n",
       "    allowfullscreen\n",
       "></iframe>\n"
      ]
     },
     "metadata": {},
     "output_type": "display_data"
    }
   ],
   "source": [
    "# =============================================================================\n",
    "# PLOT 11: Average Annual Income by Region Over Time\n",
    "# =============================================================================\n",
    "\n",
    "regional_income = df.groupby(['year', 'region']).agg({'annual_income': 'mean'}).reset_index()\n",
    "regional_income.columns = ['year', 'region', 'avg_income']\n",
    "\n",
    "fig = go.Figure()\n",
    "\n",
    "for i, region in enumerate(regions):\n",
    "    region_data = regional_income[regional_income['region'] == region]\n",
    "    fig.add_trace(go.Scatter(\n",
    "        x=region_data['year'].to_numpy(),\n",
    "        y=region_data['avg_income'].to_numpy(),\n",
    "        mode='lines+markers',\n",
    "        name=region,\n",
    "        line=dict(color=colors[i % len(colors)], width=3),\n",
    "        marker=dict(size=6)\n",
    "    ))\n",
    "\n",
    "fig.update_layout(\n",
    "    title='Average Annual Income by Region Over Time',\n",
    "    xaxis_title='Year',\n",
    "    yaxis_title='Average Annual Income (USD)',\n",
    "    template=\"plotly_white\",\n",
    "    height=500\n",
    ")\n",
    "\n",
    "fig.show()"
   ]
  },
  {
   "cell_type": "code",
   "execution_count": 19,
   "id": "300fdcf9",
   "metadata": {
    "execution": {
     "iopub.execute_input": "2025-08-13T13:28:07.928560Z",
     "iopub.status.busy": "2025-08-13T13:28:07.928117Z",
     "iopub.status.idle": "2025-08-13T13:28:08.215091Z",
     "shell.execute_reply": "2025-08-13T13:28:08.214460Z"
    },
    "papermill": {
     "duration": 0.299348,
     "end_time": "2025-08-13T13:28:08.216372",
     "exception": false,
     "start_time": "2025-08-13T13:28:07.917024",
     "status": "completed"
    },
    "tags": []
   },
   "outputs": [
    {
     "data": {
      "text/html": [
       "<iframe\n",
       "    scrolling=\"no\"\n",
       "    width=\"100%\"\n",
       "    height=\"620\"\n",
       "    src=\"iframe_figures/figure_19.html\"\n",
       "    frameborder=\"0\"\n",
       "    allowfullscreen\n",
       "></iframe>\n"
      ]
     },
     "metadata": {},
     "output_type": "display_data"
    }
   ],
   "source": [
    "# =============================================================================\n",
    "# PLOT 12: Regional Performance Radar Chart\n",
    "# =============================================================================\n",
    "\n",
    "# Calculate regional performance metrics\n",
    "regional_metrics = df.groupby('region').agg({\n",
    "    'loan_amount': 'mean',\n",
    "    'interest_rate': 'mean',\n",
    "    'annual_income': 'mean',\n",
    "    'dti': 'mean',\n",
    "    'emp_length': 'mean',\n",
    "    'loan_condition_int': 'mean'\n",
    "}).reset_index()\n",
    "\n",
    "# Normalize metrics for radar chart (0-100 scale)\n",
    "for col in ['loan_amount', 'interest_rate', 'annual_income', 'dti', 'emp_length', 'loan_condition_int']:\n",
    "    max_val = regional_metrics[col].max()\n",
    "    min_val = regional_metrics[col].min()\n",
    "    regional_metrics[f'{col}_norm'] = 100 * (regional_metrics[col] - min_val) / (max_val - min_val)\n",
    "\n",
    "fig = go.Figure()\n",
    "\n",
    "categories = ['Avg Loan Amount', 'Interest Rate', 'Annual Income', 'DTI Ratio', 'Employment Length', 'Default Rate']\n",
    "\n",
    "for i, region in enumerate(regional_metrics['region']):\n",
    "    region_row = regional_metrics[regional_metrics['region'] == region].iloc[0]\n",
    "    values = [\n",
    "        region_row['loan_amount_norm'],\n",
    "        region_row['interest_rate_norm'],\n",
    "        region_row['annual_income_norm'],\n",
    "        region_row['dti_norm'],\n",
    "        region_row['emp_length_norm'],\n",
    "        region_row['loan_condition_int_norm']\n",
    "    ]\n",
    "    \n",
    "    fig.add_trace(go.Scatterpolar(\n",
    "        r=values,\n",
    "        theta=categories,\n",
    "        fill='toself',\n",
    "        name=region,\n",
    "        line_color=colors[i % len(colors)]\n",
    "    ))\n",
    "\n",
    "fig.update_layout(\n",
    "    polar=dict(\n",
    "        radialaxis=dict(\n",
    "            visible=True,\n",
    "            range=[0, 100]\n",
    "        )),\n",
    "    title=\"Regional Performance Comparison (Normalized Metrics)\",\n",
    "    template=\"plotly_white\",\n",
    "    height=600\n",
    ")\n",
    "\n",
    "fig.show()"
   ]
  },
  {
   "cell_type": "code",
   "execution_count": 20,
   "id": "27a04c35",
   "metadata": {
    "execution": {
     "iopub.execute_input": "2025-08-13T13:28:08.239158Z",
     "iopub.status.busy": "2025-08-13T13:28:08.238940Z",
     "iopub.status.idle": "2025-08-13T13:28:08.338206Z",
     "shell.execute_reply": "2025-08-13T13:28:08.337534Z"
    },
    "papermill": {
     "duration": 0.111492,
     "end_time": "2025-08-13T13:28:08.339303",
     "exception": false,
     "start_time": "2025-08-13T13:28:08.227811",
     "status": "completed"
    },
    "tags": []
   },
   "outputs": [
    {
     "name": "stdout",
     "output_type": "stream",
     "text": [
      "Phase 4: Geographic Analysis\n"
     ]
    },
    {
     "data": {
      "text/html": [
       "<iframe\n",
       "    scrolling=\"no\"\n",
       "    width=\"100%\"\n",
       "    height=\"520\"\n",
       "    src=\"iframe_figures/figure_20.html\"\n",
       "    frameborder=\"0\"\n",
       "    allowfullscreen\n",
       "></iframe>\n"
      ]
     },
     "metadata": {},
     "output_type": "display_data"
    }
   ],
   "source": [
    "# =============================================================================\n",
    "# PHASE 4: GEOGRAPHIC VISUALIZATION\n",
    "# =============================================================================\n",
    "\n",
    "print(\"Phase 4: Geographic Analysis\")\n",
    "\n",
    "# Prepare state-level data for geographic visualization\n",
    "state_operations = df.groupby('addr_state').agg({\n",
    "    'loan_amount': 'sum',\n",
    "    'interest_rate': 'mean',\n",
    "    'annual_income': 'mean'\n",
    "}).reset_index()\n",
    "state_operations.columns = ['state_code', 'total_loans', 'avg_interest_rate', 'avg_annual_income']\n",
    "\n",
    "# =============================================================================\n",
    "# PLOT 13: Interactive US Map - Business Operations\n",
    "# =============================================================================\n",
    "\n",
    "fig = go.Figure(data=go.Choropleth(\n",
    "    locations=state_operations['state_code'].to_numpy(),\n",
    "    z=state_operations['total_loans'].to_numpy(),\n",
    "    locationmode='USA-states',\n",
    "    colorscale='Viridis',\n",
    "    text=state_operations['state_code'].to_numpy(),\n",
    "    hovertemplate='<b>%{text}</b><br>' +\n",
    "                  'Total Loans: $%{z:,.0f}<br>' +\n",
    "                  '<extra></extra>',\n",
    "    colorbar_title=\"Total Loan Amount (USD)\"\n",
    "))\n",
    "\n",
    "fig.update_layout(\n",
    "    title_text='Lending Club Loan Volume by State - Business Operations View',\n",
    "    geo_scope='usa',\n",
    "    template=\"plotly_white\",\n",
    "    height=500\n",
    ")\n",
    "\n",
    "fig.show()"
   ]
  },
  {
   "cell_type": "code",
   "execution_count": 21,
   "id": "7864434f",
   "metadata": {
    "execution": {
     "iopub.execute_input": "2025-08-13T13:28:08.363332Z",
     "iopub.status.busy": "2025-08-13T13:28:08.363077Z",
     "iopub.status.idle": "2025-08-13T13:28:08.455862Z",
     "shell.execute_reply": "2025-08-13T13:28:08.455126Z"
    },
    "papermill": {
     "duration": 0.106639,
     "end_time": "2025-08-13T13:28:08.457112",
     "exception": false,
     "start_time": "2025-08-13T13:28:08.350473",
     "status": "completed"
    },
    "tags": []
   },
   "outputs": [
    {
     "data": {
      "text/html": [
       "<iframe\n",
       "    scrolling=\"no\"\n",
       "    width=\"100%\"\n",
       "    height=\"520\"\n",
       "    src=\"iframe_figures/figure_21.html\"\n",
       "    frameborder=\"0\"\n",
       "    allowfullscreen\n",
       "></iframe>\n"
      ]
     },
     "metadata": {},
     "output_type": "display_data"
    }
   ],
   "source": [
    "# =============================================================================\n",
    "# PLOT 14: Interactive US Map - Risk Assessment\n",
    "# =============================================================================\n",
    "\n",
    "# Calculate default rates by state\n",
    "state_risk = df.groupby('addr_state').agg({\n",
    "    'loan_condition_int': 'mean',\n",
    "    'dti': 'mean',\n",
    "    'emp_length': 'mean'\n",
    "}).reset_index()\n",
    "state_risk.columns = ['state_code', 'default_rate', 'avg_dti', 'avg_emp_length']\n",
    "\n",
    "fig = go.Figure(data=go.Choropleth(\n",
    "    locations=state_risk['state_code'].to_numpy(),\n",
    "    z=state_risk['default_rate'].to_numpy() * 100,\n",
    "    locationmode='USA-states',\n",
    "    colorscale='Reds',\n",
    "    text=state_risk['state_code'].to_numpy(),\n",
    "    hovertemplate='<b>%{text}</b><br>' +\n",
    "                  'Default Rate: %{z:.2f}%<br>' +\n",
    "                  '<extra></extra>',\n",
    "    colorbar_title=\"Default Rate (%)\"\n",
    "))\n",
    "\n",
    "fig.update_layout(\n",
    "    title_text='Lending Club Default Rates by State - Risk Assessment View',\n",
    "    geo_scope='usa',\n",
    "    template=\"plotly_white\",\n",
    "    height=500\n",
    ")\n",
    "\n",
    "fig.show()"
   ]
  },
  {
   "cell_type": "code",
   "execution_count": 22,
   "id": "3d407168",
   "metadata": {
    "execution": {
     "iopub.execute_input": "2025-08-13T13:28:08.479765Z",
     "iopub.status.busy": "2025-08-13T13:28:08.479546Z",
     "iopub.status.idle": "2025-08-13T13:28:08.784153Z",
     "shell.execute_reply": "2025-08-13T13:28:08.783275Z"
    },
    "papermill": {
     "duration": 0.316952,
     "end_time": "2025-08-13T13:28:08.785293",
     "exception": false,
     "start_time": "2025-08-13T13:28:08.468341",
     "status": "completed"
    },
    "tags": []
   },
   "outputs": [
    {
     "name": "stdout",
     "output_type": "stream",
     "text": [
      "Phase 5: Income Category Analysis\n",
      "Income category distribution: income_category\n",
      "Low       1813511\n",
      "Medium     393761\n",
      "High        53392\n",
      "Name: count, dtype: int64\n"
     ]
    }
   ],
   "source": [
    "# =============================================================================\n",
    "# PHASE 5: INCOME CATEGORY ANALYSIS\n",
    "# =============================================================================\n",
    "\n",
    "print(\"Phase 5: Income Category Analysis\")\n",
    "\n",
    "# Create income categories\n",
    "df['income_category'] = np.nan\n",
    "df.loc[df['annual_income'] <= 100000, 'income_category'] = 'Low'\n",
    "df.loc[(df['annual_income'] > 100000) & (df['annual_income'] <= 200000), 'income_category'] = 'Medium'\n",
    "df.loc[df['annual_income'] > 200000, 'income_category'] = 'High'\n",
    "\n",
    "print(f\"Income category distribution: {df['income_category'].value_counts()}\")"
   ]
  },
  {
   "cell_type": "code",
   "execution_count": 23,
   "id": "e5e7b24a",
   "metadata": {
    "execution": {
     "iopub.execute_input": "2025-08-13T13:28:08.809313Z",
     "iopub.status.busy": "2025-08-13T13:28:08.808773Z",
     "iopub.status.idle": "2025-08-13T13:28:11.061398Z",
     "shell.execute_reply": "2025-08-13T13:28:11.060717Z"
    },
    "papermill": {
     "duration": 2.26529,
     "end_time": "2025-08-13T13:28:11.062662",
     "exception": false,
     "start_time": "2025-08-13T13:28:08.797372",
     "status": "completed"
    },
    "tags": []
   },
   "outputs": [
    {
     "data": {
      "text/html": [
       "<iframe\n",
       "    scrolling=\"no\"\n",
       "    width=\"100%\"\n",
       "    height=\"520\"\n",
       "    src=\"iframe_figures/figure_23.html\"\n",
       "    frameborder=\"0\"\n",
       "    allowfullscreen\n",
       "></iframe>\n"
      ]
     },
     "metadata": {},
     "output_type": "display_data"
    }
   ],
   "source": [
    "# =============================================================================\n",
    "# PLOT 15: Loan Amount by Income Category\n",
    "# =============================================================================\n",
    "\n",
    "income_loan_data = []\n",
    "for category in ['Low', 'Medium', 'High']:\n",
    "    category_data = df[df['income_category'] == category]['loan_amount'].to_numpy()\n",
    "    income_loan_data.append(category_data)\n",
    "\n",
    "fig = go.Figure()\n",
    "\n",
    "for i, category in enumerate(['Low', 'Medium', 'High']):\n",
    "    fig.add_trace(go.Violin(\n",
    "        y=income_loan_data[i],\n",
    "        name=category,\n",
    "        box_visible=True,\n",
    "        meanline_visible=True,\n",
    "        fillcolor=colors[i],\n",
    "        opacity=0.6\n",
    "    ))\n",
    "\n",
    "fig.update_layout(\n",
    "    title='Loan Amount Distribution by Income Category',\n",
    "    xaxis_title='Income Category',\n",
    "    yaxis_title='Loan Amount (USD)',\n",
    "    template=\"plotly_white\",\n",
    "    height=500\n",
    ")\n",
    "\n",
    "fig.show()"
   ]
  },
  {
   "cell_type": "code",
   "execution_count": 24,
   "id": "dbfb3321",
   "metadata": {
    "execution": {
     "iopub.execute_input": "2025-08-13T13:28:11.087134Z",
     "iopub.status.busy": "2025-08-13T13:28:11.086454Z",
     "iopub.status.idle": "2025-08-13T13:28:13.275942Z",
     "shell.execute_reply": "2025-08-13T13:28:13.275115Z"
    },
    "papermill": {
     "duration": 2.202569,
     "end_time": "2025-08-13T13:28:13.277190",
     "exception": false,
     "start_time": "2025-08-13T13:28:11.074621",
     "status": "completed"
    },
    "tags": []
   },
   "outputs": [
    {
     "data": {
      "text/html": [
       "<iframe\n",
       "    scrolling=\"no\"\n",
       "    width=\"100%\"\n",
       "    height=\"520\"\n",
       "    src=\"iframe_figures/figure_24.html\"\n",
       "    frameborder=\"0\"\n",
       "    allowfullscreen\n",
       "></iframe>\n"
      ]
     },
     "metadata": {},
     "output_type": "display_data"
    }
   ],
   "source": [
    "# =============================================================================\n",
    "# PLOT 16: Loan Condition by Income Category\n",
    "# =============================================================================\n",
    "\n",
    "income_condition_data = []\n",
    "for category in ['Low', 'Medium', 'High']:\n",
    "    category_data = df[df['income_category'] == category]['loan_condition_int'].to_numpy()\n",
    "    income_condition_data.append(category_data)\n",
    "\n",
    "fig = go.Figure()\n",
    "\n",
    "for i, category in enumerate(['Low', 'Medium', 'High']):\n",
    "    fig.add_trace(go.Violin(\n",
    "        y=income_condition_data[i],\n",
    "        name=category,\n",
    "        box_visible=True,\n",
    "        meanline_visible=True,\n",
    "        fillcolor=colors[i],\n",
    "        opacity=0.6\n",
    "    ))\n",
    "\n",
    "fig.update_layout(\n",
    "    title='Loan Condition (Default Risk) by Income Category',\n",
    "    xaxis_title='Income Category',\n",
    "    yaxis_title='Default Risk (0=Good, 1=Bad)',\n",
    "    template=\"plotly_white\",\n",
    "    height=500\n",
    ")\n",
    "\n",
    "fig.show()"
   ]
  },
  {
   "cell_type": "code",
   "execution_count": 25,
   "id": "865e6a40",
   "metadata": {
    "execution": {
     "iopub.execute_input": "2025-08-13T13:28:13.300771Z",
     "iopub.status.busy": "2025-08-13T13:28:13.300541Z",
     "iopub.status.idle": "2025-08-13T13:28:15.348067Z",
     "shell.execute_reply": "2025-08-13T13:28:15.347266Z"
    },
    "papermill": {
     "duration": 2.060401,
     "end_time": "2025-08-13T13:28:15.349344",
     "exception": false,
     "start_time": "2025-08-13T13:28:13.288943",
     "status": "completed"
    },
    "tags": []
   },
   "outputs": [
    {
     "data": {
      "text/html": [
       "<iframe\n",
       "    scrolling=\"no\"\n",
       "    width=\"100%\"\n",
       "    height=\"520\"\n",
       "    src=\"iframe_figures/figure_25.html\"\n",
       "    frameborder=\"0\"\n",
       "    allowfullscreen\n",
       "></iframe>\n"
      ]
     },
     "metadata": {},
     "output_type": "display_data"
    }
   ],
   "source": [
    "# =============================================================================\n",
    "# PLOT 17: Employment Length by Income Category\n",
    "# =============================================================================\n",
    "\n",
    "income_emp_data = []\n",
    "for category in ['Low', 'Medium', 'High']:\n",
    "    category_data = df[df['income_category'] == category]['emp_length'].dropna().to_numpy()\n",
    "    income_emp_data.append(category_data)\n",
    "\n",
    "fig = go.Figure()\n",
    "\n",
    "for i, category in enumerate(['Low', 'Medium', 'High']):\n",
    "    fig.add_trace(go.Box(\n",
    "        y=income_emp_data[i],\n",
    "        name=category,\n",
    "        fillcolor=colors[i],\n",
    "        marker_color=colors[i]\n",
    "    ))\n",
    "\n",
    "fig.update_layout(\n",
    "    title='Employment Length Distribution by Income Category',\n",
    "    xaxis_title='Income Category',\n",
    "    yaxis_title='Employment Length (Years)',\n",
    "    template=\"plotly_white\",\n",
    "    height=500\n",
    ")\n",
    "\n",
    "fig.show()"
   ]
  },
  {
   "cell_type": "code",
   "execution_count": 26,
   "id": "8a2613d6",
   "metadata": {
    "execution": {
     "iopub.execute_input": "2025-08-13T13:28:15.373782Z",
     "iopub.status.busy": "2025-08-13T13:28:15.373104Z",
     "iopub.status.idle": "2025-08-13T13:28:17.495980Z",
     "shell.execute_reply": "2025-08-13T13:28:17.495260Z"
    },
    "papermill": {
     "duration": 2.136474,
     "end_time": "2025-08-13T13:28:17.497090",
     "exception": false,
     "start_time": "2025-08-13T13:28:15.360616",
     "status": "completed"
    },
    "tags": []
   },
   "outputs": [
    {
     "data": {
      "text/html": [
       "<iframe\n",
       "    scrolling=\"no\"\n",
       "    width=\"100%\"\n",
       "    height=\"520\"\n",
       "    src=\"iframe_figures/figure_26.html\"\n",
       "    frameborder=\"0\"\n",
       "    allowfullscreen\n",
       "></iframe>\n"
      ]
     },
     "metadata": {},
     "output_type": "display_data"
    }
   ],
   "source": [
    "# =============================================================================\n",
    "# PLOT 18: Interest Rate by Income Category\n",
    "# =============================================================================\n",
    "\n",
    "income_rate_data = []\n",
    "for category in ['Low', 'Medium', 'High']:\n",
    "    category_data = df[df['income_category'] == category]['interest_rate'].to_numpy()\n",
    "    income_rate_data.append(category_data)\n",
    "\n",
    "fig = go.Figure()\n",
    "\n",
    "for i, category in enumerate(['Low', 'Medium', 'High']):\n",
    "    fig.add_trace(go.Box(\n",
    "        y=income_rate_data[i],\n",
    "        name=category,\n",
    "        fillcolor=colors[i],\n",
    "        marker_color=colors[i]\n",
    "    ))\n",
    "\n",
    "fig.update_layout(\n",
    "    title='Interest Rate Distribution by Income Category',\n",
    "    xaxis_title='Income Category',\n",
    "    yaxis_title='Interest Rate (%)',\n",
    "    template=\"plotly_white\",\n",
    "    height=500\n",
    ")\n",
    "\n",
    "fig.show()"
   ]
  },
  {
   "cell_type": "code",
   "execution_count": 27,
   "id": "2507dc60",
   "metadata": {
    "execution": {
     "iopub.execute_input": "2025-08-13T13:28:17.520954Z",
     "iopub.status.busy": "2025-08-13T13:28:17.520315Z",
     "iopub.status.idle": "2025-08-13T13:28:17.654914Z",
     "shell.execute_reply": "2025-08-13T13:28:17.654149Z"
    },
    "papermill": {
     "duration": 0.147464,
     "end_time": "2025-08-13T13:28:17.656057",
     "exception": false,
     "start_time": "2025-08-13T13:28:17.508593",
     "status": "completed"
    },
    "tags": []
   },
   "outputs": [
    {
     "name": "stdout",
     "output_type": "stream",
     "text": [
      "Phase 6: Credit Score Analysis\n"
     ]
    },
    {
     "data": {
      "text/html": [
       "<iframe\n",
       "    scrolling=\"no\"\n",
       "    width=\"100%\"\n",
       "    height=\"520\"\n",
       "    src=\"iframe_figures/figure_27.html\"\n",
       "    frameborder=\"0\"\n",
       "    allowfullscreen\n",
       "></iframe>\n"
      ]
     },
     "metadata": {},
     "output_type": "display_data"
    }
   ],
   "source": [
    "# =============================================================================\n",
    "# PHASE 6: CREDIT SCORE & RISK ANALYSIS\n",
    "# =============================================================================\n",
    "\n",
    "print(\"Phase 6: Credit Score Analysis\")\n",
    "\n",
    "# =============================================================================\n",
    "# PLOT 19: Loans Issued by Credit Grade Over Time\n",
    "# =============================================================================\n",
    "\n",
    "grade_time = df.groupby(['year', 'grade']).agg({'loan_amount': 'mean'}).reset_index()\n",
    "grade_time.columns = ['year', 'grade', 'avg_loan_amount']\n",
    "\n",
    "fig = go.Figure()\n",
    "\n",
    "grades = sorted(grade_time['grade'].unique())\n",
    "grade_colors = ['#2E86AB', '#A23B72', '#F18F01', '#C73E1D', '#8E44AD', '#E74C3C', '#95A5A6']\n",
    "\n",
    "for i, grade in enumerate(grades):\n",
    "    grade_data = grade_time[grade_time['grade'] == grade]\n",
    "    fig.add_trace(go.Scatter(\n",
    "        x=grade_data['year'].to_numpy(),\n",
    "        y=grade_data['avg_loan_amount'].to_numpy(),\n",
    "        mode='lines+markers',\n",
    "        name=f'Grade {grade}',\n",
    "        line=dict(color=grade_colors[i % len(grade_colors)], width=2),\n",
    "        marker=dict(size=5)\n",
    "    ))\n",
    "\n",
    "fig.update_layout(\n",
    "    title='Average Loan Amount by Credit Grade Over Time',\n",
    "    xaxis_title='Year',\n",
    "    yaxis_title='Average Loan Amount (USD)',\n",
    "    template=\"plotly_white\",\n",
    "    height=500\n",
    ")\n",
    "\n",
    "fig.show()\n"
   ]
  },
  {
   "cell_type": "code",
   "execution_count": 28,
   "id": "dd9235c7",
   "metadata": {
    "execution": {
     "iopub.execute_input": "2025-08-13T13:28:17.679786Z",
     "iopub.status.busy": "2025-08-13T13:28:17.679575Z",
     "iopub.status.idle": "2025-08-13T13:28:17.809011Z",
     "shell.execute_reply": "2025-08-13T13:28:17.808386Z"
    },
    "papermill": {
     "duration": 0.142622,
     "end_time": "2025-08-13T13:28:17.810162",
     "exception": false,
     "start_time": "2025-08-13T13:28:17.667540",
     "status": "completed"
    },
    "tags": []
   },
   "outputs": [
    {
     "data": {
      "text/html": [
       "<iframe\n",
       "    scrolling=\"no\"\n",
       "    width=\"100%\"\n",
       "    height=\"520\"\n",
       "    src=\"iframe_figures/figure_28.html\"\n",
       "    frameborder=\"0\"\n",
       "    allowfullscreen\n",
       "></iframe>\n"
      ]
     },
     "metadata": {},
     "output_type": "display_data"
    }
   ],
   "source": [
    "# =============================================================================\n",
    "# PLOT 20: Interest Rates by Credit Grade Over Time\n",
    "# =============================================================================\n",
    "\n",
    "grade_interest = df.groupby(['year', 'grade']).agg({'interest_rate': 'mean'}).reset_index()\n",
    "grade_interest.columns = ['year', 'grade', 'avg_interest_rate']\n",
    "\n",
    "fig = go.Figure()\n",
    "\n",
    "for i, grade in enumerate(grades):\n",
    "    grade_data = grade_interest[grade_interest['grade'] == grade]\n",
    "    fig.add_trace(go.Scatter(\n",
    "        x=grade_data['year'].to_numpy(),\n",
    "        y=grade_data['avg_interest_rate'].to_numpy(),\n",
    "        mode='lines+markers',\n",
    "        name=f'Grade {grade}',\n",
    "        line=dict(color=grade_colors[i % len(grade_colors)], width=2),\n",
    "        marker=dict(size=5)\n",
    "    ))\n",
    "\n",
    "fig.update_layout(\n",
    "    title='Average Interest Rate by Credit Grade Over Time',\n",
    "    xaxis_title='Year',\n",
    "    yaxis_title='Average Interest Rate (%)',\n",
    "    template=\"plotly_white\",\n",
    "    height=500\n",
    ")\n",
    "\n",
    "fig.show()"
   ]
  },
  {
   "cell_type": "code",
   "execution_count": 29,
   "id": "425aafd5",
   "metadata": {
    "execution": {
     "iopub.execute_input": "2025-08-13T13:28:17.833585Z",
     "iopub.status.busy": "2025-08-13T13:28:17.833387Z",
     "iopub.status.idle": "2025-08-13T13:28:18.054096Z",
     "shell.execute_reply": "2025-08-13T13:28:18.053520Z"
    },
    "papermill": {
     "duration": 0.233561,
     "end_time": "2025-08-13T13:28:18.055286",
     "exception": false,
     "start_time": "2025-08-13T13:28:17.821725",
     "status": "completed"
    },
    "tags": []
   },
   "outputs": [
    {
     "data": {
      "text/html": [
       "<iframe\n",
       "    scrolling=\"no\"\n",
       "    width=\"100%\"\n",
       "    height=\"520\"\n",
       "    src=\"iframe_figures/figure_29.html\"\n",
       "    frameborder=\"0\"\n",
       "    allowfullscreen\n",
       "></iframe>\n"
      ]
     },
     "metadata": {},
     "output_type": "display_data"
    }
   ],
   "source": [
    "# =============================================================================\n",
    "# PLOT 21: Loan Type by Grade Analysis\n",
    "# =============================================================================\n",
    "\n",
    "grade_condition = df.groupby(['grade', 'loan_condition']).size().reset_index(name='count')\n",
    "grade_condition_pivot = grade_condition.pivot(index='grade', columns='loan_condition', values='count').fillna(0)\n",
    "\n",
    "fig = go.Figure()\n",
    "\n",
    "fig.add_trace(go.Bar(\n",
    "    x=grade_condition_pivot.index.to_numpy(),\n",
    "    y=grade_condition_pivot['Good Loan'].to_numpy(),\n",
    "    name='Good Loans',\n",
    "    marker_color='#3791D7'\n",
    "))\n",
    "\n",
    "fig.add_trace(go.Bar(\n",
    "    x=grade_condition_pivot.index.to_numpy(),\n",
    "    y=grade_condition_pivot['Bad Loan'].to_numpy(),\n",
    "    name='Bad Loans',\n",
    "    marker_color='#D72626'\n",
    "))\n",
    "\n",
    "fig.update_layout(\n",
    "    title='Loan Distribution by Credit Grade',\n",
    "    xaxis_title='Credit Grade',\n",
    "    yaxis_title='Number of Loans',\n",
    "    barmode='stack',\n",
    "    template=\"plotly_white\",\n",
    "    height=500\n",
    ")\n",
    "\n",
    "fig.show()"
   ]
  },
  {
   "cell_type": "code",
   "execution_count": 30,
   "id": "903364d2",
   "metadata": {
    "execution": {
     "iopub.execute_input": "2025-08-13T13:28:18.078687Z",
     "iopub.status.busy": "2025-08-13T13:28:18.078472Z",
     "iopub.status.idle": "2025-08-13T13:28:18.292411Z",
     "shell.execute_reply": "2025-08-13T13:28:18.291793Z"
    },
    "papermill": {
     "duration": 0.226625,
     "end_time": "2025-08-13T13:28:18.293575",
     "exception": false,
     "start_time": "2025-08-13T13:28:18.066950",
     "status": "completed"
    },
    "tags": []
   },
   "outputs": [
    {
     "data": {
      "text/html": [
       "<iframe\n",
       "    scrolling=\"no\"\n",
       "    width=\"100%\"\n",
       "    height=\"520\"\n",
       "    src=\"iframe_figures/figure_30.html\"\n",
       "    frameborder=\"0\"\n",
       "    allowfullscreen\n",
       "></iframe>\n"
      ]
     },
     "metadata": {},
     "output_type": "display_data"
    }
   ],
   "source": [
    "# =============================================================================\n",
    "# PLOT 22: Loan Type by Sub-Grade Analysis\n",
    "# =============================================================================\n",
    "\n",
    "subgrade_condition = df.groupby(['sub_grade', 'loan_condition']).size().reset_index(name='count')\n",
    "subgrade_condition_pivot = subgrade_condition.pivot(index='sub_grade', columns='loan_condition', values='count').fillna(0)\n",
    "\n",
    "fig = go.Figure()\n",
    "\n",
    "fig.add_trace(go.Bar(\n",
    "    x=subgrade_condition_pivot.index.to_numpy(),\n",
    "    y=subgrade_condition_pivot['Good Loan'].to_numpy(),\n",
    "    name='Good Loans',\n",
    "    marker_color='#3791D7'\n",
    "))\n",
    "\n",
    "fig.add_trace(go.Bar(\n",
    "    x=subgrade_condition_pivot.index.to_numpy(),\n",
    "    y=subgrade_condition_pivot['Bad Loan'].to_numpy(),\n",
    "    name='Bad Loans',\n",
    "    marker_color='#D72626'\n",
    "))\n",
    "\n",
    "fig.update_layout(\n",
    "    title='Loan Distribution by Credit Sub-Grade',\n",
    "    xaxis_title='Credit Sub-Grade',\n",
    "    yaxis_title='Number of Loans',\n",
    "    barmode='stack',\n",
    "    template=\"plotly_white\",\n",
    "    height=500,\n",
    "    xaxis=dict(tickangle=45)\n",
    ")\n",
    "\n",
    "fig.show()"
   ]
  },
  {
   "cell_type": "code",
   "execution_count": 31,
   "id": "1ecff3b9",
   "metadata": {
    "execution": {
     "iopub.execute_input": "2025-08-13T13:28:18.318582Z",
     "iopub.status.busy": "2025-08-13T13:28:18.318125Z",
     "iopub.status.idle": "2025-08-13T13:28:18.567822Z",
     "shell.execute_reply": "2025-08-13T13:28:18.567105Z"
    },
    "papermill": {
     "duration": 0.262937,
     "end_time": "2025-08-13T13:28:18.569039",
     "exception": false,
     "start_time": "2025-08-13T13:28:18.306102",
     "status": "completed"
    },
    "tags": []
   },
   "outputs": [
    {
     "data": {
      "text/html": [
       "<iframe\n",
       "    scrolling=\"no\"\n",
       "    width=\"100%\"\n",
       "    height=\"520\"\n",
       "    src=\"iframe_figures/figure_31.html\"\n",
       "    frameborder=\"0\"\n",
       "    allowfullscreen\n",
       "></iframe>\n"
      ]
     },
     "metadata": {},
     "output_type": "display_data"
    }
   ],
   "source": [
    "# =============================================================================\n",
    "# PLOT 23: Average Interest Rate by Loan Condition Over Time\n",
    "# =============================================================================\n",
    "\n",
    "condition_interest = df.groupby(['year', 'loan_condition']).agg({'interest_rate': 'mean'}).reset_index()\n",
    "condition_interest.columns = ['year', 'loan_condition', 'avg_interest_rate']\n",
    "\n",
    "fig = go.Figure()\n",
    "\n",
    "for condition in ['Good Loan', 'Bad Loan']:\n",
    "    condition_data = condition_interest[condition_interest['loan_condition'] == condition]\n",
    "    color = '#3791D7' if condition == 'Good Loan' else '#D72626'\n",
    "    fig.add_trace(go.Scatter(\n",
    "        x=condition_data['year'].to_numpy(),\n",
    "        y=condition_data['avg_interest_rate'].to_numpy(),\n",
    "        mode='lines+markers',\n",
    "        name=condition,\n",
    "        line=dict(color=color, width=3),\n",
    "        marker=dict(size=6)\n",
    "    ))\n",
    "\n",
    "fig.update_layout(\n",
    "    title='Average Interest Rate by Loan Condition Over Time',\n",
    "    xaxis_title='Year',\n",
    "    yaxis_title='Average Interest Rate (%)',\n",
    "    template=\"plotly_white\",\n",
    "    height=500\n",
    ")\n",
    "\n",
    "fig.show()"
   ]
  },
  {
   "cell_type": "code",
   "execution_count": 32,
   "id": "14bd9b10",
   "metadata": {
    "execution": {
     "iopub.execute_input": "2025-08-13T13:28:18.593308Z",
     "iopub.status.busy": "2025-08-13T13:28:18.592681Z",
     "iopub.status.idle": "2025-08-13T13:28:20.414793Z",
     "shell.execute_reply": "2025-08-13T13:28:20.414058Z"
    },
    "papermill": {
     "duration": 1.835074,
     "end_time": "2025-08-13T13:28:20.416038",
     "exception": false,
     "start_time": "2025-08-13T13:28:18.580964",
     "status": "completed"
    },
    "tags": []
   },
   "outputs": [
    {
     "name": "stdout",
     "output_type": "stream",
     "text": [
      "Phase 7: Advanced Risk Analysis\n"
     ]
    },
    {
     "data": {
      "text/html": [
       "<iframe\n",
       "    scrolling=\"no\"\n",
       "    width=\"720px\"\n",
       "    height=\"720\"\n",
       "    src=\"iframe_figures/figure_32.html\"\n",
       "    frameborder=\"0\"\n",
       "    allowfullscreen\n",
       "></iframe>\n"
      ]
     },
     "metadata": {},
     "output_type": "display_data"
    }
   ],
   "source": [
    "# =============================================================================\n",
    "# PHASE 7: ADVANCED RISK VISUALIZATION\n",
    "# =============================================================================\n",
    "\n",
    "print(\"Phase 7: Advanced Risk Analysis\")\n",
    "\n",
    "# =============================================================================\n",
    "# PLOT 24: Correlation Heatmap\n",
    "# =============================================================================\n",
    "\n",
    "# Select numerical columns for correlation analysis\n",
    "numeric_cols = ['loan_amount', 'funded_amount', 'investor_funds', 'interest_rate', \n",
    "                'annual_income', 'dti', 'delinq_2yrs', 'fico_range_low', 'fico_range_high',\n",
    "                'inq_last_6mths', 'open_acc', 'pub_rec', 'revol_bal', 'total_acc', \n",
    "                'emp_length', 'loan_condition_int']\n",
    "\n",
    "correlation_data = df[numeric_cols].corr()\n",
    "\n",
    "fig = go.Figure(data=go.Heatmap(\n",
    "    z=correlation_data.values,\n",
    "    x=correlation_data.columns.to_list(),\n",
    "    y=correlation_data.columns.to_list(),\n",
    "    colorscale='RdBu',\n",
    "    zmid=0,\n",
    "    text=np.around(correlation_data.values, decimals=2),\n",
    "    texttemplate=\"%{text}\",\n",
    "    textfont={\"size\":10},\n",
    "    hoverongaps=False\n",
    "))\n",
    "\n",
    "fig.update_layout(\n",
    "    title='Feature Correlation Matrix',\n",
    "    template=\"plotly_white\",\n",
    "    height=700,\n",
    "    width=700\n",
    ")\n",
    "\n",
    "fig.show()"
   ]
  },
  {
   "cell_type": "code",
   "execution_count": 33,
   "id": "79d7f229",
   "metadata": {
    "execution": {
     "iopub.execute_input": "2025-08-13T13:28:20.442869Z",
     "iopub.status.busy": "2025-08-13T13:28:20.442264Z",
     "iopub.status.idle": "2025-08-13T13:28:20.960348Z",
     "shell.execute_reply": "2025-08-13T13:28:20.959595Z"
    },
    "papermill": {
     "duration": 0.531765,
     "end_time": "2025-08-13T13:28:20.961748",
     "exception": false,
     "start_time": "2025-08-13T13:28:20.429983",
     "status": "completed"
    },
    "tags": []
   },
   "outputs": [
    {
     "data": {
      "text/html": [
       "<iframe\n",
       "    scrolling=\"no\"\n",
       "    width=\"100%\"\n",
       "    height=\"520\"\n",
       "    src=\"iframe_figures/figure_33.html\"\n",
       "    frameborder=\"0\"\n",
       "    allowfullscreen\n",
       "></iframe>\n"
      ]
     },
     "metadata": {},
     "output_type": "display_data"
    }
   ],
   "source": [
    "# =============================================================================\n",
    "# PLOT 25: Bad Loan Types Time Series\n",
    "# =============================================================================\n",
    "\n",
    "# Analyze bad loan types over time\n",
    "bad_loans_df = df[df['loan_condition'] == 'Bad Loan']\n",
    "bad_loan_types = bad_loans_df.groupby(['year', 'loan_status']).size().reset_index(name='count')\n",
    "\n",
    "fig = go.Figure()\n",
    "\n",
    "bad_statuses = bad_loans_df['loan_status'].unique()\n",
    "status_colors = ['#FF6B6B', '#4ECDC4', '#45B7D1', '#96CEB4', '#FFEAA7', '#DDA0DD']\n",
    "\n",
    "for i, status in enumerate(bad_statuses):\n",
    "    status_data = bad_loan_types[bad_loan_types['loan_status'] == status]\n",
    "    fig.add_trace(go.Scatter(\n",
    "        x=status_data['year'].to_numpy(),\n",
    "        y=status_data['count'].to_numpy(),\n",
    "        mode='lines+markers',\n",
    "        name=status,\n",
    "        line=dict(color=status_colors[i % len(status_colors)], width=2),\n",
    "        marker=dict(size=5)\n",
    "    ))\n",
    "\n",
    "fig.update_layout(\n",
    "    title='Bad Loan Types Over Time',\n",
    "    xaxis_title='Year',\n",
    "    yaxis_title='Number of Loans',\n",
    "    template=\"plotly_white\",\n",
    "    height=500\n",
    ")\n",
    "\n",
    "fig.show()\n"
   ]
  },
  {
   "cell_type": "code",
   "execution_count": 34,
   "id": "0a08c257",
   "metadata": {
    "execution": {
     "iopub.execute_input": "2025-08-13T13:28:20.989708Z",
     "iopub.status.busy": "2025-08-13T13:28:20.989459Z",
     "iopub.status.idle": "2025-08-13T13:28:21.065739Z",
     "shell.execute_reply": "2025-08-13T13:28:21.064850Z"
    },
    "papermill": {
     "duration": 0.091599,
     "end_time": "2025-08-13T13:28:21.067079",
     "exception": false,
     "start_time": "2025-08-13T13:28:20.975480",
     "status": "completed"
    },
    "tags": []
   },
   "outputs": [
    {
     "data": {
      "text/html": [
       "<iframe\n",
       "    scrolling=\"no\"\n",
       "    width=\"100%\"\n",
       "    height=\"520\"\n",
       "    src=\"iframe_figures/figure_34.html\"\n",
       "    frameborder=\"0\"\n",
       "    allowfullscreen\n",
       "></iframe>\n"
      ]
     },
     "metadata": {},
     "output_type": "display_data"
    }
   ],
   "source": [
    "# =============================================================================\n",
    "# PLOT 26: Home Ownership Analysis - Loan Amounts\n",
    "# =============================================================================\n",
    "\n",
    "home_ownership_loans = df.groupby('home_ownership').agg({'loan_amount': ['mean', 'count']}).reset_index()\n",
    "home_ownership_loans.columns = ['home_ownership', 'avg_loan_amount', 'loan_count']\n",
    "\n",
    "fig = go.Figure()\n",
    "\n",
    "fig.add_trace(go.Bar(\n",
    "    x=home_ownership_loans['home_ownership'].to_numpy(),\n",
    "    y=home_ownership_loans['avg_loan_amount'].to_numpy(),\n",
    "    name='Average Loan Amount',\n",
    "    marker_color='#3498DB',\n",
    "    text=home_ownership_loans['avg_loan_amount'].round(0).astype(str),\n",
    "    textposition='auto'\n",
    "))\n",
    "\n",
    "fig.update_layout(\n",
    "    title='Average Loan Amount by Home Ownership Type',\n",
    "    xaxis_title='Home Ownership Type',\n",
    "    yaxis_title='Average Loan Amount (USD)',\n",
    "    template=\"plotly_white\",\n",
    "    height=500\n",
    ")\n",
    "\n",
    "fig.show()\n"
   ]
  },
  {
   "cell_type": "code",
   "execution_count": 35,
   "id": "a1ae0022",
   "metadata": {
    "execution": {
     "iopub.execute_input": "2025-08-13T13:28:21.095234Z",
     "iopub.status.busy": "2025-08-13T13:28:21.094979Z",
     "iopub.status.idle": "2025-08-13T13:28:21.159107Z",
     "shell.execute_reply": "2025-08-13T13:28:21.158346Z"
    },
    "papermill": {
     "duration": 0.078312,
     "end_time": "2025-08-13T13:28:21.160365",
     "exception": false,
     "start_time": "2025-08-13T13:28:21.082053",
     "status": "completed"
    },
    "tags": []
   },
   "outputs": [
    {
     "data": {
      "text/html": [
       "<iframe\n",
       "    scrolling=\"no\"\n",
       "    width=\"100%\"\n",
       "    height=\"520\"\n",
       "    src=\"iframe_figures/figure_35.html\"\n",
       "    frameborder=\"0\"\n",
       "    allowfullscreen\n",
       "></iframe>\n"
      ]
     },
     "metadata": {},
     "output_type": "display_data"
    }
   ],
   "source": [
    "# =============================================================================\n",
    "# PLOT 27: Home Ownership Trends Over Time for Bad Loans\n",
    "# =============================================================================\n",
    "\n",
    "home_ownership_bad = bad_loans_df.groupby(['year', 'home_ownership']).agg({'loan_amount': 'sum'}).reset_index()\n",
    "home_ownership_bad.columns = ['year', 'home_ownership', 'total_bad_loans']\n",
    "\n",
    "fig = go.Figure()\n",
    "\n",
    "ownership_types = home_ownership_bad['home_ownership'].unique()\n",
    "ownership_colors = ['#E74C3C', '#3498DB', '#2ECC71', '#F39C12']\n",
    "\n",
    "for i, ownership in enumerate(ownership_types):\n",
    "    ownership_data = home_ownership_bad[home_ownership_bad['home_ownership'] == ownership]\n",
    "    fig.add_trace(go.Scatter(\n",
    "        x=ownership_data['year'].to_numpy(),\n",
    "        y=ownership_data['total_bad_loans'].to_numpy(),\n",
    "        mode='lines+markers',\n",
    "        name=ownership,\n",
    "        line=dict(color=ownership_colors[i % len(ownership_colors)], width=2),\n",
    "        marker=dict(size=5),\n",
    "        stackgroup='one'\n",
    "    ))\n",
    "\n",
    "fig.update_layout(\n",
    "    title='Bad Loan Amounts by Home Ownership Type Over Time',\n",
    "    xaxis_title='Year',\n",
    "    yaxis_title='Total Bad Loan Amount (USD)',\n",
    "    template=\"plotly_white\",\n",
    "    height=500\n",
    ")\n",
    "\n",
    "fig.show()"
   ]
  },
  {
   "cell_type": "code",
   "execution_count": 36,
   "id": "b3ae59bd",
   "metadata": {
    "execution": {
     "iopub.execute_input": "2025-08-13T13:28:21.184702Z",
     "iopub.status.busy": "2025-08-13T13:28:21.184499Z",
     "iopub.status.idle": "2025-08-13T13:28:21.630029Z",
     "shell.execute_reply": "2025-08-13T13:28:21.629376Z"
    },
    "papermill": {
     "duration": 0.45894,
     "end_time": "2025-08-13T13:28:21.631099",
     "exception": false,
     "start_time": "2025-08-13T13:28:21.172159",
     "status": "completed"
    },
    "tags": []
   },
   "outputs": [
    {
     "name": "stdout",
     "output_type": "stream",
     "text": [
      "Phase 8: Default Analysis\n"
     ]
    },
    {
     "data": {
      "text/html": [
       "<iframe\n",
       "    scrolling=\"no\"\n",
       "    width=\"100%\"\n",
       "    height=\"520\"\n",
       "    src=\"iframe_figures/figure_36.html\"\n",
       "    frameborder=\"0\"\n",
       "    allowfullscreen\n",
       "></iframe>\n"
      ]
     },
     "metadata": {},
     "output_type": "display_data"
    }
   ],
   "source": [
    "# =============================================================================\n",
    "# PHASE 8: DEFAULT ANALYSIS\n",
    "# =============================================================================\n",
    "\n",
    "print(\"Phase 8: Default Analysis\")\n",
    "\n",
    "# =============================================================================\n",
    "# PLOT 28: Regional Default Analysis - Stacked Area\n",
    "# =============================================================================\n",
    "\n",
    "regional_defaults = df[df['loan_status'].isin(['Default', 'Charged Off'])].groupby(['year', 'region']).agg({'loan_amount': 'sum'}).reset_index()\n",
    "regional_defaults.columns = ['year', 'region', 'default_amount']\n",
    "\n",
    "fig = go.Figure()\n",
    "\n",
    "for i, region in enumerate(regions):\n",
    "    region_data = regional_defaults[regional_defaults['region'] == region]\n",
    "    fig.add_trace(go.Scatter(\n",
    "        x=region_data['year'].to_numpy(),\n",
    "        y=region_data['default_amount'].to_numpy(),\n",
    "        mode='lines',\n",
    "        name=region,\n",
    "        line=dict(color=colors[i % len(colors)], width=0),\n",
    "        fill='tonexty' if i > 0 else 'tozeroy',\n",
    "        stackgroup='one'\n",
    "    ))\n",
    "\n",
    "fig.update_layout(\n",
    "    title='Cumulative Default Amounts by Region Over Time',\n",
    "    xaxis_title='Year',\n",
    "    yaxis_title='Default Amount (USD)',\n",
    "    template=\"plotly_white\",\n",
    "    height=500\n",
    ")\n",
    "\n",
    "fig.show()"
   ]
  },
  {
   "cell_type": "code",
   "execution_count": 37,
   "id": "7ab009b3",
   "metadata": {
    "execution": {
     "iopub.execute_input": "2025-08-13T13:28:21.655847Z",
     "iopub.status.busy": "2025-08-13T13:28:21.655656Z",
     "iopub.status.idle": "2025-08-13T13:28:22.432529Z",
     "shell.execute_reply": "2025-08-13T13:28:22.431884Z"
    },
    "papermill": {
     "duration": 0.790244,
     "end_time": "2025-08-13T13:28:22.433711",
     "exception": false,
     "start_time": "2025-08-13T13:28:21.643467",
     "status": "completed"
    },
    "tags": []
   },
   "outputs": [
    {
     "data": {
      "text/html": [
       "<iframe\n",
       "    scrolling=\"no\"\n",
       "    width=\"100%\"\n",
       "    height=\"520\"\n",
       "    src=\"iframe_figures/figure_37.html\"\n",
       "    frameborder=\"0\"\n",
       "    allowfullscreen\n",
       "></iframe>\n"
      ]
     },
     "metadata": {},
     "output_type": "display_data"
    }
   ],
   "source": [
    "# =============================================================================\n",
    "# PLOT 29: Interest Rate Impact Analysis - High vs Low\n",
    "# =============================================================================\n",
    "\n",
    "# Create interest rate categories\n",
    "avg_interest = df['interest_rate'].mean()\n",
    "df['interest_payments'] = df['interest_rate'].apply(\n",
    "    lambda x: 'High' if x > avg_interest else 'Low'\n",
    ")\n",
    "\n",
    "interest_condition = df.groupby(['interest_payments', 'loan_condition']).size().reset_index(name='count')\n",
    "\n",
    "fig = go.Figure()\n",
    "\n",
    "for condition in ['Good Loan', 'Bad Loan']:\n",
    "    condition_data = interest_condition[interest_condition['loan_condition'] == condition]\n",
    "    color = '#3791D7' if condition == 'Good Loan' else '#D72626'\n",
    "    fig.add_trace(go.Bar(\n",
    "        x=condition_data['interest_payments'].to_numpy(),\n",
    "        y=condition_data['count'].to_numpy(),\n",
    "        name=condition,\n",
    "        marker_color=color\n",
    "    ))\n",
    "\n",
    "fig.update_layout(\n",
    "    title='Loan Condition Distribution by Interest Rate Level',\n",
    "    xaxis_title='Interest Rate Level',\n",
    "    yaxis_title='Number of Loans',\n",
    "    barmode='group',\n",
    "    template=\"plotly_white\",\n",
    "    height=500\n",
    ")\n",
    "\n",
    "fig.show()"
   ]
  },
  {
   "cell_type": "code",
   "execution_count": 38,
   "id": "8e66d77d",
   "metadata": {
    "execution": {
     "iopub.execute_input": "2025-08-13T13:28:22.458634Z",
     "iopub.status.busy": "2025-08-13T13:28:22.458435Z",
     "iopub.status.idle": "2025-08-13T13:28:22.675628Z",
     "shell.execute_reply": "2025-08-13T13:28:22.674965Z"
    },
    "papermill": {
     "duration": 0.230652,
     "end_time": "2025-08-13T13:28:22.676847",
     "exception": false,
     "start_time": "2025-08-13T13:28:22.446195",
     "status": "completed"
    },
    "tags": []
   },
   "outputs": [
    {
     "data": {
      "text/html": [
       "<iframe\n",
       "    scrolling=\"no\"\n",
       "    width=\"100%\"\n",
       "    height=\"520\"\n",
       "    src=\"iframe_figures/figure_38.html\"\n",
       "    frameborder=\"0\"\n",
       "    allowfullscreen\n",
       "></iframe>\n"
      ]
     },
     "metadata": {},
     "output_type": "display_data"
    }
   ],
   "source": [
    "# =============================================================================\n",
    "# PLOT 30: Interest Rate vs Loan Term Analysis\n",
    "# =============================================================================\n",
    "\n",
    "interest_term = df.groupby(['interest_payments', 'term']).size().reset_index(name='count')\n",
    "\n",
    "fig = go.Figure()\n",
    "\n",
    "for term in df['term'].unique():\n",
    "    term_data = interest_term[interest_term['term'] == term]\n",
    "    fig.add_trace(go.Bar(\n",
    "        x=term_data['interest_payments'].to_numpy(),\n",
    "        y=term_data['count'].to_numpy(),\n",
    "        name=f'{term} months',\n",
    "        opacity=0.8\n",
    "    ))\n",
    "\n",
    "fig.update_layout(\n",
    "    title='Interest Rate Level Distribution by Loan Term',\n",
    "    xaxis_title='Interest Rate Level',\n",
    "    yaxis_title='Number of Loans',\n",
    "    barmode='group',\n",
    "    template=\"plotly_white\",\n",
    "    height=500\n",
    ")\n",
    "\n",
    "fig.show()"
   ]
  },
  {
   "cell_type": "code",
   "execution_count": 39,
   "id": "bbf98a78",
   "metadata": {
    "execution": {
     "iopub.execute_input": "2025-08-13T13:28:22.701723Z",
     "iopub.status.busy": "2025-08-13T13:28:22.701531Z",
     "iopub.status.idle": "2025-08-13T13:28:25.199532Z",
     "shell.execute_reply": "2025-08-13T13:28:25.198741Z"
    },
    "papermill": {
     "duration": 2.511728,
     "end_time": "2025-08-13T13:28:25.200791",
     "exception": false,
     "start_time": "2025-08-13T13:28:22.689063",
     "status": "completed"
    },
    "tags": []
   },
   "outputs": [
    {
     "data": {
      "text/html": [
       "<iframe\n",
       "    scrolling=\"no\"\n",
       "    width=\"100%\"\n",
       "    height=\"520\"\n",
       "    src=\"iframe_figures/figure_39.html\"\n",
       "    frameborder=\"0\"\n",
       "    allowfullscreen\n",
       "></iframe>\n"
      ]
     },
     "metadata": {},
     "output_type": "display_data"
    }
   ],
   "source": [
    "# =============================================================================\n",
    "# PLOT 31: Distribution Comparison - High vs Low Interest Payments\n",
    "# =============================================================================\n",
    "\n",
    "low_interest_loans = df[df['interest_payments'] == 'Low']['loan_amount'].to_numpy()\n",
    "high_interest_loans = df[df['interest_payments'] == 'High']['loan_amount'].to_numpy()\n",
    "\n",
    "fig = go.Figure()\n",
    "\n",
    "fig.add_trace(go.Histogram(\n",
    "    x=low_interest_loans,\n",
    "    name='Low Interest Payments',\n",
    "    opacity=0.7,\n",
    "    marker_color='#3498DB',\n",
    "    nbinsx=50\n",
    "))\n",
    "\n",
    "fig.add_trace(go.Histogram(\n",
    "    x=high_interest_loans,\n",
    "    name='High Interest Payments',\n",
    "    opacity=0.7,\n",
    "    marker_color='#E74C3C',\n",
    "    nbinsx=50\n",
    "))\n",
    "\n",
    "fig.update_layout(\n",
    "    title='Loan Amount Distribution: High vs Low Interest Payments',\n",
    "    xaxis_title='Loan Amount (USD)',\n",
    "    yaxis_title='Frequency',\n",
    "    barmode='overlay',\n",
    "    template=\"plotly_white\",\n",
    "    height=500\n",
    ")\n",
    "\n",
    "fig.show()"
   ]
  },
  {
   "cell_type": "code",
   "execution_count": 40,
   "id": "d9515bd8",
   "metadata": {
    "execution": {
     "iopub.execute_input": "2025-08-13T13:28:25.230328Z",
     "iopub.status.busy": "2025-08-13T13:28:25.230065Z",
     "iopub.status.idle": "2025-08-13T13:28:25.549168Z",
     "shell.execute_reply": "2025-08-13T13:28:25.548456Z"
    },
    "papermill": {
     "duration": 0.334809,
     "end_time": "2025-08-13T13:28:25.550456",
     "exception": false,
     "start_time": "2025-08-13T13:28:25.215647",
     "status": "completed"
    },
    "tags": []
   },
   "outputs": [
    {
     "name": "stdout",
     "output_type": "stream",
     "text": [
      "Phase 9: Risk Assessment\n"
     ]
    },
    {
     "data": {
      "text/html": [
       "<iframe\n",
       "    scrolling=\"no\"\n",
       "    width=\"100%\"\n",
       "    height=\"620\"\n",
       "    src=\"iframe_figures/figure_40.html\"\n",
       "    frameborder=\"0\"\n",
       "    allowfullscreen\n",
       "></iframe>\n"
      ]
     },
     "metadata": {},
     "output_type": "display_data"
    }
   ],
   "source": [
    "# =============================================================================\n",
    "# PHASE 9: RISK ASSESSMENT VISUALIZATION\n",
    "# =============================================================================\n",
    "\n",
    "print(\"Phase 9: Risk Assessment\")\n",
    "\n",
    "# =============================================================================\n",
    "# PLOT 32: Polar Chart - Interest Rate Analysis by Loan Status\n",
    "# =============================================================================\n",
    "\n",
    "# Calculate average interest rates by loan status\n",
    "status_interest = df.groupby('loan_status').agg({'interest_rate': 'mean'}).reset_index()\n",
    "\n",
    "good_statuses = ['Fully Paid', 'Current', 'Issued']\n",
    "bad_statuses = ['Charged Off', 'Default', 'Late (31-120 days)', 'Late (16-30 days)', 'In Grace Period']\n",
    "\n",
    "good_rates = status_interest[status_interest['loan_status'].isin(good_statuses)]['interest_rate'].to_numpy()\n",
    "good_labels = status_interest[status_interest['loan_status'].isin(good_statuses)]['loan_status'].to_numpy()\n",
    "\n",
    "bad_rates = status_interest[status_interest['loan_status'].isin(bad_statuses)]['interest_rate'].to_numpy()\n",
    "bad_labels = status_interest[status_interest['loan_status'].isin(bad_statuses)]['loan_status'].to_numpy()\n",
    "\n",
    "fig = go.Figure()\n",
    "\n",
    "fig.add_trace(go.Scatterpolar(\n",
    "    r=good_rates,\n",
    "    theta=good_labels,\n",
    "    fill='toself',\n",
    "    name='Good Loans',\n",
    "    line_color='#3791D7'\n",
    "))\n",
    "\n",
    "fig.add_trace(go.Scatterpolar(\n",
    "    r=bad_rates,\n",
    "    theta=bad_labels,\n",
    "    fill='toself',\n",
    "    name='Bad Loans',\n",
    "    line_color='#D72626'\n",
    "))\n",
    "\n",
    "fig.update_layout(\n",
    "    polar=dict(\n",
    "        radialaxis=dict(\n",
    "            visible=True,\n",
    "            range=[0, max(status_interest['interest_rate']) * 1.1]\n",
    "        )),\n",
    "    title=\"Average Interest Rates by Loan Status\",\n",
    "    template=\"plotly_white\",\n",
    "    height=600\n",
    ")\n",
    "\n",
    "fig.show()"
   ]
  },
  {
   "cell_type": "code",
   "execution_count": 41,
   "id": "d2187149",
   "metadata": {
    "execution": {
     "iopub.execute_input": "2025-08-13T13:28:25.575917Z",
     "iopub.status.busy": "2025-08-13T13:28:25.575709Z",
     "iopub.status.idle": "2025-08-13T13:28:25.797090Z",
     "shell.execute_reply": "2025-08-13T13:28:25.796372Z"
    },
    "papermill": {
     "duration": 0.234714,
     "end_time": "2025-08-13T13:28:25.798186",
     "exception": false,
     "start_time": "2025-08-13T13:28:25.563472",
     "status": "completed"
    },
    "tags": []
   },
   "outputs": [
    {
     "data": {
      "text/html": [
       "<iframe\n",
       "    scrolling=\"no\"\n",
       "    width=\"100%\"\n",
       "    height=\"520\"\n",
       "    src=\"iframe_figures/figure_41.html\"\n",
       "    frameborder=\"0\"\n",
       "    allowfullscreen\n",
       "></iframe>\n"
      ]
     },
     "metadata": {},
     "output_type": "display_data"
    }
   ],
   "source": [
    "# =============================================================================\n",
    "# PLOT 33: Purpose-Based Risk Analysis - Bad/Good Loan Percentages\n",
    "# =============================================================================\n",
    "\n",
    "purpose_condition = df.groupby(['purpose', 'loan_condition']).size().reset_index(name='count')\n",
    "purpose_total = purpose_condition.groupby('purpose')['count'].sum().reset_index(name='total')\n",
    "purpose_condition = purpose_condition.merge(purpose_total, on='purpose')\n",
    "purpose_condition['percentage'] = (purpose_condition['count'] / purpose_condition['total']) * 100\n",
    "\n",
    "purpose_bad = purpose_condition[purpose_condition['loan_condition'] == 'Bad Loan']\n",
    "\n",
    "fig = go.Figure()\n",
    "\n",
    "fig.add_trace(go.Bar(\n",
    "    x=purpose_bad['purpose'].to_numpy(),\n",
    "    y=purpose_bad['percentage'].to_numpy(),\n",
    "    name='Bad Loan Percentage',\n",
    "    marker_color='#E74C3C',\n",
    "    text=purpose_bad['percentage'].round(2).astype(str) + '%',\n",
    "    textposition='auto'\n",
    "))\n",
    "\n",
    "fig.update_layout(\n",
    "    title='Bad Loan Percentage by Purpose',\n",
    "    xaxis_title='Loan Purpose',\n",
    "    yaxis_title='Bad Loan Percentage (%)',\n",
    "    template=\"plotly_white\",\n",
    "    height=500,\n",
    "    xaxis=dict(tickangle=45)\n",
    ")\n",
    "\n",
    "fig.show()"
   ]
  },
  {
   "cell_type": "code",
   "execution_count": 42,
   "id": "aa279031",
   "metadata": {
    "execution": {
     "iopub.execute_input": "2025-08-13T13:28:25.823497Z",
     "iopub.status.busy": "2025-08-13T13:28:25.823283Z",
     "iopub.status.idle": "2025-08-13T13:28:26.050850Z",
     "shell.execute_reply": "2025-08-13T13:28:26.050245Z"
    },
    "papermill": {
     "duration": 0.24127,
     "end_time": "2025-08-13T13:28:26.051963",
     "exception": false,
     "start_time": "2025-08-13T13:28:25.810693",
     "status": "completed"
    },
    "tags": []
   },
   "outputs": [
    {
     "data": {
      "text/html": [
       "<iframe\n",
       "    scrolling=\"no\"\n",
       "    width=\"100%\"\n",
       "    height=\"620\"\n",
       "    src=\"iframe_figures/figure_42.html\"\n",
       "    frameborder=\"0\"\n",
       "    allowfullscreen\n",
       "></iframe>\n"
      ]
     },
     "metadata": {},
     "output_type": "display_data"
    }
   ],
   "source": [
    "# =============================================================================\n",
    "# PLOT 34: Interest Rate Analysis by Income Category and Purpose\n",
    "# =============================================================================\n",
    "\n",
    "purpose_income_interest = df.groupby(['income_category', 'purpose']).agg({'interest_rate': 'mean'}).reset_index()\n",
    "purpose_income_interest.columns = ['income_category', 'purpose', 'avg_interest_rate']\n",
    "\n",
    "fig = go.Figure()\n",
    "\n",
    "income_categories = ['Low', 'Medium', 'High']\n",
    "income_colors = ['#E74C3C', '#F39C12', '#27AE60']\n",
    "\n",
    "for i, category in enumerate(income_categories):\n",
    "    category_data = purpose_income_interest[purpose_income_interest['income_category'] == category]\n",
    "    fig.add_trace(go.Scatter(\n",
    "        x=category_data['avg_interest_rate'].to_numpy(),\n",
    "        y=category_data['purpose'].to_numpy(),\n",
    "        mode='markers',\n",
    "        name=f'{category} Income',\n",
    "        marker=dict(color=income_colors[i], size=12),\n",
    "        text=category_data['avg_interest_rate'].round(2).astype(str) + '%',\n",
    "        textposition='middle right'\n",
    "    ))\n",
    "\n",
    "fig.update_layout(\n",
    "    title='Average Interest Rate by Purpose and Income Category',\n",
    "    xaxis_title='Average Interest Rate (%)',\n",
    "    yaxis_title='Loan Purpose',\n",
    "    template=\"plotly_white\",\n",
    "    height=600\n",
    ")\n",
    "\n",
    "fig.show()"
   ]
  },
  {
   "cell_type": "code",
   "execution_count": 43,
   "id": "fa41c4e3",
   "metadata": {
    "execution": {
     "iopub.execute_input": "2025-08-13T13:28:26.077243Z",
     "iopub.status.busy": "2025-08-13T13:28:26.076784Z",
     "iopub.status.idle": "2025-08-13T13:28:26.426397Z",
     "shell.execute_reply": "2025-08-13T13:28:26.425621Z"
    },
    "papermill": {
     "duration": 0.363158,
     "end_time": "2025-08-13T13:28:26.427581",
     "exception": false,
     "start_time": "2025-08-13T13:28:26.064423",
     "status": "completed"
    },
    "tags": []
   },
   "outputs": [
    {
     "data": {
      "text/html": [
       "<iframe\n",
       "    scrolling=\"no\"\n",
       "    width=\"100%\"\n",
       "    height=\"620\"\n",
       "    src=\"iframe_figures/figure_43.html\"\n",
       "    frameborder=\"0\"\n",
       "    allowfullscreen\n",
       "></iframe>\n"
      ]
     },
     "metadata": {},
     "output_type": "display_data"
    }
   ],
   "source": [
    "# =============================================================================\n",
    "# PLOT 35: Good/Bad Loan Counts by Purpose and Income - Good Loans\n",
    "# =============================================================================\n",
    "\n",
    "income_purpose_condition = df.groupby(['income_category', 'purpose', 'loan_condition']).size().reset_index(name='count')\n",
    "good_loans_data = income_purpose_condition[income_purpose_condition['loan_condition'] == 'Good Loan']\n",
    "\n",
    "fig = go.Figure()\n",
    "\n",
    "for i, category in enumerate(income_categories):\n",
    "    category_data = good_loans_data[good_loans_data['income_category'] == category]\n",
    "    fig.add_trace(go.Bar(\n",
    "        x=category_data['count'].to_numpy(),\n",
    "        y=category_data['purpose'].to_numpy(),\n",
    "        name=f'{category} Income',\n",
    "        orientation='h',\n",
    "        marker_color=income_colors[i],\n",
    "        opacity=0.8\n",
    "    ))\n",
    "\n",
    "fig.update_layout(\n",
    "    title='Good Loan Distribution by Purpose and Income Category',\n",
    "    xaxis_title='Number of Good Loans',\n",
    "    yaxis_title='Loan Purpose',\n",
    "    barmode='group',\n",
    "    template=\"plotly_white\",\n",
    "    height=600\n",
    ")\n",
    "\n",
    "fig.show()"
   ]
  },
  {
   "cell_type": "code",
   "execution_count": 44,
   "id": "b91a7368",
   "metadata": {
    "execution": {
     "iopub.execute_input": "2025-08-13T13:28:26.455136Z",
     "iopub.status.busy": "2025-08-13T13:28:26.454937Z",
     "iopub.status.idle": "2025-08-13T13:28:26.497552Z",
     "shell.execute_reply": "2025-08-13T13:28:26.496790Z"
    },
    "papermill": {
     "duration": 0.056495,
     "end_time": "2025-08-13T13:28:26.498703",
     "exception": false,
     "start_time": "2025-08-13T13:28:26.442208",
     "status": "completed"
    },
    "tags": []
   },
   "outputs": [
    {
     "data": {
      "text/html": [
       "<iframe\n",
       "    scrolling=\"no\"\n",
       "    width=\"100%\"\n",
       "    height=\"620\"\n",
       "    src=\"iframe_figures/figure_44.html\"\n",
       "    frameborder=\"0\"\n",
       "    allowfullscreen\n",
       "></iframe>\n"
      ]
     },
     "metadata": {},
     "output_type": "display_data"
    }
   ],
   "source": [
    "# =============================================================================\n",
    "# PLOT 36: Good/Bad Loan Counts by Purpose and Income - Bad Loans\n",
    "# =============================================================================\n",
    "\n",
    "bad_loans_data = income_purpose_condition[income_purpose_condition['loan_condition'] == 'Bad Loan']\n",
    "\n",
    "fig = go.Figure()\n",
    "\n",
    "for i, category in enumerate(income_categories):\n",
    "    category_data = bad_loans_data[bad_loans_data['income_category'] == category]\n",
    "    fig.add_trace(go.Bar(\n",
    "        x=category_data['count'].to_numpy(),\n",
    "        y=category_data['purpose'].to_numpy(),\n",
    "        name=f'{category} Income',\n",
    "        orientation='h',\n",
    "        marker_color=income_colors[i],\n",
    "        opacity=0.8\n",
    "    ))\n",
    "\n",
    "fig.update_layout(\n",
    "    title='Bad Loan Distribution by Purpose and Income Category',\n",
    "    xaxis_title='Number of Bad Loans',\n",
    "    yaxis_title='Loan Purpose',\n",
    "    barmode='group',\n",
    "    template=\"plotly_white\",\n",
    "    height=600\n",
    ")\n",
    "\n",
    "fig.show()"
   ]
  },
  {
   "cell_type": "code",
   "execution_count": 45,
   "id": "4a55bf03",
   "metadata": {
    "execution": {
     "iopub.execute_input": "2025-08-13T13:28:26.524975Z",
     "iopub.status.busy": "2025-08-13T13:28:26.524598Z",
     "iopub.status.idle": "2025-08-13T13:28:26.877241Z",
     "shell.execute_reply": "2025-08-13T13:28:26.876599Z"
    },
    "papermill": {
     "duration": 0.367307,
     "end_time": "2025-08-13T13:28:26.878391",
     "exception": false,
     "start_time": "2025-08-13T13:28:26.511084",
     "status": "completed"
    },
    "tags": []
   },
   "outputs": [
    {
     "data": {
      "text/html": [
       "<iframe\n",
       "    scrolling=\"no\"\n",
       "    width=\"100%\"\n",
       "    height=\"620\"\n",
       "    src=\"iframe_figures/figure_45.html\"\n",
       "    frameborder=\"0\"\n",
       "    allowfullscreen\n",
       "></iframe>\n"
      ]
     },
     "metadata": {},
     "output_type": "display_data"
    }
   ],
   "source": [
    "# =============================================================================\n",
    "# PLOT 37: Bad/Good Ratio Radar Charts by Income Category\n",
    "# =============================================================================\n",
    "\n",
    "# Calculate bad/good ratios\n",
    "purpose_ratios = df.groupby(['income_category', 'purpose', 'loan_condition']).size().reset_index(name='count')\n",
    "purpose_ratios_pivot = purpose_ratios.pivot_table(index=['income_category', 'purpose'], \n",
    "                                                  columns='loan_condition', \n",
    "                                                  values='count', \n",
    "                                                  fill_value=0).reset_index()\n",
    "purpose_ratios_pivot['bad_good_ratio'] = (purpose_ratios_pivot['Bad Loan'] / \n",
    "                                         (purpose_ratios_pivot['Bad Loan'] + purpose_ratios_pivot['Good Loan'])) * 100\n",
    "\n",
    "fig = go.Figure()\n",
    "\n",
    "for i, category in enumerate(income_categories):\n",
    "    category_data = purpose_ratios_pivot[purpose_ratios_pivot['income_category'] == category]\n",
    "    \n",
    "    fig.add_trace(go.Scatterpolar(\n",
    "        r=category_data['bad_good_ratio'].to_numpy(),\n",
    "        theta=category_data['purpose'].to_numpy(),\n",
    "        fill='toself',\n",
    "        name=f'{category} Income',\n",
    "        line_color=income_colors[i]\n",
    "    ))\n",
    "\n",
    "fig.update_layout(\n",
    "    polar=dict(\n",
    "        radialaxis=dict(\n",
    "            visible=True,\n",
    "            range=[0, purpose_ratios_pivot['bad_good_ratio'].max() * 1.1]\n",
    "        )),\n",
    "    title=\"Bad/Good Loan Ratio (%) by Purpose and Income Category\",\n",
    "    template=\"plotly_white\",\n",
    "    height=600\n",
    ")\n",
    "\n",
    "fig.show()"
   ]
  },
  {
   "cell_type": "code",
   "execution_count": 46,
   "id": "ca097581",
   "metadata": {
    "execution": {
     "iopub.execute_input": "2025-08-13T13:28:26.904505Z",
     "iopub.status.busy": "2025-08-13T13:28:26.904275Z",
     "iopub.status.idle": "2025-08-13T13:28:27.201420Z",
     "shell.execute_reply": "2025-08-13T13:28:27.200613Z"
    },
    "papermill": {
     "duration": 0.311225,
     "end_time": "2025-08-13T13:28:27.202571",
     "exception": false,
     "start_time": "2025-08-13T13:28:26.891346",
     "status": "completed"
    },
    "tags": []
   },
   "outputs": [
    {
     "data": {
      "text/html": [
       "<iframe\n",
       "    scrolling=\"no\"\n",
       "    width=\"100%\"\n",
       "    height=\"820\"\n",
       "    src=\"iframe_figures/figure_46.html\"\n",
       "    frameborder=\"0\"\n",
       "    allowfullscreen\n",
       "></iframe>\n"
      ]
     },
     "metadata": {},
     "output_type": "display_data"
    },
    {
     "name": "stdout",
     "output_type": "stream",
     "text": [
      "Phase 9 completed successfully\n"
     ]
    }
   ],
   "source": [
    "# =============================================================================\n",
    "# PLOT 38: Styled Risk Summary Table\n",
    "# =============================================================================\n",
    "\n",
    "# Create comprehensive summary table\n",
    "final_summary = df.groupby(['income_category', 'purpose']).agg({\n",
    "    'interest_rate': 'mean',\n",
    "    'loan_amount': 'mean',\n",
    "    'loan_condition_int': ['count', 'sum', 'mean']\n",
    "}).reset_index()\n",
    "\n",
    "# Flatten column names\n",
    "final_summary.columns = ['income_category', 'purpose', 'avg_interest_rate', 'avg_loan_amount', \n",
    "                        'total_loans', 'bad_loans', 'bad_loan_ratio']\n",
    "\n",
    "final_summary['good_loans'] = final_summary['total_loans'] - final_summary['bad_loans']\n",
    "final_summary['bad_loan_percentage'] = final_summary['bad_loan_ratio'] * 100\n",
    "\n",
    "# Round values for display\n",
    "final_summary['avg_interest_rate'] = final_summary['avg_interest_rate'].round(2)\n",
    "final_summary['avg_loan_amount'] = final_summary['avg_loan_amount'].round(0)\n",
    "final_summary['bad_loan_percentage'] = final_summary['bad_loan_percentage'].round(2)\n",
    "\n",
    "# Create color-coded table\n",
    "fig = go.Figure(data=[go.Table(\n",
    "    header=dict(values=['Income Category', 'Purpose', 'Avg Interest Rate (%)', 'Avg Loan Amount ($)', \n",
    "                       'Total Loans', 'Good Loans', 'Bad Loans', 'Bad Loan Rate (%)'],\n",
    "                fill_color='lightblue',\n",
    "                align='center',\n",
    "                font=dict(size=12, color='black')),\n",
    "    cells=dict(values=[final_summary['income_category'].to_numpy(),\n",
    "                      final_summary['purpose'].to_numpy(),\n",
    "                      final_summary['avg_interest_rate'].to_numpy(),\n",
    "                      final_summary['avg_loan_amount'].to_numpy(),\n",
    "                      final_summary['total_loans'].to_numpy(),\n",
    "                      final_summary['good_loans'].to_numpy(),\n",
    "                      final_summary['bad_loans'].to_numpy(),\n",
    "                      final_summary['bad_loan_percentage'].to_numpy()],\n",
    "               fill_color=[['white' if i % 2 == 0 else 'lightgray' for i in range(len(final_summary))] * 8],\n",
    "               align='center',\n",
    "               font=dict(size=11, color='black'))\n",
    ")])\n",
    "\n",
    "fig.update_layout(\n",
    "    title=\"Risk Summary Table by Income Category and Purpose\",\n",
    "    height=800\n",
    ")\n",
    "\n",
    "fig.show()\n",
    "\n",
    "print(\"Phase 9 completed successfully\")"
   ]
  },
  {
   "cell_type": "code",
   "execution_count": 47,
   "id": "00bfc6a5",
   "metadata": {
    "execution": {
     "iopub.execute_input": "2025-08-13T13:28:27.228612Z",
     "iopub.status.busy": "2025-08-13T13:28:27.228128Z",
     "iopub.status.idle": "2025-08-13T13:28:27.600687Z",
     "shell.execute_reply": "2025-08-13T13:28:27.599923Z"
    },
    "papermill": {
     "duration": 0.386421,
     "end_time": "2025-08-13T13:28:27.601746",
     "exception": false,
     "start_time": "2025-08-13T13:28:27.215325",
     "status": "completed"
    },
    "tags": []
   },
   "outputs": [
    {
     "name": "stdout",
     "output_type": "stream",
     "text": [
      "Phase 10: Risk-Adjusted Performance Analytics\n",
      "RAROA and EVA metrics calculated successfully\n"
     ]
    }
   ],
   "source": [
    "# =============================================================================\n",
    "# PHASE 10: RISK-ADJUSTED PERFORMANCE ANALYTICS (RAROA & EVA)\n",
    "# =============================================================================\n",
    "\n",
    "print(\"Phase 10: Risk-Adjusted Performance Analytics\")\n",
    "\n",
    "# Calculate RAROA components\n",
    "risk_free_rate = 0.02  # 2% risk-free rate assumption\n",
    "funding_cost = df['funded_amount'] * risk_free_rate * (df['term'] / 12)\n",
    "\n",
    "# Expected credit losses (simplified)\n",
    "actual_loss_rate = df.loc[df['loan_status'].isin(['Charged Off', 'Default']), 'funded_amount'].sum() / df['funded_amount'].fillna(0).sum()\n",
    "expected_credit_losses = df['out_prncp'].fillna(0) * actual_loss_rate\n",
    "\n",
    "# Net interest income\n",
    "net_interest_income = df['total_rec_int'].fillna(0) - funding_cost.fillna(0)\n",
    "\n",
    "# Average outstanding assets\n",
    "avg_outstanding_assets = (df['funded_amount'].fillna(0) + df['out_prncp'].fillna(0)) / 2\n",
    "\n",
    "# RAROA calculation\n",
    "df['raroa'] = np.where(avg_outstanding_assets > 0, \n",
    "                      (net_interest_income - expected_credit_losses) / avg_outstanding_assets, 0)\n",
    "\n",
    "# EVA components\n",
    "base_wacc = 0.08\n",
    "risk_premium_by_grade = {'A': 0.02, 'B': 0.03, 'C': 0.04, 'D': 0.06, 'E': 0.08, 'F': 0.10, 'G': 0.12}\n",
    "df['wacc'] = base_wacc + df['grade'].astype(str).map(risk_premium_by_grade).fillna(0.06)\n",
    "\n",
    "# ROIC and EVA calculation\n",
    "nopat = df['total_rec_int'].fillna(0) - expected_credit_losses\n",
    "df['roic'] = np.where(df['funded_amount'].fillna(0) > 0, nopat / df['funded_amount'].fillna(0), 0)\n",
    "df['eva'] = (df['roic'] - df['wacc']) * df['funded_amount'].fillna(0)\n",
    "\n",
    "print(\"RAROA and EVA metrics calculated successfully\")"
   ]
  },
  {
   "cell_type": "code",
   "execution_count": 48,
   "id": "1ece106c",
   "metadata": {
    "execution": {
     "iopub.execute_input": "2025-08-13T13:28:27.628333Z",
     "iopub.status.busy": "2025-08-13T13:28:27.628078Z",
     "iopub.status.idle": "2025-08-13T13:28:28.334094Z",
     "shell.execute_reply": "2025-08-13T13:28:28.333353Z"
    },
    "papermill": {
     "duration": 0.720292,
     "end_time": "2025-08-13T13:28:28.335266",
     "exception": false,
     "start_time": "2025-08-13T13:28:27.614974",
     "status": "completed"
    },
    "tags": []
   },
   "outputs": [
    {
     "data": {
      "text/html": [
       "<iframe\n",
       "    scrolling=\"no\"\n",
       "    width=\"100%\"\n",
       "    height=\"1520\"\n",
       "    src=\"iframe_figures/figure_48.html\"\n",
       "    frameborder=\"0\"\n",
       "    allowfullscreen\n",
       "></iframe>\n"
      ]
     },
     "metadata": {},
     "output_type": "display_data"
    }
   ],
   "source": [
    "# =============================================================================\n",
    "# PLOT 39: RAROA Performance Dashboard - Sunburst (Corrected for Hierarchy)\n",
    "# =============================================================================\n",
    "\n",
    "# --- Step 1: Create data for each level of the hierarchy ---\n",
    "\n",
    "# Level 3 (Innermost): Region -> Grade -> Purpose\n",
    "level3_data = df.groupby(['region', 'grade', 'purpose']).agg(\n",
    "    avg_raroa=('raroa', 'mean'),\n",
    "    total_funded=('funded_amount', 'sum')\n",
    ").reset_index()\n",
    "\n",
    "# Level 2: Region -> Grade\n",
    "level2_data = df.groupby(['region', 'grade']).agg(\n",
    "    avg_raroa=('raroa', 'mean'),\n",
    "    total_funded=('funded_amount', 'sum')\n",
    ").reset_index()\n",
    "\n",
    "# Level 1 (Outermost): Region\n",
    "level1_data = df.groupby(['region']).agg(\n",
    "    avg_raroa=('raroa', 'mean'),\n",
    "    total_funded=('funded_amount', 'sum')\n",
    ").reset_index()\n",
    "\n",
    "# --- Step 2: Create the required 'ids', 'labels', and 'parents' for each level ---\n",
    "\n",
    "# For Level 3\n",
    "level3_data['ids'] = level3_data['region'].astype(str) + ' - ' + level3_data['grade'].astype(str) + ' - ' + level3_data['purpose'].astype(str)\n",
    "level3_data['parents'] = level3_data['region'].astype(str) + ' - ' + level3_data['grade'].astype(str)\n",
    "level3_data['labels'] = level3_data['purpose'].astype(str)\n",
    "\n",
    "# For Level 2\n",
    "level2_data['ids'] = level2_data['region'].astype(str) + ' - ' + level2_data['grade'].astype(str)\n",
    "level2_data['parents'] = level2_data['region'].astype(str)\n",
    "level2_data['labels'] = level2_data['grade'].astype(str)\n",
    "\n",
    "# For Level 1\n",
    "level1_data['ids'] = level1_data['region'].astype(str)\n",
    "level1_data['parents'] = '' # The root of the hierarchy has no parent\n",
    "level1_data['labels'] = level1_data['region'].astype(str)\n",
    "\n",
    "# --- Step 3: Combine all levels into a single DataFrame ---\n",
    "sunburst_data = pd.concat([level1_data, level2_data, level3_data], ignore_index=True)\n",
    "\n",
    "\n",
    "# --- Step 4: Create the Sunburst figure with the complete hierarchy ---\n",
    "fig = go.Figure(go.Sunburst(\n",
    "    ids=sunburst_data['ids'],\n",
    "    labels=sunburst_data['labels'],\n",
    "    parents=sunburst_data['parents'],\n",
    "    values=sunburst_data['total_funded'],\n",
    "    branchvalues=\"total\",\n",
    "    \n",
    "    # Use customdata to pass the RAROA values for the hover text\n",
    "    customdata=sunburst_data['avg_raroa'],\n",
    "    hovertemplate='<b>%{label}</b><br>RAROA: %{customdata:.2%}<br>Funded: $%{value:,.0f}<extra></extra>',\n",
    "    \n",
    "    # Color the segments by their RAROA value\n",
    "    marker=dict(\n",
    "        colors=sunburst_data['avg_raroa'],\n",
    "        colorscale='RdYlGn',\n",
    "        colorbar_title=\"Avg RAROA\",\n",
    "        cmid=df['raroa'].mean() # Center the color scale around the average RAROA\n",
    "    )\n",
    "))\n",
    "\n",
    "fig.update_layout(\n",
    "    title=\"RAROA Performance Hierarchy: Region → Grade → Purpose\",\n",
    "    template=\"plotly_white\",\n",
    "    height=1500 # Increased height for better visibility\n",
    ")\n",
    "\n",
    "fig.show()"
   ]
  },
  {
   "cell_type": "code",
   "execution_count": 49,
   "id": "8b168de3",
   "metadata": {
    "execution": {
     "iopub.execute_input": "2025-08-13T13:28:28.363348Z",
     "iopub.status.busy": "2025-08-13T13:28:28.362658Z",
     "iopub.status.idle": "2025-08-13T13:28:28.503644Z",
     "shell.execute_reply": "2025-08-13T13:28:28.502931Z"
    },
    "papermill": {
     "duration": 0.155564,
     "end_time": "2025-08-13T13:28:28.504870",
     "exception": false,
     "start_time": "2025-08-13T13:28:28.349306",
     "status": "completed"
    },
    "tags": []
   },
   "outputs": [
    {
     "data": {
      "text/html": [
       "<iframe\n",
       "    scrolling=\"no\"\n",
       "    width=\"100%\"\n",
       "    height=\"520\"\n",
       "    src=\"iframe_figures/figure_49.html\"\n",
       "    frameborder=\"0\"\n",
       "    allowfullscreen\n",
       "></iframe>\n"
      ]
     },
     "metadata": {},
     "output_type": "display_data"
    }
   ],
   "source": [
    "# =============================================================================\n",
    "# PLOT 40: RAROA vs Risk Scatter Plot\n",
    "# =============================================================================\n",
    "\n",
    "grade_raroa = df.groupby('grade').agg({\n",
    "    'raroa': 'mean',\n",
    "    'loan_condition_int': 'mean',\n",
    "    'funded_amount': 'sum'\n",
    "}).reset_index()\n",
    "\n",
    "grade_raroa.columns = ['grade', 'avg_raroa', 'default_rate', 'portfolio_size']\n",
    "\n",
    "fig = go.Figure()\n",
    "\n",
    "fig.add_trace(go.Scatter(\n",
    "    x=grade_raroa['default_rate'].to_numpy() * 100,\n",
    "    y=grade_raroa['avg_raroa'].to_numpy() * 100,\n",
    "    mode='markers+text',\n",
    "    marker=dict(\n",
    "        size=grade_raroa['portfolio_size'].to_numpy() / 5e7,  # Scale for visibility\n",
    "        color=grade_raroa['avg_raroa'].to_numpy(),\n",
    "        colorscale='RdYlGn',\n",
    "        showscale=True,\n",
    "        colorbar=dict(title=\"RAROA (%)\"),\n",
    "        cmin=grade_raroa['avg_raroa'].min(), # Set the minimum for the color scale\n",
    "        cmax=grade_raroa['avg_raroa'].max(), # Set the maximum for the color scale\n",
    "        cmid=grade_raroa['avg_raroa'].mean() # Center the scale on the average RAROA\n",
    "    ),\n",
    "    text=grade_raroa['grade'].to_numpy(),\n",
    "    textposition=\"middle center\",\n",
    "    name='Credit Grades'\n",
    "))\n",
    "\n",
    "# Add quadrant lines\n",
    "fig.add_hline(y=0, line_dash=\"dash\", line_color=\"gray\")\n",
    "fig.add_vline(x=grade_raroa['default_rate'].mean() * 100, line_dash=\"dash\", line_color=\"gray\")\n",
    "\n",
    "fig.update_layout(\n",
    "    title='RAROA vs Default Rate by Credit Grade',\n",
    "    xaxis_title='Default Rate (%)',\n",
    "    yaxis_title='RAROA (%)',\n",
    "    template=\"plotly_white\",\n",
    "    height=500\n",
    ")\n",
    "\n",
    "fig.show()"
   ]
  },
  {
   "cell_type": "code",
   "execution_count": 50,
   "id": "7a4cf405",
   "metadata": {
    "execution": {
     "iopub.execute_input": "2025-08-13T13:28:28.531653Z",
     "iopub.status.busy": "2025-08-13T13:28:28.531458Z",
     "iopub.status.idle": "2025-08-13T13:28:28.706926Z",
     "shell.execute_reply": "2025-08-13T13:28:28.706274Z"
    },
    "papermill": {
     "duration": 0.190078,
     "end_time": "2025-08-13T13:28:28.708154",
     "exception": false,
     "start_time": "2025-08-13T13:28:28.518076",
     "status": "completed"
    },
    "tags": []
   },
   "outputs": [
    {
     "data": {
      "text/html": [
       "<iframe\n",
       "    scrolling=\"no\"\n",
       "    width=\"100%\"\n",
       "    height=\"1020\"\n",
       "    src=\"iframe_figures/figure_50.html\"\n",
       "    frameborder=\"0\"\n",
       "    allowfullscreen\n",
       "></iframe>\n"
      ]
     },
     "metadata": {},
     "output_type": "display_data"
    }
   ],
   "source": [
    "# =============================================================================\n",
    "# PLOT 41: RAROA Time Evolution - 3D Surface\n",
    "# =============================================================================\n",
    "\n",
    "raroa_time = df.groupby(['year', 'grade']).agg({'raroa': 'mean'}).reset_index()\n",
    "raroa_time_pivot = raroa_time.pivot(index='year', columns='grade', values='raroa').fillna(0)\n",
    "\n",
    "fig = go.Figure(data=[go.Surface(\n",
    "    z=raroa_time_pivot.values,\n",
    "    x=raroa_time_pivot.columns.to_numpy(),\n",
    "    y=raroa_time_pivot.index.to_numpy(),\n",
    "    colorscale='RdYlGn',\n",
    "    connectgaps=False\n",
    ")])\n",
    "\n",
    "fig.update_layout(\n",
    "    title='RAROA Evolution Over Time by Credit Grade',\n",
    "    scene=dict(\n",
    "        xaxis_title='Credit Grade',\n",
    "        yaxis_title='Year',\n",
    "        zaxis_title='RAROA',\n",
    "        camera=dict(eye=dict(x=1.2, y=1.2, z=1.2))\n",
    "    ),\n",
    "    height=1000\n",
    ")\n",
    "\n",
    "fig.show()"
   ]
  },
  {
   "cell_type": "code",
   "execution_count": 51,
   "id": "7bdf13c8",
   "metadata": {
    "execution": {
     "iopub.execute_input": "2025-08-13T13:28:28.735354Z",
     "iopub.status.busy": "2025-08-13T13:28:28.735106Z",
     "iopub.status.idle": "2025-08-13T13:28:28.839851Z",
     "shell.execute_reply": "2025-08-13T13:28:28.839153Z"
    },
    "papermill": {
     "duration": 0.119421,
     "end_time": "2025-08-13T13:28:28.841127",
     "exception": false,
     "start_time": "2025-08-13T13:28:28.721706",
     "status": "completed"
    },
    "tags": []
   },
   "outputs": [
    {
     "data": {
      "text/html": [
       "<iframe\n",
       "    scrolling=\"no\"\n",
       "    width=\"100%\"\n",
       "    height=\"520\"\n",
       "    src=\"iframe_figures/figure_51.html\"\n",
       "    frameborder=\"0\"\n",
       "    allowfullscreen\n",
       "></iframe>\n"
      ]
     },
     "metadata": {},
     "output_type": "display_data"
    }
   ],
   "source": [
    "# =============================================================================\n",
    "# PLOT 42: EVA Waterfall Analysis\n",
    "# =============================================================================\n",
    "\n",
    "eva_components = df.groupby('grade').agg({\n",
    "    'total_rec_int': 'sum',\n",
    "    'funded_amount': 'sum',\n",
    "    'eva': 'sum'\n",
    "}).reset_index()\n",
    "\n",
    "eva_components['interest_income'] = eva_components['total_rec_int'].fillna(0)\n",
    "eva_components['expected_losses'] = eva_components['funded_amount'] * actual_loss_rate\n",
    "eva_components['funding_cost'] = eva_components['funded_amount'] * base_wacc\n",
    "eva_components['net_income'] = (eva_components['interest_income'] - \n",
    "                               eva_components['expected_losses'] - \n",
    "                               eva_components['funding_cost'])\n",
    "\n",
    "# Create waterfall data\n",
    "waterfall_data = []\n",
    "cumulative = 0\n",
    "\n",
    "for _, row in eva_components.iterrows():\n",
    "    grade = row['grade']\n",
    "    eva_value = row['eva']\n",
    "    \n",
    "    waterfall_data.append({\n",
    "        'grade': grade,\n",
    "        'eva': eva_value,\n",
    "        'cumulative': cumulative + eva_value\n",
    "    })\n",
    "    cumulative += eva_value\n",
    "\n",
    "waterfall_df = pd.DataFrame(waterfall_data)\n",
    "\n",
    "fig = go.Figure(go.Waterfall(\n",
    "    name=\"EVA by Grade\",\n",
    "    orientation=\"v\",\n",
    "    measure=[\"relative\"] * len(waterfall_df),\n",
    "    x=waterfall_df['grade'].to_numpy(),\n",
    "    y=waterfall_df['eva'].to_numpy(),\n",
    "    connector={\"line\": {\"color\": \"rgb(63, 63, 63)\"}},\n",
    "))\n",
    "\n",
    "fig.update_layout(\n",
    "    title=\"Economic Value Added (EVA) Waterfall by Credit Grade\",\n",
    "    xaxis_title=\"Credit Grade\",\n",
    "    yaxis_title=\"EVA (USD)\",\n",
    "    template=\"plotly_white\",\n",
    "    height=500\n",
    ")\n",
    "\n",
    "fig.show()"
   ]
  },
  {
   "cell_type": "code",
   "execution_count": 52,
   "id": "c6635e7d",
   "metadata": {
    "execution": {
     "iopub.execute_input": "2025-08-13T13:28:28.868375Z",
     "iopub.status.busy": "2025-08-13T13:28:28.868141Z",
     "iopub.status.idle": "2025-08-13T13:28:29.304738Z",
     "shell.execute_reply": "2025-08-13T13:28:29.304124Z"
    },
    "papermill": {
     "duration": 0.451091,
     "end_time": "2025-08-13T13:28:29.305853",
     "exception": false,
     "start_time": "2025-08-13T13:28:28.854762",
     "status": "completed"
    },
    "tags": []
   },
   "outputs": [
    {
     "data": {
      "text/html": [
       "<iframe\n",
       "    scrolling=\"no\"\n",
       "    width=\"100%\"\n",
       "    height=\"620\"\n",
       "    src=\"iframe_figures/figure_52.html\"\n",
       "    frameborder=\"0\"\n",
       "    allowfullscreen\n",
       "></iframe>\n"
      ]
     },
     "metadata": {},
     "output_type": "display_data"
    }
   ],
   "source": [
    "# =============================================================================\n",
    "# PLOT 43: EVA Efficiency Matrix - Treemap (Corrected for Hierarchy)\n",
    "# =============================================================================\n",
    "\n",
    "# --- Step 1: Create data for each level of the hierarchy ---\n",
    "\n",
    "# Level 2 (The Children): Data grouped by Region and Grade\n",
    "level2_data = df.groupby(['region', 'grade']).agg(\n",
    "    eva_sum=('eva', 'sum'),\n",
    "    funded_sum=('funded_amount', 'sum')\n",
    ").reset_index()\n",
    "\n",
    "# Level 1 (The Parents): Data grouped by Region only\n",
    "level1_data = df.groupby(['region']).agg(\n",
    "    eva_sum=('eva', 'sum'),\n",
    "    funded_sum=('funded_amount', 'sum')\n",
    ").reset_index()\n",
    "\n",
    "# --- Step 2: Calculate EVA efficiency for both levels ---\n",
    "level2_data['eva_efficiency'] = np.where(level2_data['funded_sum'] > 0, level2_data['eva_sum'] / level2_data['funded_sum'], 0)\n",
    "level1_data['eva_efficiency'] = np.where(level1_data['funded_sum'] > 0, level1_data['eva_sum'] / level1_data['funded_sum'], 0)\n",
    "\n",
    "\n",
    "# --- Step 3: Define the labels, parents, and values for the plot ---\n",
    "\n",
    "# For Level 2 (Children)\n",
    "level2_data['labels'] = level2_data['region'].astype(str) + '<br>' + level2_data['grade'].astype(str)\n",
    "level2_data['parents'] = level2_data['region'].astype(str)\n",
    "\n",
    "# For Level 1 (Parents)\n",
    "level1_data['labels'] = level1_data['region'].astype(str)\n",
    "level1_data['parents'] = \"\" # Top-level parents have an empty string parent\n",
    "\n",
    "\n",
    "# --- Step 4: Combine all levels into a single DataFrame for plotting ---\n",
    "treemap_data = pd.concat([level1_data, level2_data], ignore_index=True)\n",
    "\n",
    "\n",
    "# --- Step 5: Create the Treemap figure ---\n",
    "fig = go.Figure(go.Treemap(\n",
    "    labels=treemap_data['labels'],\n",
    "    parents=treemap_data['parents'],\n",
    "    values=treemap_data['funded_sum'], # Use the sum of funded amount for size\n",
    "    \n",
    "    # Use the pre-calculated eva_efficiency for coloring\n",
    "    marker_colors=treemap_data['eva_efficiency'],\n",
    "    \n",
    "    # Use customdata to ensure the hover text always shows the correct efficiency\n",
    "    customdata=treemap_data['eva_efficiency'],\n",
    "    hovertemplate='<b>%{label}</b><br>EVA Efficiency: %{customdata:.2%}<br>Capital Deployed: $%{value:,.0f}<extra></extra>',\n",
    "    \n",
    "    textinfo=\"label+value+percent parent\",\n",
    "    marker_colorscale='RdYlGn',\n",
    "    marker_cmid=0 # Center the color scale at 0\n",
    "))\n",
    "\n",
    "fig.update_layout(\n",
    "    title=\"EVA Efficiency by Region and Grade (Size = Capital Deployed)\",\n",
    "    template=\"plotly_white\",\n",
    "    height=600\n",
    ")\n",
    "\n",
    "fig.show()"
   ]
  },
  {
   "cell_type": "code",
   "execution_count": 53,
   "id": "c17cb06b",
   "metadata": {
    "execution": {
     "iopub.execute_input": "2025-08-13T13:28:29.332580Z",
     "iopub.status.busy": "2025-08-13T13:28:29.332361Z",
     "iopub.status.idle": "2025-08-13T13:28:29.680820Z",
     "shell.execute_reply": "2025-08-13T13:28:29.680014Z"
    },
    "papermill": {
     "duration": 0.362848,
     "end_time": "2025-08-13T13:28:29.681926",
     "exception": false,
     "start_time": "2025-08-13T13:28:29.319078",
     "status": "completed"
    },
    "tags": []
   },
   "outputs": [
    {
     "data": {
      "text/html": [
       "<iframe\n",
       "    scrolling=\"no\"\n",
       "    width=\"100%\"\n",
       "    height=\"1020\"\n",
       "    src=\"iframe_figures/figure_53.html\"\n",
       "    frameborder=\"0\"\n",
       "    allowfullscreen\n",
       "></iframe>\n"
      ]
     },
     "metadata": {},
     "output_type": "display_data"
    },
    {
     "name": "stdout",
     "output_type": "stream",
     "text": [
      "Phase 10 completed successfully\n"
     ]
    }
   ],
   "source": [
    "# =============================================================================\n",
    "# PLOT 44: Portfolio EVA Optimization - Parallel Coordinates\n",
    "# =============================================================================\n",
    "\n",
    "eva_analysis = df.groupby(['grade', 'region', 'purpose']).agg({\n",
    "    'raroa': 'mean',\n",
    "    'eva': 'sum',\n",
    "    'loan_condition_int': 'mean',\n",
    "    'interest_rate': 'mean',\n",
    "    'funded_amount': 'sum'\n",
    "}).reset_index()\n",
    "\n",
    "eva_analysis.columns = ['grade', 'region', 'purpose', 'raroa', 'eva', 'default_rate', 'interest_rate', 'volume']\n",
    "\n",
    "# Normalize for parallel coordinates\n",
    "for col in ['raroa', 'eva', 'default_rate', 'interest_rate', 'volume']:\n",
    "    eva_analysis[f'{col}_norm'] = (eva_analysis[col] - eva_analysis[col].min()) / (eva_analysis[col].max() - eva_analysis[col].min())\n",
    "\n",
    "fig = go.Figure(data=go.Parcoords(\n",
    "    line=dict(color=eva_analysis['eva'].to_numpy(),\n",
    "              colorscale='RdYlGn',\n",
    "              showscale=True,\n",
    "              colorbar=dict(title=\"EVA\")),\n",
    "    dimensions=list([\n",
    "        dict(range=[0, 1], label=\"RAROA\", values=eva_analysis['raroa_norm'].to_numpy()),\n",
    "        dict(range=[0, 1], label=\"Default Rate\", values=eva_analysis['default_rate_norm'].to_numpy()),\n",
    "        dict(range=[0, 1], label=\"Interest Rate\", values=eva_analysis['interest_rate_norm'].to_numpy()),\n",
    "        dict(range=[0, 1], label=\"Volume\", values=eva_analysis['volume_norm'].to_numpy()),\n",
    "        dict(range=[0, 1], label=\"EVA\", values=eva_analysis['eva_norm'].to_numpy())\n",
    "    ])\n",
    "))\n",
    "\n",
    "fig.update_layout(\n",
    "    title=\"Portfolio Optimization: Multi-Dimensional Risk-Return Analysis\",\n",
    "    template=\"plotly_white\",\n",
    "    height=1000\n",
    ")\n",
    "\n",
    "fig.show()\n",
    "print(\"Phase 10 completed successfully\")"
   ]
  },
  {
   "cell_type": "code",
   "execution_count": 54,
   "id": "5b3fb2ed",
   "metadata": {
    "execution": {
     "iopub.execute_input": "2025-08-13T13:28:29.710046Z",
     "iopub.status.busy": "2025-08-13T13:28:29.709391Z",
     "iopub.status.idle": "2025-08-13T13:28:33.578121Z",
     "shell.execute_reply": "2025-08-13T13:28:33.577315Z"
    },
    "papermill": {
     "duration": 3.883638,
     "end_time": "2025-08-13T13:28:33.579388",
     "exception": false,
     "start_time": "2025-08-13T13:28:29.695750",
     "status": "completed"
    },
    "tags": []
   },
   "outputs": [
    {
     "name": "stdout",
     "output_type": "stream",
     "text": [
      "Phase 11: Survival Analysis\n",
      "Survival analysis dataset prepared: 2249276 loans\n"
     ]
    }
   ],
   "source": [
    "# =============================================================================\n",
    "# PHASE 11: SURVIVAL ANALYSIS\n",
    "# =============================================================================\n",
    "\n",
    "print(\"Phase 11: Survival Analysis\")\n",
    "\n",
    "# Prepare survival analysis dataset\n",
    "survival_df = df.copy()\n",
    "\n",
    "\n",
    "# Use the original datetime columns directly\n",
    "survival_df['time_to_event'] = ((df['last_pymnt_d'] - df['issue_d']).dt.days / 30.44).fillna(0)\n",
    "\n",
    "# Event indicator (1 = default/charged off, 0 = censored)\n",
    "survival_df['event'] = df['loan_status'].isin(['Charged Off', 'Default']).astype(int)\n",
    "\n",
    "# For current loans, calculate time from issue to end of observation period\n",
    "current_mask = df['loan_status'] == 'Current'\n",
    "survival_df.loc[current_mask, 'time_to_event'] = (\n",
    "    (pd.to_datetime('2018-12-31') - survival_df.loc[current_mask, 'issue_d']).dt.days / 30.44\n",
    ")\n",
    "\n",
    "# Remove invalid data\n",
    "survival_df = survival_df[(survival_df['time_to_event'] > 0) & (survival_df['time_to_event'] < 100)]\n",
    "\n",
    "print(f\"Survival analysis dataset prepared: {len(survival_df)} loans\")"
   ]
  },
  {
   "cell_type": "code",
   "execution_count": 55,
   "id": "76d1769d",
   "metadata": {
    "execution": {
     "iopub.execute_input": "2025-08-13T13:28:33.606957Z",
     "iopub.status.busy": "2025-08-13T13:28:33.606757Z",
     "iopub.status.idle": "2025-08-13T13:28:35.820341Z",
     "shell.execute_reply": "2025-08-13T13:28:35.819569Z"
    },
    "papermill": {
     "duration": 2.228381,
     "end_time": "2025-08-13T13:28:35.821642",
     "exception": false,
     "start_time": "2025-08-13T13:28:33.593261",
     "status": "completed"
    },
    "tags": []
   },
   "outputs": [
    {
     "data": {
      "text/html": [
       "<iframe\n",
       "    scrolling=\"no\"\n",
       "    width=\"100%\"\n",
       "    height=\"820\"\n",
       "    src=\"iframe_figures/figure_55.html\"\n",
       "    frameborder=\"0\"\n",
       "    allowfullscreen\n",
       "></iframe>\n"
      ]
     },
     "metadata": {},
     "output_type": "display_data"
    }
   ],
   "source": [
    "# =============================================================================\n",
    "# PLOT 45: Kaplan-Meier Survival Curves by Credit Grade\n",
    "# =============================================================================\n",
    "\n",
    "fig = go.Figure()\n",
    "\n",
    "grades = sorted(survival_df['grade'].unique())\n",
    "for i, grade in enumerate(grades):\n",
    "    grade_data = survival_df[survival_df['grade'] == grade]\n",
    "    \n",
    "    kmf = KaplanMeierFitter()\n",
    "    kmf.fit(grade_data['time_to_event'], event_observed=grade_data['event'], label=f'Grade {grade}')\n",
    "    \n",
    "    survival_times = kmf.survival_function_.index.to_numpy()\n",
    "    survival_probs = kmf.survival_function_.values.flatten()\n",
    "    confidence_lower = kmf.confidence_interval_.iloc[:, 0].to_numpy()\n",
    "    confidence_upper = kmf.confidence_interval_.iloc[:, 1].to_numpy()\n",
    "    \n",
    "    # Main survival curve\n",
    "    fig.add_trace(go.Scatter(\n",
    "        x=survival_times,\n",
    "        y=survival_probs,\n",
    "        mode='lines',\n",
    "        name=f'Grade {grade}',\n",
    "        line=dict(color=grade_colors[i % len(grade_colors)], width=2)\n",
    "    ))\n",
    "    \n",
    "    # Confidence interval\n",
    "    fig.add_trace(go.Scatter(\n",
    "        x=np.concatenate([survival_times, survival_times[::-1]]),\n",
    "        y=np.concatenate([confidence_upper, confidence_lower[::-1]]),\n",
    "        fill='toself',\n",
    "        fillcolor=f'rgba{tuple(list(px.colors.hex_to_rgb(grade_colors[i % len(grade_colors)])) + [0.1])}',\n",
    "        line=dict(color='rgba(255,255,255,0)'),\n",
    "        showlegend=False,\n",
    "        hoverinfo=\"skip\"\n",
    "    ))\n",
    "\n",
    "fig.update_layout(\n",
    "    title='Kaplan-Meier Survival Curves by Credit Grade',\n",
    "    xaxis_title='Time (Months)',\n",
    "    yaxis_title='Survival Probability',\n",
    "    template=\"plotly_white\",\n",
    "    height=800\n",
    ")\n",
    "\n",
    "fig.show()"
   ]
  },
  {
   "cell_type": "code",
   "execution_count": 56,
   "id": "742d180c",
   "metadata": {
    "execution": {
     "iopub.execute_input": "2025-08-13T13:28:35.849721Z",
     "iopub.status.busy": "2025-08-13T13:28:35.849497Z",
     "iopub.status.idle": "2025-08-13T13:28:38.152262Z",
     "shell.execute_reply": "2025-08-13T13:28:38.151672Z"
    },
    "papermill": {
     "duration": 2.318044,
     "end_time": "2025-08-13T13:28:38.153329",
     "exception": false,
     "start_time": "2025-08-13T13:28:35.835285",
     "status": "completed"
    },
    "tags": []
   },
   "outputs": [
    {
     "data": {
      "text/html": [
       "<iframe\n",
       "    scrolling=\"no\"\n",
       "    width=\"100%\"\n",
       "    height=\"620\"\n",
       "    src=\"iframe_figures/figure_56.html\"\n",
       "    frameborder=\"0\"\n",
       "    allowfullscreen\n",
       "></iframe>\n"
      ]
     },
     "metadata": {},
     "output_type": "display_data"
    }
   ],
   "source": [
    "# =============================================================================\n",
    "# PLOT 46: Hazard Rate Heatmap by Grade and Time\n",
    "# =============================================================================\n",
    "\n",
    "# Calculate hazard rates by grade and time periods\n",
    "hazard_data = []\n",
    "# Ensure time bins cover the entire range of your data\n",
    "time_bins = np.arange(0, survival_df['time_to_event'].max() + 6, 6) \n",
    "\n",
    "for grade in grades:\n",
    "    grade_data = survival_df[survival_df['grade'] == grade]\n",
    "    if grade_data.empty:\n",
    "        continue\n",
    "    \n",
    "    kmf = KaplanMeierFitter()\n",
    "    kmf.fit(grade_data['time_to_event'], event_observed=grade_data['event'])\n",
    "    \n",
    "    for i in range(len(time_bins) - 1):\n",
    "        start_time = time_bins[i]\n",
    "        end_time = time_bins[i + 1]\n",
    "        \n",
    "        # --- FIX START ---\n",
    "        # Use .asof() to get the survival probability at the last known point in time\n",
    "        # This correctly handles the step-function nature of the survival curve.\n",
    "        survival_start = kmf.survival_function_.asof([start_time]).iloc[0,0]\n",
    "        survival_end = kmf.survival_function_.asof([end_time]).iloc[0,0]\n",
    "        \n",
    "        # Calculate hazard rate, checking for division by zero or log(0) issues\n",
    "        if survival_start > 0 and survival_end > 0 and survival_start > survival_end:\n",
    "            # The formula for average hazard rate in an interval\n",
    "            hazard_rate = -(np.log(survival_end) - np.log(survival_start)) / (end_time - start_time)\n",
    "        else:\n",
    "            hazard_rate = 0.0\n",
    "        # --- FIX END ---\n",
    "            \n",
    "        hazard_data.append({\n",
    "            'grade': grade,\n",
    "            'time_period': f'{start_time:.0f}-{end_time:.0f}',\n",
    "            'hazard_rate': hazard_rate\n",
    "        })\n",
    "\n",
    "hazard_df = pd.DataFrame(hazard_data)\n",
    "\n",
    "# Ensure columns are sorted chronologically in the pivot table\n",
    "time_period_order = [f'{tb:.0f}-{tb+6:.0f}' for tb in time_bins[:-1]]\n",
    "hazard_pivot = hazard_df.pivot(index='grade', columns='time_period', values='hazard_rate')\n",
    "hazard_pivot = hazard_pivot.reindex(columns=time_period_order).fillna(0)\n",
    "\n",
    "fig = go.Figure(data=go.Heatmap(\n",
    "    z=hazard_pivot.values,\n",
    "    x=hazard_pivot.columns,\n",
    "    y=hazard_pivot.index,\n",
    "    colorscale='Reds',\n",
    "    hoverongaps=False,\n",
    "    text=np.round(hazard_pivot.values, 4), # Increased precision for small values\n",
    "    texttemplate=\"%{text}\",\n",
    "    textfont={\"size\": 10}\n",
    "))\n",
    "\n",
    "fig.update_layout(\n",
    "    title='Hazard Rate Heatmap by Credit Grade and Time Period',\n",
    "    xaxis_title='Time Period (Months)',\n",
    "    yaxis_title='Credit Grade',\n",
    "    template=\"plotly_white\",\n",
    "    height=600 # Adjusted height for better readability\n",
    ")\n",
    "\n",
    "fig.show()"
   ]
  },
  {
   "cell_type": "code",
   "execution_count": 57,
   "id": "5366207f",
   "metadata": {
    "execution": {
     "iopub.execute_input": "2025-08-13T13:28:38.181784Z",
     "iopub.status.busy": "2025-08-13T13:28:38.181186Z",
     "iopub.status.idle": "2025-08-13T13:28:45.112155Z",
     "shell.execute_reply": "2025-08-13T13:28:45.111445Z"
    },
    "papermill": {
     "duration": 6.946895,
     "end_time": "2025-08-13T13:28:45.113897",
     "exception": false,
     "start_time": "2025-08-13T13:28:38.167002",
     "status": "completed"
    },
    "tags": []
   },
   "outputs": [
    {
     "data": {
      "image/png": "[encoded data removed]",
      "text/plain": [
       "<Figure size 1000x700 with 1 Axes>"
      ]
     },
     "metadata": {},
     "output_type": "display_data"
    }
   ],
   "source": [
    "# =============================================================================\n",
    "# CORRECTED AND STYLED PLOT 47: Cox Proportional Hazards Model\n",
    "# =============================================================================\n",
    "\n",
    "import pandas as pd\n",
    "import numpy as np\n",
    "import matplotlib.pyplot as plt\n",
    "from lifelines import CoxPHFitter\n",
    "from sklearn.preprocessing import StandardScaler\n",
    "\n",
    "# --- Data Preparation and Model Fitting (same as before) ---\n",
    "cox_data = survival_df[['time_to_event', 'event', 'loan_amount', 'interest_rate', \n",
    "                       'annual_income', 'dti', 'delinq_2yrs', 'fico_range_low', \n",
    "                       'inq_last_6mths', 'open_acc', 'pub_rec', 'emp_length']].copy()\n",
    "cox_data = cox_data.dropna()\n",
    "\n",
    "features_to_scale = ['loan_amount', 'interest_rate', 'annual_income', 'dti', \n",
    "                     'delinq_2yrs', 'fico_range_low', 'inq_last_6mths', \n",
    "                     'open_acc', 'pub_rec', 'emp_length']\n",
    "scaler = StandardScaler()\n",
    "scaled_cox_data = cox_data.copy()\n",
    "scaled_cox_data[features_to_scale] = scaler.fit_transform(cox_data[features_to_scale])\n",
    "\n",
    "cph = CoxPHFitter()\n",
    "cph.fit(scaled_cox_data, duration_col='time_to_event', event_col='event')\n",
    "\n",
    "\n",
    "# --- FIX AND STYLING START ---\n",
    "\n",
    "# 1. Create the plot with hazard_ratios=True\n",
    "fig, ax = plt.subplots(figsize=(10, 7))\n",
    "cph.plot(hazard_ratios=True, ax=ax)\n",
    "\n",
    "# 2. Prepare a list of colors based on the hazard ratios\n",
    "hazard_ratios = cph.hazard_ratios_\n",
    "# The hazard ratios from cph.plot are typically ordered from bottom to top on the y-axis,\n",
    "# so we reverse the order of the ratios to match the markers.\n",
    "colors = ['red' if hr > 1 else 'blue' for hr in reversed(hazard_ratios.values)]\n",
    "\n",
    "# 3. Access the SINGLE collection of markers and set their colors all at once\n",
    "# Check that a collection exists to be safe\n",
    "if ax.collections:\n",
    "    # ax.collections[0] is the collection of all the square markers\n",
    "    marker_collection = ax.collections[0]\n",
    "    marker_collection.set_color(colors)\n",
    "    marker_collection.set_edgecolor('black') # Add a black edge for better visibility\n",
    "\n",
    "# 4. Customize the rest of the plot aesthetics\n",
    "ax.set_title(\"Cox Proportional Hazards Model - Hazard Ratios with 95% CI\", fontsize=16, pad=20)\n",
    "ax.set_xlabel(\"Hazard Ratio (HR) on a Log Scale\", fontsize=12)\n",
    "ax.set_ylabel(\"Variables\", fontsize=12)\n",
    "\n",
    "# Set a clean plot style\n",
    "ax.grid(True, which='major', axis='x', linestyle='--', linewidth='0.5', color='grey')\n",
    "ax.spines['top'].set_visible(False)\n",
    "ax.spines['right'].set_visible(False)\n",
    "ax.spines['left'].set_visible(False)\n",
    "ax.tick_params(axis='y', length=0) # Remove y-axis ticks\n",
    "\n",
    "# Ensure the layout is tight\n",
    "plt.tight_layout()\n",
    "plt.show()"
   ]
  },
  {
   "cell_type": "code",
   "execution_count": 58,
   "id": "94b2a78e",
   "metadata": {
    "execution": {
     "iopub.execute_input": "2025-08-13T13:28:45.143728Z",
     "iopub.status.busy": "2025-08-13T13:28:45.143514Z",
     "iopub.status.idle": "2025-08-13T13:28:46.624974Z",
     "shell.execute_reply": "2025-08-13T13:28:46.624247Z"
    },
    "papermill": {
     "duration": 1.49725,
     "end_time": "2025-08-13T13:28:46.626132",
     "exception": false,
     "start_time": "2025-08-13T13:28:45.128882",
     "status": "completed"
    },
    "tags": []
   },
   "outputs": [
    {
     "data": {
      "text/html": [
       "<iframe\n",
       "    scrolling=\"no\"\n",
       "    width=\"100%\"\n",
       "    height=\"620\"\n",
       "    src=\"iframe_figures/figure_58.html\"\n",
       "    frameborder=\"0\"\n",
       "    allowfullscreen\n",
       "></iframe>\n"
      ]
     },
     "metadata": {},
     "output_type": "display_data"
    }
   ],
   "source": [
    "# =============================================================================\n",
    "# CORRECTED PLOT 48: Risk Score Distribution Evolution\n",
    "# =============================================================================\n",
    "\n",
    "# --- FIX START ---\n",
    "# Use the SCALED data to make predictions, as the model was trained on it.\n",
    "# The features for prediction must match the features used in training.\n",
    "features_to_predict = scaled_cox_data.drop(['time_to_event', 'event'], axis=1)\n",
    "risk_scores = cph.predict_partial_hazard(features_to_predict)\n",
    "\n",
    "# Create a new DataFrame for plotting to keep things clean.\n",
    "# Use the index to align risk scores with their original loan age.\n",
    "plot_df = pd.DataFrame({\n",
    "    'risk_score': risk_scores,\n",
    "    'loan_age_months': cox_data['time_to_event'] # Get age from original unscaled data\n",
    "})\n",
    "# --- FIX END ---\n",
    "\n",
    "\n",
    "# Create age bins (this part was already correct)\n",
    "age_bins = [0, 12, 24, 36, 48, 60, np.inf] # Use np.inf for the last bin edge\n",
    "age_labels = ['0-12', '12-24', '24-36', '36-48', '48-60', '60+']\n",
    "plot_df['age_category'] = pd.cut(plot_df['loan_age_months'], bins=age_bins, labels=age_labels, right=False)\n",
    "\n",
    "fig = go.Figure()\n",
    "\n",
    "age_colors = ['#3498DB', '#E74C3C', '#2ECC71', '#F39C12', '#9B59B6', '#34495E']\n",
    "\n",
    "for i, age_cat in enumerate(age_labels):\n",
    "    # Filter the new plot_df\n",
    "    age_data = plot_df[plot_df['age_category'] == age_cat]['risk_score'].dropna()\n",
    "    if not age_data.empty:\n",
    "        fig.add_trace(go.Violin(\n",
    "            y=age_data,\n",
    "            name=f'{age_cat} months',\n",
    "            box_visible=True, # Show box plot inside for more detail\n",
    "            meanline_visible=True, # Show the mean line\n",
    "            points='all', # Show individual data points\n",
    "            jitter=0.05,\n",
    "            side='positive',\n",
    "            fillcolor=age_colors[i],\n",
    "            line_color='black',\n",
    "            opacity=0.7\n",
    "        ))\n",
    "\n",
    "fig.update_layout(\n",
    "    title='Risk Score Distribution Evolution by Loan Age',\n",
    "    xaxis_title='Loan Age Category',\n",
    "    yaxis_title='Risk Score (on a Log Scale)',\n",
    "    template=\"plotly_white\",\n",
    "    height=600,\n",
    "    # --- OPTIONAL BUT RECOMMENDED IMPROVEMENT ---\n",
    "    # Use a log scale on the y-axis to better visualize the skewed distribution\n",
    "    yaxis_type=\"log\"\n",
    ")\n",
    "\n",
    "# Hide the default x-axis tick labels if we are using violin plots per category\n",
    "fig.update_xaxes(showticklabels=False)\n",
    "fig.show()"
   ]
  },
  {
   "cell_type": "code",
   "execution_count": 59,
   "id": "55a00af9",
   "metadata": {
    "execution": {
     "iopub.execute_input": "2025-08-13T13:28:46.656434Z",
     "iopub.status.busy": "2025-08-13T13:28:46.656174Z",
     "iopub.status.idle": "2025-08-13T13:28:49.877477Z",
     "shell.execute_reply": "2025-08-13T13:28:49.876861Z"
    },
    "papermill": {
     "duration": 3.237363,
     "end_time": "2025-08-13T13:28:49.878563",
     "exception": false,
     "start_time": "2025-08-13T13:28:46.641200",
     "status": "completed"
    },
    "tags": []
   },
   "outputs": [
    {
     "data": {
      "text/html": [
       "<iframe\n",
       "    scrolling=\"no\"\n",
       "    width=\"100%\"\n",
       "    height=\"520\"\n",
       "    src=\"iframe_figures/figure_59.html\"\n",
       "    frameborder=\"0\"\n",
       "    allowfullscreen\n",
       "></iframe>\n"
      ]
     },
     "metadata": {},
     "output_type": "display_data"
    }
   ],
   "source": [
    "# =============================================================================\n",
    "# PLOT 49: Survival Probability Dashboard by Region\n",
    "# =============================================================================\n",
    "\n",
    "regional_survival = []\n",
    "\n",
    "for region in regions:\n",
    "    region_data = survival_df[survival_df['region'] == region]\n",
    "    if len(region_data) > 0:\n",
    "        kmf = KaplanMeierFitter()\n",
    "        kmf.fit(region_data['time_to_event'], event_observed=region_data['event'])\n",
    "        \n",
    "        # Get survival probabilities at key time points\n",
    "        survival_12m = kmf.survival_function_at_times(12).values[0] if 12 <= region_data['time_to_event'].max() else 1.0\n",
    "        survival_24m = kmf.survival_function_at_times(24).values[0] if 24 <= region_data['time_to_event'].max() else 1.0\n",
    "        survival_36m = kmf.survival_function_at_times(36).values[0] if 36 <= region_data['time_to_event'].max() else 1.0\n",
    "        \n",
    "        regional_survival.append({\n",
    "            'region': region,\n",
    "            'survival_12m': survival_12m * 100,\n",
    "            'survival_24m': survival_24m * 100,\n",
    "            'survival_36m': survival_36m * 100\n",
    "        })\n",
    "\n",
    "regional_survival_df = pd.DataFrame(regional_survival)\n",
    "\n",
    "fig = go.Figure()\n",
    "\n",
    "time_periods = ['12 Months', '24 Months', '36 Months']\n",
    "survival_cols = ['survival_12m', 'survival_24m', 'survival_36m']\n",
    "\n",
    "for i, period in enumerate(time_periods):\n",
    "    fig.add_trace(go.Bar(\n",
    "        x=regional_survival_df['region'].to_numpy(),\n",
    "        y=regional_survival_df[survival_cols[i]].to_numpy(),\n",
    "        name=period,\n",
    "        marker_color=colors[i % len(colors)]\n",
    "    ))\n",
    "\n",
    "fig.update_layout(\n",
    "    title='Survival Probability Dashboard by Region',\n",
    "    xaxis_title='Region',\n",
    "    yaxis_title='Survival Probability (%)',\n",
    "    barmode='group',\n",
    "    template=\"plotly_white\",\n",
    "    height=500\n",
    ")\n",
    "\n",
    "fig.show()"
   ]
  },
  {
   "cell_type": "code",
   "execution_count": 60,
   "id": "e82ede3b",
   "metadata": {
    "execution": {
     "iopub.execute_input": "2025-08-13T13:28:49.908650Z",
     "iopub.status.busy": "2025-08-13T13:28:49.908454Z",
     "iopub.status.idle": "2025-08-13T13:28:57.833642Z",
     "shell.execute_reply": "2025-08-13T13:28:57.832959Z"
    },
    "papermill": {
     "duration": 7.9411,
     "end_time": "2025-08-13T13:28:57.834835",
     "exception": false,
     "start_time": "2025-08-13T13:28:49.893735",
     "status": "completed"
    },
    "tags": []
   },
   "outputs": [
    {
     "name": "stdout",
     "output_type": "stream",
     "text": [
      "Re-fitting Cox Proportional Hazards model with interaction term...\n",
      "Model re-fitted. Creating prediction surface...\n"
     ]
    },
    {
     "data": {
      "text/html": [
       "<iframe\n",
       "    scrolling=\"no\"\n",
       "    width=\"100%\"\n",
       "    height=\"620\"\n",
       "    src=\"iframe_figures/figure_60.html\"\n",
       "    frameborder=\"0\"\n",
       "    allowfullscreen\n",
       "></iframe>\n"
      ]
     },
     "metadata": {},
     "output_type": "display_data"
    }
   ],
   "source": [
    "# =============================================================================\n",
    "# PLOT 50: Time-to-Default Prediction Surface (With Non-Linearity)\n",
    "# =============================================================================\n",
    "from sklearn.preprocessing import PolynomialFeatures\n",
    "\n",
    "# --- STEP 1: Engineer a Non-Linear Feature ---\n",
    "# Create an interaction term to allow the model to learn a curved surface.\n",
    "cox_data['fico_x_dti'] = cox_data['fico_range_low'] * cox_data['dti']\n",
    "\n",
    "print(\"Re-fitting Cox Proportional Hazards model with interaction term...\")\n",
    "\n",
    "# --- STEP 2: Re-Fit the Model with the New Feature ---\n",
    "# We need to re-train the cph model so it learns a weight for our new feature.\n",
    "# Drop any rows with NaNs that might have been created\n",
    "cox_data_interaction = cox_data.dropna()\n",
    "\n",
    "cph_interactive = CoxPHFitter()\n",
    "# Use the new DataFrame with the interaction term for fitting\n",
    "cph_interactive.fit(cox_data_interaction, duration_col='time_to_event', event_col='event')\n",
    "\n",
    "print(\"Model re-fitted. Creating prediction surface...\")\n",
    "\n",
    "\n",
    "# --- STEP 3: Create Prediction Data (Optimized) ---\n",
    "# This part remains the same, but we must add the interaction term to our grid.\n",
    "fico_range = np.linspace(survival_df['fico_range_low'].dropna().min(), survival_df['fico_range_low'].dropna().max(), 20)\n",
    "dti_range = np.linspace(survival_df['dti'].dropna().min(), survival_df['dti'].dropna().max(), 20)\n",
    "fico_mesh, dti_mesh = np.meshgrid(fico_range, dti_range)\n",
    "\n",
    "# Select only numeric columns for the median calculation\n",
    "numeric_cox_data = cox_data_interaction.select_dtypes(include=np.number).drop(['time_to_event', 'event'], axis=1)\n",
    "median_row = numeric_cox_data.median()\n",
    "\n",
    "rows_to_append = []\n",
    "for i in range(len(fico_range)):\n",
    "    for j in range(len(dti_range)):\n",
    "        pred_row = median_row.copy()\n",
    "        pred_row['fico_range_low'] = fico_mesh[j, i]\n",
    "        pred_row['dti'] = dti_mesh[j, i]\n",
    "        # Calculate the interaction term for the grid point\n",
    "        pred_row['fico_x_dti'] = pred_row['fico_range_low'] * pred_row['dti']\n",
    "        rows_to_append.append(pred_row)\n",
    "\n",
    "prediction_data = pd.DataFrame(rows_to_append)\n",
    "# Ensure columns match the newly trained model\n",
    "prediction_data = prediction_data[cph_interactive.params_.index]\n",
    "\n",
    "\n",
    "# --- STEP 4: Predict and Plot ---\n",
    "# Use the NEW interactive model to predict\n",
    "hazard_predictions = cph_interactive.predict_partial_hazard(prediction_data)\n",
    "hazard_surface = hazard_predictions.values.reshape(len(dti_range), len(fico_range))\n",
    "\n",
    "fig = go.Figure(data=[go.Surface(\n",
    "    z=hazard_surface,\n",
    "    x=fico_range,\n",
    "    y=dti_range,\n",
    "    colorscale='Reds',\n",
    "    connectgaps=False\n",
    ")])\n",
    "\n",
    "fig.update_layout(\n",
    "    title='Default Risk Surface: FICO Score vs DTI Ratio (with Interaction)',\n",
    "    scene=dict(\n",
    "        xaxis_title='FICO Score',\n",
    "        yaxis_title='DTI Ratio',\n",
    "        zaxis_title='Relative Hazard',\n",
    "        camera=dict(eye=dict(x=1.2, y=1.2, z=1.2))\n",
    "    ),\n",
    "    height=600\n",
    ")\n",
    "\n",
    "fig.show()"
   ]
  },
  {
   "cell_type": "code",
   "execution_count": 61,
   "id": "87fb7b77",
   "metadata": {
    "execution": {
     "iopub.execute_input": "2025-08-13T13:28:57.865336Z",
     "iopub.status.busy": "2025-08-13T13:28:57.865105Z",
     "iopub.status.idle": "2025-08-13T13:29:00.449309Z",
     "shell.execute_reply": "2025-08-13T13:29:00.448681Z"
    },
    "papermill": {
     "duration": 2.600313,
     "end_time": "2025-08-13T13:29:00.450401",
     "exception": false,
     "start_time": "2025-08-13T13:28:57.850088",
     "status": "completed"
    },
    "tags": []
   },
   "outputs": [
    {
     "data": {
      "text/html": [
       "<iframe\n",
       "    scrolling=\"no\"\n",
       "    width=\"100%\"\n",
       "    height=\"520\"\n",
       "    src=\"iframe_figures/figure_61.html\"\n",
       "    frameborder=\"0\"\n",
       "    allowfullscreen\n",
       "></iframe>\n"
      ]
     },
     "metadata": {},
     "output_type": "display_data"
    }
   ],
   "source": [
    "# =============================================================================\n",
    "# PLOT 51: Conditional Survival Analysis\n",
    "# =============================================================================\n",
    "\n",
    "# Calculate conditional survival probabilities\n",
    "conditional_survival_data = []\n",
    "\n",
    "for grade in grades:\n",
    "    grade_data = survival_df[survival_df['grade'] == grade]\n",
    "    if len(grade_data) > 0:\n",
    "        kmf = KaplanMeierFitter()\n",
    "        kmf.fit(grade_data['time_to_event'], event_observed=grade_data['event'])\n",
    "        \n",
    "        # Given survival to 12 months, probability of surviving additional 12, 24, 36 months\n",
    "        if 12 <= grade_data['time_to_event'].max():\n",
    "            survival_12 = kmf.survival_function_at_times(12).values[0]\n",
    "            \n",
    "            for additional_months in [12, 24, 36]:\n",
    "                target_time = 12 + additional_months\n",
    "                if target_time <= grade_data['time_to_event'].max():\n",
    "                    survival_target = kmf.survival_function_at_times(target_time).values[0]\n",
    "                    conditional_prob = survival_target / survival_12 if survival_12 > 0 else 0\n",
    "                else:\n",
    "                    conditional_prob = 0\n",
    "                \n",
    "                conditional_survival_data.append({\n",
    "                    'grade': grade,\n",
    "                    'additional_months': additional_months,\n",
    "                    'conditional_probability': conditional_prob * 100\n",
    "                })\n",
    "\n",
    "conditional_df = pd.DataFrame(conditional_survival_data)\n",
    "\n",
    "fig = go.Figure()\n",
    "\n",
    "for additional in [12, 24, 36]:\n",
    "    additional_data = conditional_df[conditional_df['additional_months'] == additional]\n",
    "    fig.add_trace(go.Bar(\n",
    "        x=additional_data['grade'].to_numpy(),\n",
    "        y=additional_data['conditional_probability'].to_numpy(),\n",
    "        name=f'Additional {additional} months',\n",
    "        opacity=0.8\n",
    "    ))\n",
    "\n",
    "fig.update_layout(\n",
    "    title='Conditional Survival Probability<br>(Given Survival to 12 Months)',\n",
    "    xaxis_title='Credit Grade',\n",
    "    yaxis_title='Conditional Survival Probability (%)',\n",
    "    barmode='group',\n",
    "    template=\"plotly_white\",\n",
    "    height=500\n",
    ")\n",
    "\n",
    "fig.show()"
   ]
  },
  {
   "cell_type": "code",
   "execution_count": 62,
   "id": "b7c99eb7",
   "metadata": {
    "execution": {
     "iopub.execute_input": "2025-08-13T13:29:00.480513Z",
     "iopub.status.busy": "2025-08-13T13:29:00.480310Z",
     "iopub.status.idle": "2025-08-13T13:29:06.073342Z",
     "shell.execute_reply": "2025-08-13T13:29:06.072617Z"
    },
    "papermill": {
     "duration": 5.608902,
     "end_time": "2025-08-13T13:29:06.074355",
     "exception": false,
     "start_time": "2025-08-13T13:29:00.465453",
     "status": "completed"
    },
    "tags": []
   },
   "outputs": [
    {
     "name": "stdout",
     "output_type": "stream",
     "text": [
      "Optimizing portfolio survival calculation...\n",
      "Pre-fitting survival models for each grade...\n",
      "Models fitted. Calculating expected defaults...\n",
      "Calculation complete. Aggregating for plot...\n"
     ]
    },
    {
     "data": {
      "text/html": [
       "<iframe\n",
       "    scrolling=\"no\"\n",
       "    width=\"100%\"\n",
       "    height=\"520\"\n",
       "    src=\"iframe_figures/figure_62.html\"\n",
       "    frameborder=\"0\"\n",
       "    allowfullscreen\n",
       "></iframe>\n"
      ]
     },
     "metadata": {},
     "output_type": "display_data"
    },
    {
     "name": "stdout",
     "output_type": "stream",
     "text": [
      "Phase 11 completed successfully\n"
     ]
    }
   ],
   "source": [
    "# =============================================================================\n",
    "# PLOT 52: Portfolio Survival Monitor (Final Corrected Version)\n",
    "# =============================================================================\n",
    "import numpy as np # Ensure numpy is imported\n",
    "from lifelines import KaplanMeierFitter # Ensure fitter is imported\n",
    "\n",
    "print(\"Optimizing portfolio survival calculation...\")\n",
    "\n",
    "# Real-time portfolio monitoring dashboard\n",
    "current_portfolio = survival_df[survival_df['event'] == 0].copy()\n",
    "\n",
    "# --- OPTIMIZATION START ---\n",
    "\n",
    "# 1. Pre-fit one Kaplan-Meier model for each credit grade.\n",
    "kmf_models = {}\n",
    "grades = sorted(survival_df['grade'].unique())\n",
    "\n",
    "print(\"Pre-fitting survival models for each grade...\")\n",
    "for grade in grades:\n",
    "    grade_data = survival_df[survival_df['grade'] == grade]\n",
    "    if not grade_data.empty:\n",
    "        kmf = KaplanMeierFitter()\n",
    "        kmf.fit(grade_data['time_to_event'], event_observed=grade_data['event'])\n",
    "        kmf_models[grade] = kmf\n",
    "\n",
    "print(\"Models fitted. Calculating expected defaults...\")\n",
    "\n",
    "# 2. Initialize the new column.\n",
    "current_portfolio['expected_defaults_12m'] = np.nan\n",
    "\n",
    "# 3. Loop through the pre-fitted models and apply them to the correct data slice.\n",
    "for grade, kmf in kmf_models.items():\n",
    "    grade_mask = current_portfolio['grade'] == grade\n",
    "    if grade_mask.sum() == 0:\n",
    "        continue\n",
    "\n",
    "    current_age = current_portfolio.loc[grade_mask, 'time_to_event']\n",
    "    future_time = current_age + 12\n",
    "    \n",
    "    current_survival_series = kmf.predict(current_age)\n",
    "    future_survival_series = kmf.predict(future_time)\n",
    "    \n",
    "    # --- THE FIX: Convert Series to numpy arrays using .values ---\n",
    "    # This bypasses the pandas index alignment that causes the error.\n",
    "    current_survival_arr = current_survival_series.values\n",
    "    future_survival_arr = future_survival_series.values\n",
    "    \n",
    "    # Perform the division on the raw numpy arrays.\n",
    "    conditional_survival = np.divide(future_survival_arr, current_survival_arr, \n",
    "                                     out=np.ones_like(future_survival_arr), \n",
    "                                     where=current_survival_arr != 0)\n",
    "    \n",
    "    prob_default_12m = 1 - conditional_survival\n",
    "    \n",
    "    # Assign the results (a numpy array) directly back. .loc handles the alignment correctly here.\n",
    "    current_portfolio.loc[grade_mask, 'expected_defaults_12m'] = prob_default_12m\n",
    "\n",
    "# --- OPTIMIZATION END ---\n",
    "\n",
    "print(\"Calculation complete. Aggregating for plot...\")\n",
    "\n",
    "# Aggregate by grade (using the correct column name 'funded_amnt')\n",
    "portfolio_risk = current_portfolio.groupby('grade').agg({\n",
    "    'funded_amount': 'sum',\n",
    "    'expected_defaults_12m': 'mean'\n",
    "}).reset_index()\n",
    "\n",
    "portfolio_risk['expected_loss_amount'] = portfolio_risk['funded_amount'] * portfolio_risk['expected_defaults_12m']\n",
    "\n",
    "# --- Plotting Code (remains the same) ---\n",
    "fig = go.Figure()\n",
    "\n",
    "fig.add_trace(go.Bar(\n",
    "    x=portfolio_risk['grade'].to_numpy(),\n",
    "    y=portfolio_risk['funded_amount'].to_numpy(),\n",
    "    name='Portfolio Size',\n",
    "    marker_color='lightblue', yaxis='y', opacity=0.7\n",
    "))\n",
    "\n",
    "fig.add_trace(go.Scatter(\n",
    "    x=portfolio_risk['grade'].to_numpy(),\n",
    "    y=portfolio_risk['expected_loss_amount'].to_numpy(),\n",
    "    mode='lines+markers', name='Expected Loss (12m)',\n",
    "    marker_color='red', yaxis='y2', line=dict(width=3)\n",
    "))\n",
    "\n",
    "fig.update_layout(\n",
    "    title='Portfolio Survival Monitor: Current Risk Assessment',\n",
    "    xaxis_title='Credit Grade',\n",
    "    yaxis=dict(title='Portfolio Size (USD)', side='left'),\n",
    "    yaxis2=dict(title='Expected Loss Amount (USD)', side='right', overlaying='y'),\n",
    "    template=\"plotly_white\",\n",
    "    height=500\n",
    ")\n",
    "\n",
    "fig.show()\n",
    "\n",
    "print(\"Phase 11 completed successfully\")"
   ]
  },
  {
   "cell_type": "code",
   "execution_count": 63,
   "id": "293a8dc1",
   "metadata": {
    "execution": {
     "iopub.execute_input": "2025-08-13T13:29:06.106282Z",
     "iopub.status.busy": "2025-08-13T13:29:06.106026Z",
     "iopub.status.idle": "2025-08-13T13:29:12.803993Z",
     "shell.execute_reply": "2025-08-13T13:29:12.803097Z"
    },
    "papermill": {
     "duration": 6.715098,
     "end_time": "2025-08-13T13:29:12.805111",
     "exception": false,
     "start_time": "2025-08-13T13:29:06.090013",
     "status": "completed"
    },
    "tags": []
   },
   "outputs": [
    {
     "name": "stdout",
     "output_type": "stream",
     "text": [
      "\n",
      "==================================================\n",
      "ANALYSIS COMPLETE - SUMMARY STATISTICS\n",
      "==================================================\n",
      "Total Loans Analyzed: 2,260,701\n",
      "Date Range: Jun-2007 to Dec-2018\n",
      "Total Loan Amount: $34,016,115,925\n",
      "Average Interest Rate: 13.09%\n",
      "Overall Bad Loan Rate in Dataset: 13.43%\n",
      "\n",
      "Regional Distribution:\n",
      "  MidWest: 403,150 loans (17.8%)\n",
      "  NorthEast: 519,095 loans (23.0%)\n",
      "  SouthEast: 550,165 loans (24.3%)\n",
      "  SouthWest: 272,789 loans (12.1%)\n",
      "  West: 515,469 loans (22.8%)\n",
      "\n",
      "Credit Grade Distribution:\n",
      "  Grade A: 433,027 loans (19.2%) - Default Rate: 3.81%\n",
      "  Grade B: 663,557 loans (29.4%) - Default Rate: 9.07%\n",
      "  Grade C: 650,053 loans (28.8%) - Default Rate: 15.05%\n",
      "  Grade D: 324,424 loans (14.4%) - Default Rate: 21.24%\n",
      "  Grade E: 135,639 loans (6.0%) - Default Rate: 29.17%\n",
      "  Grade F: 41,800 loans (1.8%) - Default Rate: 37.31%\n",
      "  Grade G: 12,168 loans (0.5%) - Default Rate: 41.17%\n",
      "\n",
      "Risk-Adjusted Performance:\n",
      "Average RAROA: 11.11%\n",
      "Total Portfolio EVA: $203,555,457\n",
      "\n",
      "Survival Analysis Results:\n",
      "Median Time to Default (for defaulted loans): 14.0 months\n",
      "Overall Survival Rate in Survival Cohort: 88.2%\n",
      "\n",
      "==================================================\n",
      "END OF COMPREHENSIVE LENDING CLUB RISK ANALYSIS\n",
      "==================================================\n"
     ]
    }
   ],
   "source": [
    "# =============================================================================\n",
    "# FINAL SUMMARY STATISTICS (Corrected)\n",
    "# =============================================================================\n",
    "\n",
    "print(\"\\n\" + \"=\"*50)\n",
    "print(\"ANALYSIS COMPLETE - SUMMARY STATISTICS\")\n",
    "print(\"=\"*50)\n",
    "\n",
    "# The 'issue_d' column is now a datetime object, so we format it for clean printing.\n",
    "print(f\"Total Loans Analyzed: {len(df):,}\")\n",
    "print(f\"Date Range: {df['issue_d'].min().strftime('%b-%Y')} to {df['issue_d'].max().strftime('%b-%Y')}\")\n",
    "\n",
    "# Use the correct column names from the Parquet file.\n",
    "print(f\"Total Loan Amount: ${df['loan_amount'].sum():,.0f}\")\n",
    "print(f\"Average Interest Rate: {df['interest_rate'].mean():.2f}%\")\n",
    "print(f\"Overall Bad Loan Rate in Dataset: {(df['loan_condition_int'].sum() / len(df) * 100):.2f}%\")\n",
    "\n",
    "print(f\"\\nRegional Distribution:\")\n",
    "# The 'regions' variable was defined in Plot 12.\n",
    "for region in regions:\n",
    "    count = len(df[df['region'] == region])\n",
    "    percentage = (count / len(df)) * 100\n",
    "    print(f\"  {region}: {count:,} loans ({percentage:.1f}%)\")\n",
    "\n",
    "print(f\"\\nCredit Grade Distribution:\")\n",
    "# This works correctly on the categorical 'grade' column.\n",
    "grades_list = [str(g) for g in df['grade'].unique() if pd.notna(g)]\n",
    "for grade in sorted(grades_list):\n",
    "    count = len(df[df['grade'] == grade])\n",
    "    percentage = (count / len(df)) * 100\n",
    "    default_rate = df[df['grade'] == grade]['loan_condition_int'].mean() * 100\n",
    "    print(f\"  Grade {grade}: {count:,} loans ({percentage:.1f}%) - Default Rate: {default_rate:.2f}%\")\n",
    "\n",
    "print(f\"\\nRisk-Adjusted Performance:\")\n",
    "print(f\"Average RAROA: {df['raroa'].mean():.2%}\")\n",
    "print(f\"Total Portfolio EVA: ${df['eva'].sum():,.0f}\")\n",
    "\n",
    "print(f\"\\nSurvival Analysis Results:\")\n",
    "# This calculation is based on the filtered 'survival_df' used for the model.\n",
    "print(f\"Median Time to Default (for defaulted loans): {survival_df[survival_df['event'] == 1]['time_to_event'].median():.1f} months\")\n",
    "# This calculates the overall survival rate within the survival analysis subset.\n",
    "print(f\"Overall Survival Rate in Survival Cohort: {(1 - survival_df['event'].mean()) * 100:.1f}%\")\n",
    "\n",
    "print(\"\\n\" + \"=\"*50)\n",
    "print(\"END OF COMPREHENSIVE LENDING CLUB RISK ANALYSIS\")\n",
    "print(\"=\"*50)"
   ]
  }
 ],
 "metadata": {
  "kaggle": {
   "accelerator": "nvidiaTeslaT4",
   "dataSources": [
    {
     "datasetId": 8041093,
     "sourceId": 12754290,
     "sourceType": "datasetVersion"
    }
   ],
   "dockerImageVersionId": 31090,
   "isGpuEnabled": true,
   "isInternetEnabled": true,
   "language": "python",
   "sourceType": "notebook"
  },
  "kernelspec": {
   "display_name": "Python 3",
   "language": "python",
   "name": "python3"
  },
  "language_info": {
   "codemirror_mode": {
    "name": "ipython",
    "version": 3
   },
   "file_extension": ".py",
   "mimetype": "text/x-python",
   "name": "python",
   "nbconvert_exporter": "python",
   "pygments_lexer": "ipython3",
   "version": "3.11.13"
  },
  "papermill": {
   "default_parameters": {},
   "duration": 116.385582,
   "end_time": "2025-08-13T13:29:16.296380",
   "environment_variables": {},
   "exception": null,
   "input_path": "__notebook__.ipynb",
   "output_path": "__notebook__.ipynb",
   "parameters": {},
   "start_time": "2025-08-13T13:27:19.910798",
   "version": "2.6.0"
  }
 },
 "nbformat": 4,
 "nbformat_minor": 5
}
