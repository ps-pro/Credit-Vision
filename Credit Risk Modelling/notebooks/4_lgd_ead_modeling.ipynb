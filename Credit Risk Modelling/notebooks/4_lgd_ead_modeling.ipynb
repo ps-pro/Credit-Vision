{
 "cells": [
  {
   "cell_type": "markdown",
   "metadata": {},
   "source": [
    "## Lending Club Credit Risk Modeling\n",
    "- In this project, I will build three **machine learning** models to predict the three components of expected loss in the context of **credit risk modeling** at the **Lending Club** (a peer-to-peer credit company): **Probability of Default (PD), Exposure at Default (EAD) and Loss Given Default (LGD)**. The expected loss will be the product of these elements: **Expected Loss (EL) = PD * EAD * LGD**. These models will be used to stablish a credit policy, deciding wheter to grant a loan or not for new applicants (application model) based on their credit scores and expected losses on loans. By estimating the Expected Loss (EL) from each loan, the Lending Club can also assess the required capital to hold to protect itself against defaults.\n",
    "- The PD modelling encompasses an imbalanced binary classification problem with target being 1 in case of non-default and 0 in case of default (minority class). A Logistic Regression model will be built. \n",
    "- The LGD and EAD modelling encompasses a beta regression problem, that is, a regression task in which the dependent variables are beta distributed, the recovery rate and credit conversion factor, respectively.\n",
    "- The **solution pipeline** is based on the **crisp-dm** framework:\n",
    "    1. Business understanding.\n",
    "    2. Data understanding.\n",
    "    3. Data preparation.\n",
    "    4. Modelling.\n",
    "    5. Validation.\n",
    "    6. Deployment.\n",
    "- Below, I will introduce **information** about the **company**, the **business problem**, the **project objectives and benefits**, and some important **concepts** to have in mind, given that I am dealing with a credit risk problem."
   ]
  },
  {
   "cell_type": "markdown",
   "metadata": {},
   "source": [
    "## Lending Club\n",
    "- **What is the Lending Club?:**\n",
    "    - LendingClub is a **peer-to-peer lending platform** that facilitates the borrowing and lending of money directly between individuals, without the need for traditional financial institutions such as banks. The platform operates as an online marketplace, connecting borrowers seeking personal loans with investors willing to fund those loans.\n",
    "\n",
    "## Business Problem: Managing Default Risks and Optimizing Returns\n",
    "- **What is the business problem?**\n",
    "    - LendingClub faces a significant business challenge related to **managing default risks effectively** while **optimizing returns** for its investors. The platform facilitates peer-to-peer lending, connecting borrowers with investors, and relies on **accurate risk assessments to maintain a sustainable and profitable lending ecosystem.** Thus, the CEO wants us to provide insights about which factors are associated with credit risk in Lending Club's operations, and to construct models capable of predicting the probability of default for new applicants and possible losses on its loans in order to establish a credit policy, deciding when to grant a loan or not for an applicant. An important observation is that the CEO wants these models to be easy to understand. Since our company works on the internet, making customers happy and being clear is really important. So, we need to be able to explain why we decide to approve or deny a loan.\n",
    "- **Which are the project objectives and benefits?**\n",
    "    1. Identify the factors associated with **credit risk** in the form of business **insights.**\n",
    "    2. Develop an accurate **Probability of Default (PD) Model**, constructing a scorecard. This will allow Lending Club to decide wheter to grant a loan or not to a new applicant (**application model**), based on **credit scores.**\n",
    "    3. Develop **Exposure at Default (EAD) and Loss Given Default (LGD) Models**, to estimate the **Expected Loss** in loans. This will allow Lending Club to **hold** sufficient **capital** to protect itself against default in each loan.\n",
    "    4. Improve **risk management** and optimize **returns** by establishing a **credit policy**, trying to balance risk and **ROI** of Lending Club's assets.\n",
    "    5. Apply **model monitoring** and maintenance techniques to safeguard our results from population instability, characterized by significant changes in loan applicants' characteristics. This will allow us to understand whether the built model is still useful in the future or whether the loan applicants characteristics changed significantly, such that we will need to redevelop it.\n",
    "\n",
    "## Credit Risk Modeling Concepts: The Context of the Problem\n",
    "- **Financial institutions**, like LendingClub and online lending platforms, **make money by lending to people and businesses.** When they lend money, they **charge interest**, which is a significant source of their **profits**. **Managing credit risk well is crucial** for these institutions. This means ensuring that borrowers pay back their loans on time to avoid losses.\n",
    "- **Credit risk** is the possibility that a borrower might not fulfill their financial obligations, leading to a loss for the lender. If a borrower fails to meet the agreed-upon terms, it's called a \"default,\" and it can result in financial losses for the lender. The **default** definition is associated with a time horizon. For example, if a borrower hasn't paid their debt within 90 days of the due date, they are considered in default.\n",
    "- In the credit market, important **rules** help keep things honest and clear. **Basel III** is one such set of rules, making sure banks have **enough money (capital requirements)** and follow **guidelines for assessing loan risks**. The **Internal Rating-Based Approach (IRB-A)** lets banks figure out credit risks using concepts like Probability of Default (PD), Exposure at Default (EAD), and Loss Given Default (LGD). Another rule, **International Financial Reporting Standard 9 (IFRS 9)**, gives standards for measuring financial assets. It's special because it looks at the chance of a loan not being paid back over its entire life, unlike Basel, which checks it for one year. These rules help banks have enough money, handle risks well, and keep the credit market steady and trustworthy.\n",
    "- The **\"expected loss (EL)\"** is the average estimated loss that a lender can expect from loans that default. It involves three factors: the **probability of default (likelihood of a borrower defaulting)**, **loss given default (portion of the amount the bank is exposed to that can't be recovered in case of default)**, and **exposure at default (potential loss at the time of default, considering the outstanding loan amount and other factors)**.\n",
    "- **LendingClub**, operating as a peer-to-peer lending platform, uses a **\"PD Model/Credit Scoring Model\" to assess borrowers' creditworthiness using credit scores**. This helps determine the **likelihood of loan repayment**, guiding the decision to **approve or deny the loan.** The **required capital to guard against default** for each loan is calculated using **EAD and LGD Models** to estimate the **Expected Loss (EL)**, contributing to minimizing risk in credit operations.\n",
    "- When creating a Credit Scoring Model, which assesses creditworthiness for loan approval, using data available at the time of the application is considered an **\"application model.\"** It is distinct from a \"behavior model.\" This is the model I will build here.\n",
    "- A **\"credit policy\"** is a set of guidelines that financial institutions follow to evaluate and manage lending risk. Factors such as the expected ROI for each loan application, credit scores, risk classes, expected losses, and so on, are included.\n",
    "- **\"Return on Investment (ROI)\"** is a key measure of loan profitability. Balancing ROI with risk is vital for effective credit policy management. While higher-risk loans may offer more significant potential returns, they also come with a higher chance of default.\n",
    "\n",
    "In **this notebook**, my goal is to **construct the Exposure at Default (EAD) and Loss Given Default (LGD) models**, estimating the **Expected Loss (EL = PD * EAD * LGD)** for each loan, in addition to the PD Model. Once these three components are estimated, I will formulate a **credit policy**, determining loan approval or denial based on these results. These tasks correspond to steps 3, 4, and 5 of the CRISP-DM framework. The rationale behind each decision is detailed below."
   ]
  },
  {
   "cell_type": "markdown",
   "metadata": {},
   "source": [
    "#### 4.0 Import the Libraries"
   ]
  },
  {
   "cell_type": "code",
   "execution_count": 1,
   "metadata": {},
   "outputs": [
    {
     "data": {
      "image/png": "[encoded data removed]",
      "text/plain": [
       "<Figure size 500x100 with 1 Axes>"
      ]
     },
     "metadata": {},
     "output_type": "display_data"
    }
   ],
   "source": [
    "# Data manipulation and visualization.\n",
    "import pandas as pd\n",
    "import numpy as np \n",
    "import matplotlib as mpl\n",
    "import matplotlib.pyplot as plt \n",
    "import seaborn as sns\n",
    "\n",
    "# Modeling.\n",
    "from sklearn.pipeline import Pipeline\n",
    "from sklearn.linear_model import LogisticRegression\n",
    "from sklearn.metrics import roc_auc_score, roc_curve, brier_score_loss, classification_report, confusion_matrix, mean_squared_error, mean_absolute_error, r2_score, mean_absolute_percentage_error\n",
    "from sklearn.pipeline import Pipeline\n",
    "from sklearn.compose import ColumnTransformer\n",
    "from sklearn.preprocessing import OneHotEncoder, OrdinalEncoder, StandardScaler\n",
    "from sklearn.impute import SimpleImputer\n",
    "import statsmodels.api as sm\n",
    "from statsmodels.othermod.betareg import BetaModel\n",
    "\n",
    "# Utils.\n",
    "from src.eda_utils import *\n",
    "from src.modelling_utils import *\n",
    "\n",
    "# Display options.\n",
    "pd.set_option('display.max_rows', None)\n",
    "pd.set_option('display.max_info_rows', 100)\n",
    "pd.set_option('display.max_columns', None)\n",
    "pd.set_option('display.width', 1000)\n",
    "\n",
    "# Filter warnings.\n",
    "import warnings\n",
    "warnings.filterwarnings('ignore')\n",
    "\n",
    "# Visualization Settings\n",
    "mpl.style.use('ggplot')\n",
    "mpl.rcParams['axes.facecolor']      = 'white'\n",
    "mpl.rcParams['grid.color']          = 'lightgray'\n",
    "mpl.rcParams['xtick.color']         = 'black'\n",
    "mpl.rcParams['ytick.color']         = 'black'\n",
    "mpl.rcParams['axes.grid']           = True\n",
    "#mpl.rcParams['figure.dpi']          = 150\n",
    "\n",
    "# Palette Seting\n",
    "instyle_palette = ['#8d0801', '#8a817c', '#461220', '#e39695', '#cc444b']\n",
    "sns.set_palette(sns.color_palette(instyle_palette))\n",
    "sns.palplot(sns.color_palette(instyle_palette))"
   ]
  },
  {
   "cell_type": "markdown",
   "metadata": {},
   "source": [
    "#### 4.1 Collect the Data\n",
    "- The data contains complete loan data for all loans issued through the 2007-2015, including the current loan status (Current, Late, Fully Paid, etc.) and the latest payment information. \n",
    "- Considering that **LGD** is the proportion of the total exposure that cannot be recovered by the lender when the borrower defaults, and **EAD** is the amount a lender is exposed to when the borrower defaults, to construct these models, I will obtain **data only from defaulted borrowers.**\n",
    "- Moreover, a good practice is to separate data only from **borrowers who have had enough time to repay part of the remaining debt**, allowing the Lending Club to make some **recoveries**. Thus, I will obtain data from **defaulters** with a **loan status of \"charged off.\"**\n",
    "- **Charged off status of a loan**: Indicates that the lender or financial institution has declared the outstanding balance of the loan as unlikely to be collected. The lender considers the **debt** as **uncollectible**, a **loss**."
   ]
  },
  {
   "cell_type": "code",
   "execution_count": 2,
   "metadata": {},
   "outputs": [],
   "source": [
    "parquet_file_path = '/Users/pedrohenriquealmeidaoliveira/Documents/data_science/lending_club_credit_scoring/input/clean_loan_data.parquet'\n",
    "df = pd.read_parquet(parquet_file_path)"
   ]
  },
  {
   "cell_type": "code",
   "execution_count": 3,
   "metadata": {},
   "outputs": [],
   "source": [
    "# Select data only from defaulters with a loan status charged off.\n",
    "ead_lgd_df = df.loc[(df['loan_status'] == 'Does not meet the credit policy. Status:Charged Off') |\n",
    "                    (df['loan_status'] == 'Charged Off')]"
   ]
  },
  {
   "cell_type": "code",
   "execution_count": 4,
   "metadata": {},
   "outputs": [
    {
     "name": "stdout",
     "output_type": "stream",
     "text": [
      "<class 'pandas.core.frame.DataFrame'>\n",
      "Index: 43233 entries, 3 to 466242\n",
      "Data columns (total 42 columns):\n",
      " #   Column                       Dtype         \n",
      "---  ------                       -----         \n",
      " 0   loan_amnt                    int32         \n",
      " 1   funded_amnt                  int32         \n",
      " 2   term                         int8          \n",
      " 3   int_rate                     float32       \n",
      " 4   installment                  float32       \n",
      " 5   grade                        category      \n",
      " 6   sub_grade                    category      \n",
      " 7   emp_length                   int16         \n",
      " 8   home_ownership               category      \n",
      " 9   annual_inc                   float32       \n",
      " 10  verification_status          category      \n",
      " 11  issue_d                      datetime64[ns]\n",
      " 12  loan_status                  category      \n",
      " 13  purpose                      category      \n",
      " 14  addr_state                   category      \n",
      " 15  dti                          float32       \n",
      " 16  delinq_2yrs                  int16         \n",
      " 17  inq_last_6mths               int16         \n",
      " 18  mths_since_last_delinq       float32       \n",
      " 19  open_acc                     int16         \n",
      " 20  pub_rec                      int16         \n",
      " 21  revol_bal                    int64         \n",
      " 22  revol_util                   float32       \n",
      " 23  total_acc                    int16         \n",
      " 24  initial_list_status          category      \n",
      " 25  out_prncp                    float32       \n",
      " 26  total_pymnt                  float32       \n",
      " 27  total_rec_prncp              float32       \n",
      " 28  total_rec_int                float32       \n",
      " 29  total_rec_late_fee           float32       \n",
      " 30  recoveries                   float32       \n",
      " 31  collection_recovery_fee      float32       \n",
      " 32  last_pymnt_amnt              float32       \n",
      " 33  collections_12_mths_ex_med   float32       \n",
      " 34  acc_now_delinq               int16         \n",
      " 35  tot_coll_amt                 float32       \n",
      " 36  tot_cur_bal                  float32       \n",
      " 37  total_rev_hi_lim             float32       \n",
      " 38  mths_since_earliest_cr_line  int16         \n",
      " 39  default                      int8          \n",
      " 40  recovery_rate                float32       \n",
      " 41  credit_conversion_factor     float32       \n",
      "dtypes: category(8), datetime64[ns](1), float32(20), int16(8), int32(2), int64(1), int8(2)\n",
      "memory usage: 5.7 MB\n"
     ]
    }
   ],
   "source": [
    "# General information.\n",
    "ead_lgd_df.info()"
   ]
  },
  {
   "cell_type": "markdown",
   "metadata": {},
   "source": [
    "- It is possible to see that the variables are in the correct data types, with optimized memory usage.\n",
    "- We have 43,233 observations and 42 variables."
   ]
  },
  {
   "cell_type": "code",
   "execution_count": 5,
   "metadata": {},
   "outputs": [
    {
     "data": {
      "text/plain": [
       "0"
      ]
     },
     "execution_count": 5,
     "metadata": {},
     "output_type": "execute_result"
    }
   ],
   "source": [
    "# Inspect duplicates.\n",
    "ead_lgd_df.duplicated().sum()"
   ]
  },
  {
   "cell_type": "code",
   "execution_count": 6,
   "metadata": {},
   "outputs": [
    {
     "data": {
      "text/html": [
       "<div>\n",
       "<style scoped>\n",
       "    .dataframe tbody tr th:only-of-type {\n",
       "        vertical-align: middle;\n",
       "    }\n",
       "\n",
       "    .dataframe tbody tr th {\n",
       "        vertical-align: top;\n",
       "    }\n",
       "\n",
       "    .dataframe thead th {\n",
       "        text-align: right;\n",
       "    }\n",
       "</style>\n",
       "<table border=\"1\" class=\"dataframe\">\n",
       "  <thead>\n",
       "    <tr style=\"text-align: right;\">\n",
       "      <th></th>\n",
       "      <th>count</th>\n",
       "      <th>pct</th>\n",
       "    </tr>\n",
       "  </thead>\n",
       "  <tbody>\n",
       "    <tr>\n",
       "      <th>mths_since_last_delinq</th>\n",
       "      <td>23947</td>\n",
       "      <td>55.391</td>\n",
       "    </tr>\n",
       "    <tr>\n",
       "      <th>total_rev_hi_lim</th>\n",
       "      <td>10777</td>\n",
       "      <td>24.928</td>\n",
       "    </tr>\n",
       "    <tr>\n",
       "      <th>tot_cur_bal</th>\n",
       "      <td>10777</td>\n",
       "      <td>24.928</td>\n",
       "    </tr>\n",
       "    <tr>\n",
       "      <th>tot_coll_amt</th>\n",
       "      <td>10777</td>\n",
       "      <td>24.928</td>\n",
       "    </tr>\n",
       "    <tr>\n",
       "      <th>revol_util</th>\n",
       "      <td>50</td>\n",
       "      <td>0.116</td>\n",
       "    </tr>\n",
       "    <tr>\n",
       "      <th>collections_12_mths_ex_med</th>\n",
       "      <td>25</td>\n",
       "      <td>0.058</td>\n",
       "    </tr>\n",
       "    <tr>\n",
       "      <th>loan_amnt</th>\n",
       "      <td>0</td>\n",
       "      <td>0.000</td>\n",
       "    </tr>\n",
       "    <tr>\n",
       "      <th>total_rec_late_fee</th>\n",
       "      <td>0</td>\n",
       "      <td>0.000</td>\n",
       "    </tr>\n",
       "    <tr>\n",
       "      <th>initial_list_status</th>\n",
       "      <td>0</td>\n",
       "      <td>0.000</td>\n",
       "    </tr>\n",
       "    <tr>\n",
       "      <th>out_prncp</th>\n",
       "      <td>0</td>\n",
       "      <td>0.000</td>\n",
       "    </tr>\n",
       "  </tbody>\n",
       "</table>\n",
       "</div>"
      ],
      "text/plain": [
       "                            count     pct\n",
       "mths_since_last_delinq      23947  55.391\n",
       "total_rev_hi_lim            10777  24.928\n",
       "tot_cur_bal                 10777  24.928\n",
       "tot_coll_amt                10777  24.928\n",
       "revol_util                     50   0.116\n",
       "collections_12_mths_ex_med     25   0.058\n",
       "loan_amnt                       0   0.000\n",
       "total_rec_late_fee              0   0.000\n",
       "initial_list_status             0   0.000\n",
       "out_prncp                       0   0.000"
      ]
     },
     "execution_count": 6,
     "metadata": {},
     "output_type": "execute_result"
    }
   ],
   "source": [
    "# Inspect missing values.\n",
    "missing_df = ead_lgd_df.isna().sum().to_frame().rename(columns={0: 'count'}).sort_values(by=['count'], ascending=False)\n",
    "missing_df['pct'] = round(missing_df['count'] / ead_lgd_df.shape[0] * 100, 3)\n",
    "missing_df.head(10)"
   ]
  },
  {
   "cell_type": "markdown",
   "metadata": {},
   "source": [
    "- There is still some missing values. Variables like 'collections_12_mths_ex_med', 'revol_util', 'tot_coll_amt' and others will be further removed from the data to prevent data leakage, once they will not be available at the moment of the application. \n",
    "- Moreover, we saw on EDA that total_rev_hi_lim is highly correlated with revol_bal. This can lead to multicolinearity issues in our model, thus, as in the PD Model, I will keep only revol_bal because it does not have null records, removing total_rev_hi_lim. \n",
    "- Thus, we just need to impute missings in 'mths_since_last_delinq' and 'tot_cur_bal'. I will decide how to impute them in the preprocessing step."
   ]
  },
  {
   "cell_type": "markdown",
   "metadata": {},
   "source": [
    "#### 4.2 Dependent variables\n",
    "- I will visualize the LGD and EAD models dependent variables, the recovery rate and the credit conversion factor, to decide about how I will procceed with the modeling step.\n",
    "- **recovery_rate:** This is our **target** variable for the **LGD Model**. Although LGD is defined as the proportion of the total exposure that cannot be recovered by the lender when the borrower defaults, a common and stablished approach when modeling it is to estimate the proportion of the total exposure that CAN be recovered by the lender, once the default has occurred, the Recovery Rate. Thus, **LGD = 1 - Recovery Rate.**\n",
    "- **credit_conversion_factor:** This is our **target** variable for the **EAD Model.** Although EAD is defined as the total value that a lender is exposed to when the borrower defaults, a common and stablised approach when modeling it is to estimate the outstanding proportion of the funded amount when default event occurs, the Credit Conversion Factor. Thus, **EAD = Total Funded Amount * Credit Conversion Factor.**"
   ]
  },
  {
   "cell_type": "code",
   "execution_count": 7,
   "metadata": {},
   "outputs": [
    {
     "data": {
      "text/html": [
       "<div>\n",
       "<style scoped>\n",
       "    .dataframe tbody tr th:only-of-type {\n",
       "        vertical-align: middle;\n",
       "    }\n",
       "\n",
       "    .dataframe tbody tr th {\n",
       "        vertical-align: top;\n",
       "    }\n",
       "\n",
       "    .dataframe thead th {\n",
       "        text-align: right;\n",
       "    }\n",
       "</style>\n",
       "<table border=\"1\" class=\"dataframe\">\n",
       "  <thead>\n",
       "    <tr style=\"text-align: right;\">\n",
       "      <th></th>\n",
       "      <th>count</th>\n",
       "      <th>mean</th>\n",
       "      <th>std</th>\n",
       "      <th>min</th>\n",
       "      <th>25%</th>\n",
       "      <th>50%</th>\n",
       "      <th>75%</th>\n",
       "      <th>max</th>\n",
       "    </tr>\n",
       "  </thead>\n",
       "  <tbody>\n",
       "    <tr>\n",
       "      <th>recovery_rate</th>\n",
       "      <td>43233.0</td>\n",
       "      <td>0.060740</td>\n",
       "      <td>0.089092</td>\n",
       "      <td>0.000000</td>\n",
       "      <td>0.000000</td>\n",
       "      <td>0.029453</td>\n",
       "      <td>0.114043</td>\n",
       "      <td>1.0</td>\n",
       "    </tr>\n",
       "    <tr>\n",
       "      <th>credit_conversion_factor</th>\n",
       "      <td>43233.0</td>\n",
       "      <td>0.735964</td>\n",
       "      <td>0.200735</td>\n",
       "      <td>0.000438</td>\n",
       "      <td>0.632088</td>\n",
       "      <td>0.789943</td>\n",
       "      <td>0.888544</td>\n",
       "      <td>1.0</td>\n",
       "    </tr>\n",
       "  </tbody>\n",
       "</table>\n",
       "</div>"
      ],
      "text/plain": [
       "                            count      mean       std       min       25%       50%       75%  max\n",
       "recovery_rate             43233.0  0.060740  0.089092  0.000000  0.000000  0.029453  0.114043  1.0\n",
       "credit_conversion_factor  43233.0  0.735964  0.200735  0.000438  0.632088  0.789943  0.888544  1.0"
      ]
     },
     "execution_count": 7,
     "metadata": {},
     "output_type": "execute_result"
    }
   ],
   "source": [
    "# Descriptive statistics.\n",
    "ead_lgd_df[['recovery_rate', 'credit_conversion_factor']].describe().T"
   ]
  },
  {
   "cell_type": "markdown",
   "metadata": {},
   "source": [
    "Insights:\n",
    "- The average recovery rate is 6%; however, almost 50% of the recoveries are 0.\n",
    "- The average credit conversion factor is 73.6%. Half of the conversion factors are between 63.2% and 88.8%."
   ]
  },
  {
   "cell_type": "code",
   "execution_count": 8,
   "metadata": {},
   "outputs": [
    {
     "data": {
      "image/png": "[encoded data removed]",
      "text/plain": [
       "<Figure size 2000x400 with 2 Axes>"
      ]
     },
     "metadata": {},
     "output_type": "display_data"
    }
   ],
   "source": [
    "# Plot LGD and EAD dependent variables.\n",
    "fig, ax = plt.subplots(1, 2, figsize=(20, 4))\n",
    "\n",
    "sns.histplot(data=ead_lgd_df, x='recovery_rate', kde=True, ax=ax[0], stat='proportion')\n",
    "ax[0].set_title('Recovery Rate (LGD)', fontweight='bold', fontsize=12)\n",
    "ax[0].set_xlabel('')\n",
    "ax[0].set_ylabel('Proportion', labelpad=20)\n",
    "ax[0].grid(False)\n",
    "\n",
    "sns.histplot(data=ead_lgd_df, x='credit_conversion_factor', kde=True, ax=ax[1], stat='proportion')\n",
    "ax[1].set_title('Credit Conversion Factor (EAD)', fontweight='bold', fontsize=12)\n",
    "ax[1].set_xlabel('')\n",
    "ax[1].set_ylabel('Proportion', labelpad=20)\n",
    "ax[1].grid(False)"
   ]
  },
  {
   "cell_type": "markdown",
   "metadata": {},
   "source": [
    "Insights:\n",
    "- It is noticeable that **more than 40% of the recovery rates are 0.** When building a regression model, such a bias could significantly impact performance. Thus, to **model recovery rate and LGD**, I will adopt a **two-stage approach:**\n",
    "    - In the **first stage**, I will build a **Logistic Regression model** to **classify** whether the **recovery rate is 0 or greater than 0.** For the recoveries classified as zero, the process will conclude. For the **recoveries classified as greater than 0**, I will build a **regression model to predict their values**, constituting the **second stage** of LGD modeling.\n",
    "- For the credit conversion factor, we have a more balanced distribution. Thus, a regression model is sufficient.\n",
    "- I will create the **target for the first stage approach of the LGD Model**. It will be a binary variable indicating 0 if the recovery rate is 0 and 1 if the recovery rate is greater than zero."
   ]
  },
  {
   "cell_type": "code",
   "execution_count": 9,
   "metadata": {},
   "outputs": [
    {
     "data": {
      "text/plain": [
       "recovery_rate_>0\n",
       "1    0.563644\n",
       "0    0.436356\n",
       "Name: proportion, dtype: float64"
      ]
     },
     "execution_count": 9,
     "metadata": {},
     "output_type": "execute_result"
    }
   ],
   "source": [
    "# Create the target for the two-stage approach LGD modeling.\n",
    "ead_lgd_df['recovery_rate_>0'] = np.where(ead_lgd_df['recovery_rate'] == 0, 0, 1)\n",
    "ead_lgd_df['recovery_rate_>0'].value_counts(normalize=True)"
   ]
  },
  {
   "cell_type": "markdown",
   "metadata": {},
   "source": [
    "- Lending Club was able to recover part of the lossess from about 56.3% of the defaulted loans."
   ]
  },
  {
   "cell_type": "markdown",
   "metadata": {},
   "source": [
    "#### 4.3 Split the data\n",
    "- In the context of credit it's important to use an **out-of-time split** instead of an out-of-sample split because we want to understand how well the model, trained with past data, can predict the behavior of credit applicants in a future time. \n",
    "- The data was already sorted in data cleaning task, providing a chronological order for the loans. Thus, we only need to separate the first **80%** of the data for **training** and the remaining **20%** of the data for **testing**.\n",
    "- I'll split the data first because the **test set** should contain data that the model hasn't encountered before, mimicking a **real-world production scenario.** So, I'll **set it aside now** and only use it for the final evaluation of the model later on.\n",
    "- Furthermore, it's crucial to fit and transform only the training data to prevent issues like data leakage and overfitting, ensuring a reliable final performance estimate. Test data must only be transformed. Thus, the preprocessing will follow this guideline."
   ]
  },
  {
   "cell_type": "code",
   "execution_count": 10,
   "metadata": {},
   "outputs": [
    {
     "name": "stdout",
     "output_type": "stream",
     "text": [
      "Train set has 34586 rows and 44 columns.\n",
      "Test set has 8647 rows and 44 columns.\n"
     ]
    }
   ],
   "source": [
    "# Out-of-time split. 80% training, 20% testing.\n",
    "train, test = np.split(ead_lgd_df, [int(.80 * len(ead_lgd_df))])\n",
    "train['set'] = 'train'\n",
    "test['set'] = 'test'\n",
    "\n",
    "# Assessing train and test sets dimensions.\n",
    "print(f'Train set has {train.shape[0]} rows and {train.shape[1]} columns.')\n",
    "print(f'Test set has {test.shape[0]} rows and {test.shape[1]} columns.')"
   ]
  },
  {
   "cell_type": "code",
   "execution_count": 11,
   "metadata": {},
   "outputs": [
    {
     "data": {
      "image/png": "[encoded data removed]",
      "text/plain": [
       "<Figure size 1200x400 with 1 Axes>"
      ]
     },
     "metadata": {},
     "output_type": "display_data"
    }
   ],
   "source": [
    "# Plot the out-of-time split.\n",
    "train_test = pd.concat([train, test])\n",
    "train_test = train_test.groupby(['issue_d', 'set'])['default'].count().reset_index().rename(columns={'default': 'loans'})\n",
    "\n",
    "fig, ax = plt.subplots(figsize=(12, 4))\n",
    "plt.title('Out-of-time Split')\n",
    "sns.lineplot(train_test, x='issue_d', y='loans', hue='set', ax=ax)\n",
    "plt.xlabel('')\n",
    "plt.ylabel('Number of Loans', labelpad=20)\n",
    "plt.grid(False)\n",
    "plt.legend(loc='upper left')\n",
    "plt.show()\n",
    "\n",
    "# Drop columns used only for plotting.\n",
    "to_drop = ['issue_d', 'set']\n",
    "train = train.drop(columns=to_drop)\n",
    "test = test.drop(columns=to_drop)"
   ]
  },
  {
   "cell_type": "markdown",
   "metadata": {},
   "source": [
    "- The out-of-time split was successfully made."
   ]
  },
  {
   "cell_type": "markdown",
   "metadata": {},
   "source": [
    "#### 4.4 Data Preprocessing\n",
    "- In order to **preprocess the data** for the **LGD** and **EAD models**, it is not necessary to extract only dummy variables. Since these models will be used by users familiar with statistics, we will follow these steps:\n",
    "    - For the **categorical variables**, I will apply **one-hot encoding** to the **nominal** ones and **ordinal encoding** to the **ordinal ones**. I will remove arbitrary reference categories to avoid multicollinearity issues (dummy variable trap). This approach is chosen because we will use linear and logistic regressions, and these linear models benefit from one-hot encoding due to the linearity assumption. This technique is particularly helpful for treating non-ordinal features, where encoding with numbers could introduce a false hierarchy. Moreover, ordinal encoding will efficiently represent the ordinal variables, preserving their order property, and reducing dimensionality.\n",
    "        - Since one-hot encoding already represents the variable with values of 0 or 1, there is no need to scale the data after this transformation.\n",
    "        - I will apply standard scaling to the ordinal-encoded variables because they will not be at the same scale after this transformation.\n",
    "        - I will combine categories for certain variables due to observations in the EDA revealing extremely low proportions in some categories. Creating dummies for these categories individually may result in overfitting. Additionally, combining categories allows me to reduce dimensionality.\n",
    "    - For the **numerical variables**, we will apply **standard scaling**. Linear models use optimization algorithms such as gradient descent, and it is important for the convergence of these algorithms that the features are at the same scale. For example, in gradient descent using MSE, if the variables are not scaled, the MSE cost function resembles a large bowl, making convergence difficult.\n",
    "    - For **handling missing values**, I will do the following:\n",
    "        - **mths_since_last_delinq:** Since we interpret these missing values as instances where individuals were never delinquent, and considering the high proportion of records with nulls (more than 55%), I will impute them with -999. This will allow the model to capture the idea that these borrowers form a separate group, characterized by this value, indicating they were never delinquent. Moreover, this is a common practice seen in companies data bases.\n",
    "        - **tot_cur_bal:** I will impute these values with the median, as the variable's distribution is right-skewed and contains many outliers, affecting the mean. This approach is expected to not introduce bias and work well, given the lower proportion of missing values.\n",
    "- Moreover, the **same preprocessing steps** will be applied to the data to construct both **LGD and EAD models, except** that we will retain the corresponding **target** variable for each model. LGD 1st stage and EAD models will use the same input data, while LGD 2nd stage model will use input data with only greater than zero recovery rates, once these are those which we want to predict the corresponding value.\n",
    "- Finally, **irrelevant variables** (identified in EDA) and variables that will not be available at the moment of prediction will be **removed**, preventing **data leakage** and maintaining the integrity of our models."
   ]
  },
  {
   "cell_type": "code",
   "execution_count": 12,
   "metadata": {},
   "outputs": [],
   "source": [
    "# Combine categories to avoid overfitting.\n",
    "state_to_region = {\n",
    "    'ME': 'Northeast', 'NH': 'Northeast', 'VT': 'Northeast', 'MA': 'Northeast', 'RI': 'Northeast', 'CT': 'Northeast', 'NY': 'Northeast', 'NJ': 'Northeast', 'PA': 'Northeast',\n",
    "    'OH': 'Midwest', 'MI': 'Midwest', 'IN': 'Midwest', 'IL': 'Midwest', 'WI': 'Midwest', 'MN': 'Midwest', 'IA': 'Midwest', 'MO': 'Midwest', 'ND': 'Midwest', 'SD': 'Midwest', 'NE': 'Midwest', 'KS': 'Midwest',\n",
    "    'DE': 'South', 'MD': 'South', 'VA': 'South', 'WV': 'South', 'KY': 'South', 'NC': 'South', 'SC': 'South', 'TN': 'South', 'GA': 'South', 'FL': 'South', 'AL': 'South', 'MS': 'South', 'AR': 'South', 'LA': 'South', 'TX': 'South', 'OK': 'South',\n",
    "    'MT': 'West', 'ID': 'West', 'WY': 'West', 'CO': 'West', 'NM': 'West', 'AZ': 'West', 'UT': 'West', 'NV': 'West', 'WA': 'West', 'OR': 'West', 'CA': 'West', 'AK': 'West', 'HI': 'West', 'DC': 'Northeast',\n",
    "}\n",
    "\n",
    "# Create a new 'Region' column by mapping the state abbreviations to regions\n",
    "train['region'] = train['addr_state'].replace(state_to_region)\n",
    "test['region'] = test['addr_state'].replace(state_to_region)\n",
    "\n",
    "train['home_ownership'] = train['home_ownership'].replace(['RENT', 'NONE', 'OTHER'], 'RENT_NONE_OTHER')\n",
    "test['home_ownership'] = test['home_ownership'].replace(['RENT', 'NONE', 'OTHER'], 'RENT_NONE_OTHER')\n",
    "train['purpose'] = train['purpose'].replace(['educational', 'renewable_energy'], 'other')\n",
    "test['purpose'] = test['purpose'].replace(['educational', 'renewable_energy'], 'other')\n",
    "train['purpose'] = train['purpose'].replace(['vacation', 'moving', 'wedding'], 'vacation_moving_wedding')\n",
    "test['purpose'] = test['purpose'].replace(['vacation', 'moving', 'wedding'], 'vacation_moving_wedding')\n",
    "train['purpose'] = train['purpose'].replace(['house', 'car', 'medical'], 'house_car_medical')\n",
    "test['purpose'] = test['purpose'].replace(['house', 'car', 'medical'], 'house_car_medical')\n",
    "\n",
    "# Impute mths_since_last_delinq missing values with -999, indicating never deliquent borrowers.\n",
    "train['mths_since_last_delinq'] = train['mths_since_last_delinq'].fillna(-999)\n",
    "test['mths_since_last_delinq'] = test['mths_since_last_delinq'].fillna(-999)"
   ]
  },
  {
   "cell_type": "code",
   "execution_count": 13,
   "metadata": {},
   "outputs": [],
   "source": [
    "# Obtain predictor and target train and test sets for LGD and EAD models, removing irrelevant variables.\n",
    "data_leakage_variables = ['funded_amnt', 'installment', 'revol_util', \n",
    "                         'out_prncp', 'total_pymnt', 'total_rec_prncp', 'total_rec_int', \n",
    "                         'total_rec_late_fee', 'recoveries', 'collection_recovery_fee', \n",
    "                         'last_pymnt_amnt', 'collections_12_mths_ex_med', 'tot_coll_amt']\n",
    "irrelevant_variables = ['delinq_2yrs', 'acc_now_delinq', 'pub_rec', \n",
    "                        'total_rev_hi_lim', 'loan_status', 'default', 'addr_state']\n",
    "to_drop = data_leakage_variables + irrelevant_variables\n",
    "\n",
    "target_lgd_logistic = 'recovery_rate_>0'\n",
    "target_lgd_linear = 'recovery_rate'\n",
    "target_ead = 'credit_conversion_factor'\n",
    "targets = [target_lgd_logistic, target_lgd_linear, target_ead]\n",
    "\n",
    "# Same train and test sets will be applied to 1st stage of LGD and EAD.\n",
    "X_train = train.drop(columns=to_drop + targets)\n",
    "X_test = test.drop(columns=to_drop + targets)\n",
    "y_train_lgd_logistic = train[target_lgd_logistic].copy()\n",
    "y_test_lgd_logistic = test[target_lgd_logistic].copy()\n",
    "y_train_ead = train[target_ead].copy()\n",
    "y_test_ead = test[target_ead].copy()\n",
    "\n",
    "# 2nd stage of LGD will be trained only in recovery rates greater than zero.\n",
    "X_train_lgd_linear = train.loc[train['recovery_rate_>0'] == 1].drop(columns=to_drop + targets)\n",
    "X_test_lgd_linear = test.loc[test['recovery_rate_>0'] == 1].drop(columns=to_drop + targets)\n",
    "y_train_lgd_linear = train.loc[train['recovery_rate_>0'] == 1, target_lgd_linear].copy()\n",
    "y_test_lgd_linear = test.loc[test['recovery_rate_>0'] == 1, target_lgd_linear].copy()"
   ]
  },
  {
   "cell_type": "code",
   "execution_count": 14,
   "metadata": {},
   "outputs": [
    {
     "name": "stdout",
     "output_type": "stream",
     "text": [
      "There are 8 categorical variables. They are: ['grade', 'sub_grade', 'home_ownership', 'verification_status', 'purpose', 'initial_list_status', 'region', 'term'].\n",
      "There are 12 categorical variables. They are: ['loan_amnt', 'int_rate', 'emp_length', 'annual_inc', 'dti', 'inq_last_6mths', 'mths_since_last_delinq', 'open_acc', 'revol_bal', 'total_acc', 'tot_cur_bal', 'mths_since_earliest_cr_line'].\n"
     ]
    }
   ],
   "source": [
    "# Obtain the categorical and numerical variables.\n",
    "categorical_variables = X_train.select_dtypes('category').columns.tolist()\n",
    "numerical_variables = X_train.select_dtypes('number').columns.tolist()\n",
    "\n",
    "# Treat 'term' as a categorical variable because it presents just 2 unique values, 36 and 60.\n",
    "categorical_variables.append('term')\n",
    "numerical_variables.remove('term')\n",
    "\n",
    "print(f'There are {len(categorical_variables)} categorical variables. They are: {categorical_variables}.')\n",
    "print(f'There are {len(numerical_variables)} categorical variables. They are: {numerical_variables}.')\n"
   ]
  },
  {
   "cell_type": "code",
   "execution_count": 15,
   "metadata": {},
   "outputs": [
    {
     "name": "stdout",
     "output_type": "stream",
     "text": [
      "grade | cardinality = 7.\n",
      "['F', 'D', 'E', 'B', 'C', 'G', 'A']\n",
      "\n",
      "sub_grade | cardinality = 35.\n",
      "['F2', 'D3', 'D2', 'F3', 'E3', 'B1', 'C5', 'D5', 'F1', 'E4', 'D1', 'C4', 'E1', 'E2', 'C2', 'G2', 'G3', 'F5', 'C3', 'B5', 'B4', 'D4', 'F4', 'A2', 'G4', 'G5', 'C1', 'E5', 'B2', 'B3', 'G1', 'A3', 'A4', 'A5', 'A1']\n",
      "\n",
      "home_ownership | cardinality = 3.\n",
      "['MORTGAGE', 'RENT_NONE_OTHER', 'OWN']\n",
      "\n",
      "verification_status | cardinality = 3.\n",
      "['Verified', 'Not Verified', 'Source Verified']\n",
      "\n",
      "purpose | cardinality = 8.\n",
      "['debt_consolidation', 'other', 'house_car_medical', 'credit_card', 'vacation_moving_wedding', 'small_business', 'home_improvement', 'major_purchase']\n",
      "\n",
      "initial_list_status | cardinality = 2.\n",
      "['f', 'w']\n",
      "\n",
      "region | cardinality = 4.\n",
      "['West', 'Northeast', 'South', 'Midwest']\n",
      "\n",
      "term | cardinality = 2.\n",
      "[36, 60]\n",
      "\n"
     ]
    }
   ],
   "source": [
    "# Quickly visualize cardinality.\n",
    "for variable in categorical_variables:\n",
    "    print(f'{variable} | cardinality = {X_train[variable].nunique()}.')\n",
    "    print(X_train[variable].unique().tolist())\n",
    "    print()"
   ]
  },
  {
   "cell_type": "code",
   "execution_count": 16,
   "metadata": {},
   "outputs": [],
   "source": [
    "# Determining the list of variables to which each preprocessing will be applied.\n",
    "nominal_features = ['term', 'region', 'initial_list_status',\n",
    "                    'purpose', 'verification_status', 'home_ownership']\n",
    "ordinal_features = ['grade', 'sub_grade']\n",
    "\n",
    "# Construct the preprocessor.\n",
    "nominal_pipe = Pipeline(\n",
    "    steps=[\n",
    "        ('one_hot_encoding', OneHotEncoder(drop='first', \n",
    "                                           handle_unknown='ignore', \n",
    "                                           sparse=False,\n",
    "                                           feature_name_combiner='concat'))\n",
    "    ]\n",
    ")\n",
    "\n",
    "ordinal_pipe = Pipeline(\n",
    "    steps=[\n",
    "        ('ordinal_encoding', OrdinalEncoder()),\n",
    "        ('standard_scaling', StandardScaler())\n",
    "    ]\n",
    ")\n",
    "\n",
    "numerical_pipe = Pipeline(\n",
    "    steps=[\n",
    "        ('median_imputing', SimpleImputer(strategy='median')),\n",
    "        ('standard_scaling', StandardScaler())\n",
    "    ]\n",
    ")\n",
    "\n",
    "preprocessor = ColumnTransformer(\n",
    "    transformers=[\n",
    "        ('nominal_pipe', nominal_pipe, nominal_features),\n",
    "        ('ordinal_pipe', ordinal_pipe, ordinal_features),\n",
    "        ('numerical_pipe', numerical_pipe, numerical_variables)\n",
    "    ], remainder='passthrough'\n",
    ")"
   ]
  },
  {
   "cell_type": "code",
   "execution_count": 17,
   "metadata": {},
   "outputs": [
    {
     "data": {
      "text/html": [
       "<div>\n",
       "<style scoped>\n",
       "    .dataframe tbody tr th:only-of-type {\n",
       "        vertical-align: middle;\n",
       "    }\n",
       "\n",
       "    .dataframe tbody tr th {\n",
       "        vertical-align: top;\n",
       "    }\n",
       "\n",
       "    .dataframe thead th {\n",
       "        text-align: right;\n",
       "    }\n",
       "</style>\n",
       "<table border=\"1\" class=\"dataframe\">\n",
       "  <thead>\n",
       "    <tr style=\"text-align: right;\">\n",
       "      <th></th>\n",
       "      <th>term_60</th>\n",
       "      <th>region_Northeast</th>\n",
       "      <th>region_South</th>\n",
       "      <th>region_West</th>\n",
       "      <th>initial_list_status_w</th>\n",
       "      <th>purpose_debt_consolidation</th>\n",
       "      <th>purpose_home_improvement</th>\n",
       "      <th>purpose_house_car_medical</th>\n",
       "      <th>purpose_major_purchase</th>\n",
       "      <th>purpose_other</th>\n",
       "      <th>purpose_small_business</th>\n",
       "      <th>purpose_vacation_moving_wedding</th>\n",
       "      <th>verification_status_Source Verified</th>\n",
       "      <th>verification_status_Verified</th>\n",
       "      <th>home_ownership_OWN</th>\n",
       "      <th>home_ownership_RENT_NONE_OTHER</th>\n",
       "      <th>grade</th>\n",
       "      <th>sub_grade</th>\n",
       "      <th>loan_amnt</th>\n",
       "      <th>int_rate</th>\n",
       "      <th>emp_length</th>\n",
       "      <th>annual_inc</th>\n",
       "      <th>dti</th>\n",
       "      <th>inq_last_6mths</th>\n",
       "      <th>mths_since_last_delinq</th>\n",
       "      <th>open_acc</th>\n",
       "      <th>revol_bal</th>\n",
       "      <th>total_acc</th>\n",
       "      <th>tot_cur_bal</th>\n",
       "      <th>mths_since_earliest_cr_line</th>\n",
       "    </tr>\n",
       "  </thead>\n",
       "  <tbody>\n",
       "    <tr>\n",
       "      <th>0</th>\n",
       "      <td>0.0</td>\n",
       "      <td>0.0</td>\n",
       "      <td>0.0</td>\n",
       "      <td>1.0</td>\n",
       "      <td>0.0</td>\n",
       "      <td>1.0</td>\n",
       "      <td>0.0</td>\n",
       "      <td>0.0</td>\n",
       "      <td>0.0</td>\n",
       "      <td>0.0</td>\n",
       "      <td>0.0</td>\n",
       "      <td>0.0</td>\n",
       "      <td>0.0</td>\n",
       "      <td>1.0</td>\n",
       "      <td>0.0</td>\n",
       "      <td>0.0</td>\n",
       "      <td>1.920050</td>\n",
       "      <td>1.797994</td>\n",
       "      <td>-0.874820</td>\n",
       "      <td>0.050532</td>\n",
       "      <td>1.208511</td>\n",
       "      <td>3.104251</td>\n",
       "      <td>0.629904</td>\n",
       "      <td>2.190962</td>\n",
       "      <td>1.081908</td>\n",
       "      <td>1.094844</td>\n",
       "      <td>6.791207</td>\n",
       "      <td>0.641913</td>\n",
       "      <td>-0.351273</td>\n",
       "      <td>1.415487</td>\n",
       "    </tr>\n",
       "    <tr>\n",
       "      <th>1</th>\n",
       "      <td>0.0</td>\n",
       "      <td>1.0</td>\n",
       "      <td>0.0</td>\n",
       "      <td>0.0</td>\n",
       "      <td>0.0</td>\n",
       "      <td>1.0</td>\n",
       "      <td>0.0</td>\n",
       "      <td>0.0</td>\n",
       "      <td>0.0</td>\n",
       "      <td>0.0</td>\n",
       "      <td>0.0</td>\n",
       "      <td>0.0</td>\n",
       "      <td>0.0</td>\n",
       "      <td>1.0</td>\n",
       "      <td>0.0</td>\n",
       "      <td>1.0</td>\n",
       "      <td>0.466867</td>\n",
       "      <td>0.470702</td>\n",
       "      <td>1.284329</td>\n",
       "      <td>0.264694</td>\n",
       "      <td>-1.205672</td>\n",
       "      <td>0.137854</td>\n",
       "      <td>-0.938642</td>\n",
       "      <td>-0.812828</td>\n",
       "      <td>1.161989</td>\n",
       "      <td>-0.165237</td>\n",
       "      <td>0.234158</td>\n",
       "      <td>-0.596505</td>\n",
       "      <td>-0.577478</td>\n",
       "      <td>-0.320264</td>\n",
       "    </tr>\n",
       "    <tr>\n",
       "      <th>2</th>\n",
       "      <td>0.0</td>\n",
       "      <td>0.0</td>\n",
       "      <td>1.0</td>\n",
       "      <td>0.0</td>\n",
       "      <td>0.0</td>\n",
       "      <td>1.0</td>\n",
       "      <td>0.0</td>\n",
       "      <td>0.0</td>\n",
       "      <td>0.0</td>\n",
       "      <td>0.0</td>\n",
       "      <td>0.0</td>\n",
       "      <td>0.0</td>\n",
       "      <td>0.0</td>\n",
       "      <td>0.0</td>\n",
       "      <td>0.0</td>\n",
       "      <td>1.0</td>\n",
       "      <td>0.466867</td>\n",
       "      <td>0.323225</td>\n",
       "      <td>-1.042753</td>\n",
       "      <td>-0.213051</td>\n",
       "      <td>-1.205672</td>\n",
       "      <td>-0.482731</td>\n",
       "      <td>-1.790400</td>\n",
       "      <td>-0.812828</td>\n",
       "      <td>1.156129</td>\n",
       "      <td>-1.215305</td>\n",
       "      <td>-0.568085</td>\n",
       "      <td>-1.304173</td>\n",
       "      <td>-0.351273</td>\n",
       "      <td>-0.467987</td>\n",
       "    </tr>\n",
       "    <tr>\n",
       "      <th>3</th>\n",
       "      <td>0.0</td>\n",
       "      <td>0.0</td>\n",
       "      <td>1.0</td>\n",
       "      <td>0.0</td>\n",
       "      <td>0.0</td>\n",
       "      <td>0.0</td>\n",
       "      <td>0.0</td>\n",
       "      <td>0.0</td>\n",
       "      <td>0.0</td>\n",
       "      <td>1.0</td>\n",
       "      <td>0.0</td>\n",
       "      <td>0.0</td>\n",
       "      <td>0.0</td>\n",
       "      <td>1.0</td>\n",
       "      <td>0.0</td>\n",
       "      <td>1.0</td>\n",
       "      <td>1.920050</td>\n",
       "      <td>1.945471</td>\n",
       "      <td>-1.285657</td>\n",
       "      <td>0.125842</td>\n",
       "      <td>-1.205672</td>\n",
       "      <td>-0.855082</td>\n",
       "      <td>1.564217</td>\n",
       "      <td>-0.061881</td>\n",
       "      <td>1.081908</td>\n",
       "      <td>-1.005291</td>\n",
       "      <td>-0.607900</td>\n",
       "      <td>-1.569548</td>\n",
       "      <td>-0.351273</td>\n",
       "      <td>-0.788054</td>\n",
       "    </tr>\n",
       "    <tr>\n",
       "      <th>4</th>\n",
       "      <td>0.0</td>\n",
       "      <td>0.0</td>\n",
       "      <td>0.0</td>\n",
       "      <td>0.0</td>\n",
       "      <td>0.0</td>\n",
       "      <td>1.0</td>\n",
       "      <td>0.0</td>\n",
       "      <td>0.0</td>\n",
       "      <td>0.0</td>\n",
       "      <td>0.0</td>\n",
       "      <td>0.0</td>\n",
       "      <td>0.0</td>\n",
       "      <td>0.0</td>\n",
       "      <td>0.0</td>\n",
       "      <td>0.0</td>\n",
       "      <td>0.0</td>\n",
       "      <td>1.193459</td>\n",
       "      <td>1.208086</td>\n",
       "      <td>-0.874820</td>\n",
       "      <td>-0.245999</td>\n",
       "      <td>-1.473915</td>\n",
       "      <td>-0.482731</td>\n",
       "      <td>0.190921</td>\n",
       "      <td>23.968441</td>\n",
       "      <td>1.173708</td>\n",
       "      <td>1.514871</td>\n",
       "      <td>0.566930</td>\n",
       "      <td>0.641913</td>\n",
       "      <td>-0.351273</td>\n",
       "      <td>-0.320264</td>\n",
       "    </tr>\n",
       "  </tbody>\n",
       "</table>\n",
       "</div>"
      ],
      "text/plain": [
       "   term_60  region_Northeast  region_South  region_West  initial_list_status_w  purpose_debt_consolidation  purpose_home_improvement  purpose_house_car_medical  purpose_major_purchase  purpose_other  purpose_small_business  purpose_vacation_moving_wedding  verification_status_Source Verified  verification_status_Verified  home_ownership_OWN  home_ownership_RENT_NONE_OTHER     grade  sub_grade  loan_amnt  int_rate  emp_length  annual_inc       dti  inq_last_6mths  mths_since_last_delinq  open_acc  revol_bal  total_acc  tot_cur_bal  mths_since_earliest_cr_line\n",
       "0      0.0               0.0           0.0          1.0                    0.0                         1.0                       0.0                        0.0                     0.0            0.0                     0.0                              0.0                                  0.0                           1.0                 0.0                             0.0  1.920050   1.797994  -0.874820  0.050532    1.208511    3.104251  0.629904        2.190962                1.081908  1.094844   6.791207   0.641913    -0.351273                     1.415487\n",
       "1      0.0               1.0           0.0          0.0                    0.0                         1.0                       0.0                        0.0                     0.0            0.0                     0.0                              0.0                                  0.0                           1.0                 0.0                             1.0  0.466867   0.470702   1.284329  0.264694   -1.205672    0.137854 -0.938642       -0.812828                1.161989 -0.165237   0.234158  -0.596505    -0.577478                    -0.320264\n",
       "2      0.0               0.0           1.0          0.0                    0.0                         1.0                       0.0                        0.0                     0.0            0.0                     0.0                              0.0                                  0.0                           0.0                 0.0                             1.0  0.466867   0.323225  -1.042753 -0.213051   -1.205672   -0.482731 -1.790400       -0.812828                1.156129 -1.215305  -0.568085  -1.304173    -0.351273                    -0.467987\n",
       "3      0.0               0.0           1.0          0.0                    0.0                         0.0                       0.0                        0.0                     0.0            1.0                     0.0                              0.0                                  0.0                           1.0                 0.0                             1.0  1.920050   1.945471  -1.285657  0.125842   -1.205672   -0.855082  1.564217       -0.061881                1.081908 -1.005291  -0.607900  -1.569548    -0.351273                    -0.788054\n",
       "4      0.0               0.0           0.0          0.0                    0.0                         1.0                       0.0                        0.0                     0.0            0.0                     0.0                              0.0                                  0.0                           0.0                 0.0                             0.0  1.193459   1.208086  -0.874820 -0.245999   -1.473915   -0.482731  0.190921       23.968441                1.173708  1.514871   0.566930   0.641913    -0.351273                    -0.320264"
      ]
     },
     "execution_count": 17,
     "metadata": {},
     "output_type": "execute_result"
    }
   ],
   "source": [
    "# Preprocess all data for 1st and 2nd stages of LGD model and EAD model.\n",
    "X_train_prepared = preprocessor.fit_transform(X_train)\n",
    "X_test_prepared = preprocessor.transform(X_test)\n",
    "\n",
    "X_train_lgd_linear_prepared = preprocessor.fit_transform(X_train_lgd_linear)\n",
    "X_test_lgd_linear_prepared = preprocessor.transform(X_test_lgd_linear)\n",
    "\n",
    "# Obtain features list.\n",
    "features_list = ['_'.join(x.split('_')[3:]) for x in preprocessor.get_feature_names_out().tolist()]\n",
    "\n",
    "# Create DataFrames for better understanding and manipulation of prepared data.\n",
    "X_train_prepared = pd.DataFrame(X_train_prepared, columns=features_list)\n",
    "X_test_prepared = pd.DataFrame(X_test_prepared, columns=features_list)\n",
    "\n",
    "X_train_lgd_linear_prepared = pd.DataFrame(X_train_lgd_linear_prepared, columns=features_list)\n",
    "X_test_lgd_linear_prepared = pd.DataFrame(X_test_lgd_linear_prepared, columns=features_list)\n",
    "\n",
    "X_train_prepared.head()"
   ]
  },
  {
   "cell_type": "markdown",
   "metadata": {},
   "source": [
    "#### 4.5 Estimate and Evaluate the Two Stages LGD Model\n",
    "- First, I will assess and evaluate the **initial stage of the LGD Model**, specifically the **Logistic Regression** used to predict whether the **recovery rate exceeds 0 or not.** If the **recovery rate is predicted as zero, it will be retained as such.** However, if the **predicted recovery rate is greater than zero**, I will proceed to the **second stage of the LGD Model (Linear Regression) to predict its value.** To achieve this, we follow these steps:\n",
    "    1. Train the stage 1 LGD model (Logistic Regression) on the entire data, identifying instances predicted as 0 (recovery rate = 0) and those as 1 (recovery rate > 0).\n",
    "    2. Train the stage 2 LGD model (Linear Regression) on default loans with a recovery rate greater than zero.\n",
    "    3. Utilize the trained Linear Regression model to make predictions on the entire data.\n",
    "    4. Multiply the predictions of the stage 1 LGD model and the stage 2 LGD model. Instances predicted with a recovery rate of zero will remain as zero, while instances predicted with a recovery rate greater than 0 (predicted as 1) will be assigned the Linear Regression-predicted recovery rate value.\n",
    "- OBS: **LGD and EAD Models estimate beta-distributed target variables**, representing the recovery rate and the credit conversion factor, which ranges from 0 to 1, signifying a proportion. In theory, a **Beta Regression Model** would be more suitable since it is designed for modeling rates. However, I tested both **Beta and Linear regressions**, and the **results were quite similar**, showing no significant improvement in performance. Additionally, if I were to model EAD and LGD with a Beta Regression model, considering the presence of recovery rates equal to 1, I would need to modify the data by replacing 1 values with 0.999, for example. I am hesitant about altering the data as it has the potential to introduce bias into the results. Consequently, I have decided to proceed with modeling everything using linear regression OLS, which is also valid!"
   ]
  },
  {
   "cell_type": "markdown",
   "metadata": {},
   "source": [
    "#### 4.5.1 Estimate the 1st Stage LGD Model (Logistic Regression)"
   ]
  },
  {
   "cell_type": "code",
   "execution_count": 18,
   "metadata": {},
   "outputs": [
    {
     "name": "stdout",
     "output_type": "stream",
     "text": [
      "Optimization terminated successfully    (Exit mode 0)\n",
      "            Current function value: 0.6341403769420958\n",
      "            Iterations: 253\n",
      "            Function evaluations: 254\n",
      "            Gradient evaluations: 253\n"
     ]
    }
   ],
   "source": [
    "# Estimate the 1st stage LGD Model (Logistic Regression).\n",
    "lgd_logistic = LogisticRegressionWithPvalues(alpha=1, method='l1')\n",
    "lgd_logistic.fit(X_train_prepared, y_train_lgd_logistic)"
   ]
  },
  {
   "cell_type": "code",
   "execution_count": 19,
   "metadata": {},
   "outputs": [
    {
     "data": {
      "text/plain": [
       "purpose_small_business                 0.423560\n",
       "const                                  0.413308\n",
       "purpose_major_purchase                 0.395021\n",
       "purpose_house_car_medical              0.360543\n",
       "purpose_vacation_moving_wedding        0.336770\n",
       "purpose_other                          0.257338\n",
       "region_South                           0.246409\n",
       "purpose_home_improvement               0.238940\n",
       "grade                                  0.108907\n",
       "loan_amnt                              0.099768\n",
       "purpose_debt_consolidation             0.099690\n",
       "home_ownership_OWN                     0.081335\n",
       "annual_inc                             0.080207\n",
       "region_West                            0.071719\n",
       "home_ownership_RENT_NONE_OTHER         0.067143\n",
       "sub_grade                              0.061022\n",
       "term_60                                0.051467\n",
       "region_Northeast                       0.034544\n",
       "mths_since_last_delinq                 0.029082\n",
       "open_acc                               0.028483\n",
       "inq_last_6mths                         0.009165\n",
       "verification_status_Verified           0.007897\n",
       "tot_cur_bal                            0.002505\n",
       "emp_length                            -0.014772\n",
       "revol_bal                             -0.035801\n",
       "verification_status_Source Verified   -0.052019\n",
       "mths_since_earliest_cr_line           -0.057725\n",
       "int_rate                              -0.061889\n",
       "dti                                   -0.099282\n",
       "total_acc                             -0.130191\n",
       "initial_list_status_w                 -0.927572\n",
       "Name: Beta Coefficient, dtype: float64"
      ]
     },
     "execution_count": 19,
     "metadata": {},
     "output_type": "execute_result"
    }
   ],
   "source": [
    "# Coefficients.\n",
    "summary_table = lgd_logistic.get_summary_table()\n",
    "summary_table['Beta Coefficient'].sort_values(ascending=False)"
   ]
  },
  {
   "cell_type": "markdown",
   "metadata": {},
   "source": [
    "- Some interpretation: For each increase in the ordinal \"grade\" category (moving from a lower grade to a higher grade), the odds of the recovery rate being greater than zero increase by approximately exp(0.108907) = 1.115. This means that moving up one grade category is associated with an approximately 11.5% increase in the odds of having a non-zero recovery rate, holding other variables constant."
   ]
  },
  {
   "cell_type": "markdown",
   "metadata": {},
   "source": [
    "#### 4.5.2 Make Predictions on Test Set and Evaluate it."
   ]
  },
  {
   "cell_type": "code",
   "execution_count": 20,
   "metadata": {},
   "outputs": [
    {
     "data": {
      "image/png": "[encoded data removed]",
      "text/plain": [
       "<Figure size 640x480 with 2 Axes>"
      ]
     },
     "metadata": {},
     "output_type": "display_data"
    },
    {
     "name": "stdout",
     "output_type": "stream",
     "text": [
      "              precision    recall  f1-score   support\n",
      "\n",
      "           0       0.76      0.48      0.59      5876\n",
      "           1       0.38      0.67      0.49      2771\n",
      "\n",
      "    accuracy                           0.54      8647\n",
      "   macro avg       0.57      0.58      0.54      8647\n",
      "weighted avg       0.64      0.54      0.56      8647\n",
      "\n",
      "ROC-AUC = 0.6113340444489865.\n"
     ]
    }
   ],
   "source": [
    "# Make predictions on test set and evaluate it.\n",
    "lgd_logistic_probas = lgd_logistic.predict(X_test_prepared)\n",
    "threshold = 0.5\n",
    "lgd_logistic_pred = np.where(lgd_logistic_probas >= threshold, 1, 0)\n",
    "\n",
    "cm = confusion_matrix(y_test_lgd_logistic, lgd_logistic_pred)\n",
    "sns.heatmap(cm, annot = True, fmt = 'd')\n",
    "plt.title('Confusion Matrix')\n",
    "plt.xlabel('Predicted Values')\n",
    "plt.ylabel('Real Values')\n",
    "plt.show()\n",
    "print(classification_report(y_test_lgd_logistic, lgd_logistic_pred))\n",
    "print(f'ROC-AUC = {roc_auc_score(y_test_lgd_logistic, lgd_logistic_probas)}.')"
   ]
  },
  {
   "cell_type": "markdown",
   "metadata": {},
   "source": [
    "- The model performance is not the best one. \n",
    "- Specifically, examining the confusion matrix reveals that the 1st stage LGD Model can correctly identify 2844 out of 5876 null recovery rates (48% recall for 0s) and 1867 out of 2771 recovery rates greater than zero (67% recall for 1s). This outcome was expected, given the limited charged-off loan data available.\n",
    "- Despite its limitations, the model remains valuable for our purposes as the first stage. The emphasis here is on correctly classifying values greater than 0, because all instances predicted as greater than zero will still have their values predicted by the second stage LGD Linear Regression model. The recall for this case is 67%, and the AUC 61%. Thus, we can procceed to the second stage modeling with useful results. Moreover, it is also possible to find a better threshold value, enhancing this recall.\n",
    "- I will balance the precision-recall trade-off below, trying to find the best threshold for enhancing the model's ability to correctly identify instances with recovery rate greater than zero."
   ]
  },
  {
   "cell_type": "code",
   "execution_count": 21,
   "metadata": {},
   "outputs": [
    {
     "data": {
      "image/png": "[encoded data removed]",
      "text/plain": [
       "<Figure size 640x480 with 2 Axes>"
      ]
     },
     "metadata": {},
     "output_type": "display_data"
    },
    {
     "name": "stdout",
     "output_type": "stream",
     "text": [
      "              precision    recall  f1-score   support\n",
      "\n",
      "           0       0.77      0.44      0.56      5876\n",
      "           1       0.38      0.72      0.49      2771\n",
      "\n",
      "    accuracy                           0.53      8647\n",
      "   macro avg       0.57      0.58      0.53      8647\n",
      "weighted avg       0.64      0.53      0.54      8647\n",
      "\n"
     ]
    }
   ],
   "source": [
    "# Make predictions on test set and evaluate it.\n",
    "threshold = 0.48\n",
    "lgd_logistic_pred = np.where(lgd_logistic_probas >= threshold, 1, 0)\n",
    "\n",
    "cm = confusion_matrix(y_test_lgd_logistic, lgd_logistic_pred)\n",
    "sns.heatmap(cm, annot = True, fmt = 'd')\n",
    "plt.title('Confusion Matrix')\n",
    "plt.xlabel('Predicted Values')\n",
    "plt.ylabel('Real Values')\n",
    "plt.show()\n",
    "print(classification_report(y_test_lgd_logistic, lgd_logistic_pred))"
   ]
  },
  {
   "cell_type": "markdown",
   "metadata": {},
   "source": [
    "- I will opt for a 0.48 threshold for classifying instances. This choice allows us to improve the recall for positive instances by 5%, reaching 72%, while sacrificing 4% of the negative instances recall, which now stands at 44%. Notably, precision remains consistent for both instances. Consequently, we can accurately identify 1993 out of 2771 recovery rates greater than zero (72%) and 2565 out of 5876 recovery rates equal to zero (44%)."
   ]
  },
  {
   "cell_type": "markdown",
   "metadata": {},
   "source": [
    "#### 4.5.3 Estimate the 2nd Stage LGD Model (Linear Regression) on Default Data with Recovery Rates Greater than Zero"
   ]
  },
  {
   "cell_type": "code",
   "execution_count": 22,
   "metadata": {},
   "outputs": [],
   "source": [
    "# Estimate the 2nd stage LGD Model (Linear Regression) on default data with recovery rates greater than zero.\n",
    "X_train_lgd_linear_const = sm.add_constant(X_train_lgd_linear_prepared)\n",
    "y_train_lgd_linear_reshaped = y_train_lgd_linear.values.reshape(-1, 1)\n",
    "lgd_linear = sm.OLS(y_train_lgd_linear_reshaped, X_train_lgd_linear_const).fit()"
   ]
  },
  {
   "cell_type": "code",
   "execution_count": 23,
   "metadata": {},
   "outputs": [
    {
     "data": {
      "text/plain": [
       "const                                  0.105788\n",
       "int_rate                               0.026933\n",
       "initial_list_status_w                  0.024497\n",
       "purpose_vacation_moving_wedding        0.007524\n",
       "home_ownership_OWN                     0.006665\n",
       "total_acc                              0.005940\n",
       "term_60                                0.005776\n",
       "tot_cur_bal                            0.005337\n",
       "annual_inc                             0.002856\n",
       "dti                                    0.002487\n",
       "mths_since_earliest_cr_line            0.002161\n",
       "mths_since_last_delinq                 0.001381\n",
       "verification_status_Verified           0.001096\n",
       "emp_length                             0.000984\n",
       "verification_status_Source Verified    0.000780\n",
       "home_ownership_RENT_NONE_OTHER         0.000606\n",
       "revol_bal                             -0.000520\n",
       "inq_last_6mths                        -0.000770\n",
       "purpose_other                         -0.001598\n",
       "purpose_debt_consolidation            -0.001822\n",
       "purpose_major_purchase                -0.002064\n",
       "loan_amnt                             -0.002120\n",
       "grade                                 -0.002305\n",
       "purpose_house_car_medical             -0.003333\n",
       "purpose_small_business                -0.004930\n",
       "open_acc                              -0.004972\n",
       "purpose_home_improvement              -0.006011\n",
       "region_South                          -0.008187\n",
       "region_West                           -0.012474\n",
       "region_Northeast                      -0.013671\n",
       "sub_grade                             -0.014445\n",
       "dtype: float64"
      ]
     },
     "execution_count": 23,
     "metadata": {},
     "output_type": "execute_result"
    }
   ],
   "source": [
    "# Coefficients.\n",
    "lgd_linear.params.sort_values(ascending=False)"
   ]
  },
  {
   "cell_type": "markdown",
   "metadata": {},
   "source": [
    "- Some interpretation: The interest rate coefficient is 0.026933. This implies that for each one percentage point increase in the interest rate, there is approximately a 2.7 percentage point increase in the recovery rate."
   ]
  },
  {
   "cell_type": "markdown",
   "metadata": {},
   "source": [
    "#### 4.5.4 Make Predictions on Test Set and Evaluate it."
   ]
  },
  {
   "cell_type": "code",
   "execution_count": 24,
   "metadata": {},
   "outputs": [
    {
     "name": "stdout",
     "output_type": "stream",
     "text": [
      "Mean Absolute Error (MAE): 0.0523\n",
      "Mean Absolute Percentage Error (MAPE): 63.2022\n",
      "Mean Squared Error (MSE): 0.0068\n",
      "Root Mean Squared Error (RMSE): 0.0825\n"
     ]
    },
    {
     "data": {
      "image/png": "[encoded data removed]",
      "text/plain": [
       "<Figure size 500x300 with 1 Axes>"
      ]
     },
     "metadata": {},
     "output_type": "display_data"
    },
    {
     "data": {
      "text/html": [
       "<div>\n",
       "<style scoped>\n",
       "    .dataframe tbody tr th:only-of-type {\n",
       "        vertical-align: middle;\n",
       "    }\n",
       "\n",
       "    .dataframe tbody tr th {\n",
       "        vertical-align: top;\n",
       "    }\n",
       "\n",
       "    .dataframe thead th {\n",
       "        text-align: right;\n",
       "    }\n",
       "</style>\n",
       "<table border=\"1\" class=\"dataframe\">\n",
       "  <thead>\n",
       "    <tr style=\"text-align: right;\">\n",
       "      <th></th>\n",
       "      <th>Model</th>\n",
       "      <th>MAE</th>\n",
       "      <th>MAPE</th>\n",
       "      <th>RMSE</th>\n",
       "    </tr>\n",
       "  </thead>\n",
       "  <tbody>\n",
       "    <tr>\n",
       "      <th>Results</th>\n",
       "      <td>LGD Linear Regression</td>\n",
       "      <td>0.0523</td>\n",
       "      <td>63.2022</td>\n",
       "      <td>0.0825</td>\n",
       "    </tr>\n",
       "  </tbody>\n",
       "</table>\n",
       "</div>"
      ],
      "text/plain": [
       "                         Model     MAE     MAPE    RMSE\n",
       "Results  LGD Linear Regression  0.0523  63.2022  0.0825"
      ]
     },
     "execution_count": 24,
     "metadata": {},
     "output_type": "execute_result"
    }
   ],
   "source": [
    "# Make predictions on test set and evaluate it.\n",
    "X_test_lgd_linear_const = sm.add_constant(X_test_lgd_linear_prepared)\n",
    "lgd_linear_pred = lgd_linear.predict(X_test_lgd_linear_const)\n",
    "evaluate_regressor(y_test_lgd_linear.reset_index(drop=True), lgd_linear_pred, y_train_lgd_linear.reset_index(drop=True), 'LGD Linear Regression')"
   ]
  },
  {
   "cell_type": "markdown",
   "metadata": {},
   "source": [
    "- The model demonstrates satisfactory performance, as indicated by a mean absolute error (MAE) of 0.0523. On average, the predicted recovery rates deviate by approximately 5.23 percentage points from the actual values. Furthermore, the residuals distribution is similar to a normal curve, with a mean very close to zero. The extended tail on the right suggests that the model tends to underestimate recovery rates for some higher values.\n",
    "- The large MAPE is expected: The output can be arbitrarily high when y_true is small (which is specific to the metric)."
   ]
  },
  {
   "cell_type": "code",
   "execution_count": 25,
   "metadata": {},
   "outputs": [
    {
     "data": {
      "text/html": [
       "<div>\n",
       "<style scoped>\n",
       "    .dataframe tbody tr th:only-of-type {\n",
       "        vertical-align: middle;\n",
       "    }\n",
       "\n",
       "    .dataframe tbody tr th {\n",
       "        vertical-align: top;\n",
       "    }\n",
       "\n",
       "    .dataframe thead th {\n",
       "        text-align: right;\n",
       "    }\n",
       "</style>\n",
       "<table border=\"1\" class=\"dataframe\">\n",
       "  <thead>\n",
       "    <tr style=\"text-align: right;\">\n",
       "      <th></th>\n",
       "      <th>Actual</th>\n",
       "      <th>Predicted</th>\n",
       "      <th>Residual</th>\n",
       "    </tr>\n",
       "  </thead>\n",
       "  <tbody>\n",
       "    <tr>\n",
       "      <th>1106</th>\n",
       "      <td>0.06</td>\n",
       "      <td>0.10</td>\n",
       "      <td>0.05</td>\n",
       "    </tr>\n",
       "    <tr>\n",
       "      <th>1321</th>\n",
       "      <td>0.15</td>\n",
       "      <td>0.10</td>\n",
       "      <td>0.05</td>\n",
       "    </tr>\n",
       "    <tr>\n",
       "      <th>2313</th>\n",
       "      <td>0.14</td>\n",
       "      <td>0.15</td>\n",
       "      <td>0.01</td>\n",
       "    </tr>\n",
       "    <tr>\n",
       "      <th>2274</th>\n",
       "      <td>0.16</td>\n",
       "      <td>0.12</td>\n",
       "      <td>0.05</td>\n",
       "    </tr>\n",
       "    <tr>\n",
       "      <th>1432</th>\n",
       "      <td>0.15</td>\n",
       "      <td>0.09</td>\n",
       "      <td>0.06</td>\n",
       "    </tr>\n",
       "    <tr>\n",
       "      <th>2240</th>\n",
       "      <td>0.17</td>\n",
       "      <td>0.12</td>\n",
       "      <td>0.05</td>\n",
       "    </tr>\n",
       "    <tr>\n",
       "      <th>965</th>\n",
       "      <td>0.16</td>\n",
       "      <td>0.09</td>\n",
       "      <td>0.07</td>\n",
       "    </tr>\n",
       "    <tr>\n",
       "      <th>2630</th>\n",
       "      <td>0.14</td>\n",
       "      <td>0.11</td>\n",
       "      <td>0.03</td>\n",
       "    </tr>\n",
       "    <tr>\n",
       "      <th>2134</th>\n",
       "      <td>0.16</td>\n",
       "      <td>0.09</td>\n",
       "      <td>0.07</td>\n",
       "    </tr>\n",
       "    <tr>\n",
       "      <th>2296</th>\n",
       "      <td>0.09</td>\n",
       "      <td>0.14</td>\n",
       "      <td>0.05</td>\n",
       "    </tr>\n",
       "    <tr>\n",
       "      <th>1954</th>\n",
       "      <td>0.19</td>\n",
       "      <td>0.14</td>\n",
       "      <td>0.05</td>\n",
       "    </tr>\n",
       "    <tr>\n",
       "      <th>1228</th>\n",
       "      <td>0.17</td>\n",
       "      <td>0.09</td>\n",
       "      <td>0.08</td>\n",
       "    </tr>\n",
       "    <tr>\n",
       "      <th>1897</th>\n",
       "      <td>0.18</td>\n",
       "      <td>0.12</td>\n",
       "      <td>0.06</td>\n",
       "    </tr>\n",
       "    <tr>\n",
       "      <th>1859</th>\n",
       "      <td>0.13</td>\n",
       "      <td>0.10</td>\n",
       "      <td>0.04</td>\n",
       "    </tr>\n",
       "    <tr>\n",
       "      <th>2682</th>\n",
       "      <td>0.22</td>\n",
       "      <td>0.14</td>\n",
       "      <td>0.08</td>\n",
       "    </tr>\n",
       "  </tbody>\n",
       "</table>\n",
       "</div>"
      ],
      "text/plain": [
       "      Actual  Predicted  Residual\n",
       "1106    0.06       0.10      0.05\n",
       "1321    0.15       0.10      0.05\n",
       "2313    0.14       0.15      0.01\n",
       "2274    0.16       0.12      0.05\n",
       "1432    0.15       0.09      0.06\n",
       "2240    0.17       0.12      0.05\n",
       "965     0.16       0.09      0.07\n",
       "2630    0.14       0.11      0.03\n",
       "2134    0.16       0.09      0.07\n",
       "2296    0.09       0.14      0.05\n",
       "1954    0.19       0.14      0.05\n",
       "1228    0.17       0.09      0.08\n",
       "1897    0.18       0.12      0.06\n",
       "1859    0.13       0.10      0.04\n",
       "2682    0.22       0.14      0.08"
      ]
     },
     "execution_count": 25,
     "metadata": {},
     "output_type": "execute_result"
    }
   ],
   "source": [
    "# Take a look at actual vs predicted and residual values.\n",
    "df = compare_actual_predicted_regression(y_test_lgd_linear.reset_index(drop=True), lgd_linear_pred)\n",
    "df.sample(15, random_state=42)"
   ]
  },
  {
   "cell_type": "markdown",
   "metadata": {},
   "source": [
    "- By comparing actual versus predicted recovery rates, it appears that the model's predictions align reasonably well with the observed values."
   ]
  },
  {
   "cell_type": "markdown",
   "metadata": {},
   "source": [
    "##### 4.5.5 Obtain the Final LGD Model\n",
    "- Now, I will **combine stage 1 and stage 2 LGD Models to obtain the final LGD = 1 - Recovery Rate model.** \n",
    "- Every observation classified as 0 by the stage 1 logistic regression model has estimated recovery rate of 0. Every observation classified as 1 by the stage 1 logistic regression model has estimated recovery rate as per the stage 2 linear regression model.\n",
    "- I will simply **multiply predicted values from the two models**. Wherever there is a 0 predicted by the first model, all values predicted by the second model are multiplied by it will remain 0. Wherever there is a 1, all values predicted by the second model are multiplied by 1 so they will remain the same."
   ]
  },
  {
   "cell_type": "code",
   "execution_count": 26,
   "metadata": {},
   "outputs": [],
   "source": [
    "# Combine stage 1 and stage 2 LGD Models.\n",
    "\n",
    "# Predict the recovery rate with stage 2 LGD Model in all data.\n",
    "X_test_lgd_const = sm.add_constant(X_test_prepared)\n",
    "lgd_linear_pred_all = lgd_linear.predict(X_test_lgd_const)\n",
    "\n",
    "lgd_pred = lgd_logistic_pred * lgd_linear_pred_all"
   ]
  },
  {
   "cell_type": "markdown",
   "metadata": {},
   "source": [
    "- Descriptive statistics."
   ]
  },
  {
   "cell_type": "code",
   "execution_count": 27,
   "metadata": {},
   "outputs": [
    {
     "data": {
      "text/plain": [
       "count    8647.000000\n",
       "mean        0.065471\n",
       "std         0.054651\n",
       "min         0.000000\n",
       "25%         0.000000\n",
       "50%         0.086032\n",
       "75%         0.110600\n",
       "max         0.264260\n",
       "dtype: float64"
      ]
     },
     "execution_count": 27,
     "metadata": {},
     "output_type": "execute_result"
    }
   ],
   "source": [
    "lgd_pred.describe()"
   ]
  },
  {
   "cell_type": "markdown",
   "metadata": {},
   "source": [
    "- There is no inconsistent predicted value. Everything seems ok."
   ]
  },
  {
   "cell_type": "markdown",
   "metadata": {},
   "source": [
    "#### 4.6 Estimate the EAD Model\n",
    "- The EAD Model will be directly a linear regression to predict the credit conversion factor, once its distribution was reasonable and did not present a bias towards 0 like recovery rate."
   ]
  },
  {
   "cell_type": "code",
   "execution_count": 28,
   "metadata": {},
   "outputs": [],
   "source": [
    "# Estimate the EAD Model.\n",
    "X_train_prepared_const = sm.add_constant(X_train_prepared)\n",
    "y_train_ead_reshaped = y_train_ead.values.reshape(-1, 1)\n",
    "ead_model = sm.OLS(y_train_ead_reshaped, X_train_prepared_const).fit()"
   ]
  },
  {
   "cell_type": "code",
   "execution_count": 29,
   "metadata": {},
   "outputs": [
    {
     "data": {
      "text/plain": [
       "const                                  0.635260\n",
       "term_60                                0.120057\n",
       "int_rate                               0.060229\n",
       "initial_list_status_w                  0.035587\n",
       "purpose_small_business                 0.026856\n",
       "verification_status_Source Verified    0.026192\n",
       "purpose_other                          0.018258\n",
       "purpose_vacation_moving_wedding        0.016629\n",
       "purpose_major_purchase                 0.015705\n",
       "purpose_home_improvement               0.012028\n",
       "inq_last_6mths                         0.010386\n",
       "tot_cur_bal                            0.009117\n",
       "verification_status_Verified           0.009069\n",
       "total_acc                              0.008883\n",
       "home_ownership_OWN                     0.008693\n",
       "home_ownership_RENT_NONE_OTHER         0.007283\n",
       "purpose_debt_consolidation             0.007012\n",
       "dti                                    0.004479\n",
       "loan_amnt                              0.002763\n",
       "region_West                            0.000719\n",
       "purpose_house_car_medical              0.000271\n",
       "revol_bal                             -0.000288\n",
       "region_South                          -0.000659\n",
       "region_Northeast                      -0.001996\n",
       "annual_inc                            -0.002208\n",
       "grade                                 -0.004468\n",
       "mths_since_last_delinq                -0.004636\n",
       "mths_since_earliest_cr_line           -0.004701\n",
       "emp_length                            -0.005100\n",
       "open_acc                              -0.011872\n",
       "sub_grade                             -0.018696\n",
       "dtype: float64"
      ]
     },
     "execution_count": 29,
     "metadata": {},
     "output_type": "execute_result"
    }
   ],
   "source": [
    "# Coefficients.\n",
    "ead_model.params.sort_values(ascending=False)"
   ]
  },
  {
   "cell_type": "markdown",
   "metadata": {},
   "source": [
    "- Some interpretation: If the loan has a 60-month term, the credit conversion factor increases by 12 percentage points."
   ]
  },
  {
   "cell_type": "markdown",
   "metadata": {},
   "source": [
    "#### 4.6.1 Make predictions on test set and evaluate it"
   ]
  },
  {
   "cell_type": "code",
   "execution_count": 30,
   "metadata": {},
   "outputs": [
    {
     "name": "stdout",
     "output_type": "stream",
     "text": [
      "Mean Absolute Error (MAE): 0.1353\n",
      "Mean Absolute Percentage Error (MAPE): 16.0853\n",
      "Mean Squared Error (MSE): 0.0255\n",
      "Root Mean Squared Error (RMSE): 0.1597\n"
     ]
    },
    {
     "data": {
      "image/png": "[encoded data removed]",
      "text/plain": [
       "<Figure size 500x300 with 1 Axes>"
      ]
     },
     "metadata": {},
     "output_type": "display_data"
    },
    {
     "data": {
      "text/html": [
       "<div>\n",
       "<style scoped>\n",
       "    .dataframe tbody tr th:only-of-type {\n",
       "        vertical-align: middle;\n",
       "    }\n",
       "\n",
       "    .dataframe tbody tr th {\n",
       "        vertical-align: top;\n",
       "    }\n",
       "\n",
       "    .dataframe thead th {\n",
       "        text-align: right;\n",
       "    }\n",
       "</style>\n",
       "<table border=\"1\" class=\"dataframe\">\n",
       "  <thead>\n",
       "    <tr style=\"text-align: right;\">\n",
       "      <th></th>\n",
       "      <th>Model</th>\n",
       "      <th>MAE</th>\n",
       "      <th>MAPE</th>\n",
       "      <th>RMSE</th>\n",
       "    </tr>\n",
       "  </thead>\n",
       "  <tbody>\n",
       "    <tr>\n",
       "      <th>Results</th>\n",
       "      <td>EAD Linear Regression</td>\n",
       "      <td>0.1353</td>\n",
       "      <td>16.0853</td>\n",
       "      <td>0.1597</td>\n",
       "    </tr>\n",
       "  </tbody>\n",
       "</table>\n",
       "</div>"
      ],
      "text/plain": [
       "                         Model     MAE     MAPE    RMSE\n",
       "Results  EAD Linear Regression  0.1353  16.0853  0.1597"
      ]
     },
     "execution_count": 30,
     "metadata": {},
     "output_type": "execute_result"
    }
   ],
   "source": [
    "# Predict and evaluate.\n",
    "X_test_ead_const = sm.add_constant(X_test_prepared)\n",
    "ead_pred = ead_model.predict(X_test_ead_const)\n",
    "evaluate_regressor(y_test_ead.reset_index(drop=True), ead_pred, y_train_ead.reset_index(drop=True), 'EAD Linear Regression')"
   ]
  },
  {
   "cell_type": "markdown",
   "metadata": {},
   "source": [
    "- The model demonstrates useful performance, as indicated by a mean absolute error (MAE) of 0.1353. On average, the predicted credit conversion rates deviate by approximately 13.53 percentage points from the actual values. Furthermore, the residuals distribution is similar to a normal curve, with a mean very close to zero. The extended tail on the left suggests that the model tends to superestimate recovery rates for some lower values.\n",
    "- The Mean Absolute Percentage Error (MAPE) of 16.0853 indicates that, on average, the model's predictions deviate by approximately 16.09% from the actual values (upside or downside). This is a good value for this metric."
   ]
  },
  {
   "cell_type": "code",
   "execution_count": 31,
   "metadata": {},
   "outputs": [
    {
     "data": {
      "text/html": [
       "<div>\n",
       "<style scoped>\n",
       "    .dataframe tbody tr th:only-of-type {\n",
       "        vertical-align: middle;\n",
       "    }\n",
       "\n",
       "    .dataframe tbody tr th {\n",
       "        vertical-align: top;\n",
       "    }\n",
       "\n",
       "    .dataframe thead th {\n",
       "        text-align: right;\n",
       "    }\n",
       "</style>\n",
       "<table border=\"1\" class=\"dataframe\">\n",
       "  <thead>\n",
       "    <tr style=\"text-align: right;\">\n",
       "      <th></th>\n",
       "      <th>Actual</th>\n",
       "      <th>Predicted</th>\n",
       "      <th>Residual</th>\n",
       "    </tr>\n",
       "  </thead>\n",
       "  <tbody>\n",
       "    <tr>\n",
       "      <th>5601</th>\n",
       "      <td>0.93</td>\n",
       "      <td>0.82</td>\n",
       "      <td>0.11</td>\n",
       "    </tr>\n",
       "    <tr>\n",
       "      <th>4103</th>\n",
       "      <td>0.90</td>\n",
       "      <td>0.84</td>\n",
       "      <td>0.06</td>\n",
       "    </tr>\n",
       "    <tr>\n",
       "      <th>222</th>\n",
       "      <td>0.73</td>\n",
       "      <td>0.64</td>\n",
       "      <td>0.09</td>\n",
       "    </tr>\n",
       "    <tr>\n",
       "      <th>7230</th>\n",
       "      <td>0.96</td>\n",
       "      <td>0.64</td>\n",
       "      <td>0.31</td>\n",
       "    </tr>\n",
       "    <tr>\n",
       "      <th>318</th>\n",
       "      <td>0.64</td>\n",
       "      <td>0.70</td>\n",
       "      <td>0.06</td>\n",
       "    </tr>\n",
       "    <tr>\n",
       "      <th>4668</th>\n",
       "      <td>0.78</td>\n",
       "      <td>0.65</td>\n",
       "      <td>0.13</td>\n",
       "    </tr>\n",
       "    <tr>\n",
       "      <th>736</th>\n",
       "      <td>0.91</td>\n",
       "      <td>0.78</td>\n",
       "      <td>0.13</td>\n",
       "    </tr>\n",
       "    <tr>\n",
       "      <th>5285</th>\n",
       "      <td>0.94</td>\n",
       "      <td>0.86</td>\n",
       "      <td>0.08</td>\n",
       "    </tr>\n",
       "    <tr>\n",
       "      <th>8335</th>\n",
       "      <td>0.91</td>\n",
       "      <td>0.65</td>\n",
       "      <td>0.26</td>\n",
       "    </tr>\n",
       "    <tr>\n",
       "      <th>5810</th>\n",
       "      <td>0.84</td>\n",
       "      <td>0.68</td>\n",
       "      <td>0.17</td>\n",
       "    </tr>\n",
       "    <tr>\n",
       "      <th>5180</th>\n",
       "      <td>0.88</td>\n",
       "      <td>0.58</td>\n",
       "      <td>0.30</td>\n",
       "    </tr>\n",
       "    <tr>\n",
       "      <th>3621</th>\n",
       "      <td>0.98</td>\n",
       "      <td>0.67</td>\n",
       "      <td>0.31</td>\n",
       "    </tr>\n",
       "    <tr>\n",
       "      <th>1263</th>\n",
       "      <td>0.76</td>\n",
       "      <td>0.69</td>\n",
       "      <td>0.07</td>\n",
       "    </tr>\n",
       "    <tr>\n",
       "      <th>1402</th>\n",
       "      <td>0.86</td>\n",
       "      <td>0.77</td>\n",
       "      <td>0.08</td>\n",
       "    </tr>\n",
       "    <tr>\n",
       "      <th>4832</th>\n",
       "      <td>0.84</td>\n",
       "      <td>0.73</td>\n",
       "      <td>0.11</td>\n",
       "    </tr>\n",
       "  </tbody>\n",
       "</table>\n",
       "</div>"
      ],
      "text/plain": [
       "      Actual  Predicted  Residual\n",
       "5601    0.93       0.82      0.11\n",
       "4103    0.90       0.84      0.06\n",
       "222     0.73       0.64      0.09\n",
       "7230    0.96       0.64      0.31\n",
       "318     0.64       0.70      0.06\n",
       "4668    0.78       0.65      0.13\n",
       "736     0.91       0.78      0.13\n",
       "5285    0.94       0.86      0.08\n",
       "8335    0.91       0.65      0.26\n",
       "5810    0.84       0.68      0.17\n",
       "5180    0.88       0.58      0.30\n",
       "3621    0.98       0.67      0.31\n",
       "1263    0.76       0.69      0.07\n",
       "1402    0.86       0.77      0.08\n",
       "4832    0.84       0.73      0.11"
      ]
     },
     "execution_count": 31,
     "metadata": {},
     "output_type": "execute_result"
    }
   ],
   "source": [
    "# Take a look at actual vs predicted and residual values.\n",
    "df = compare_actual_predicted_regression(y_test_ead.reset_index(drop=True), ead_pred)\n",
    "df.sample(15, random_state=42)"
   ]
  },
  {
   "cell_type": "markdown",
   "metadata": {},
   "source": [
    "- We can see that it is not the best model. However, it is still useful, and as I will show further in this notebook, along with LGD and PD Model, will provide financial gains for Lending Club."
   ]
  },
  {
   "cell_type": "markdown",
   "metadata": {},
   "source": [
    "#### 4.6.2 EAD and LGD Models Artifacts\n",
    "- Below, I will save the EAD and LGD Models' artifacts for reproducibility purposes. Once their memory size is lower than that of the PD Model, it will be possible to save them. However, still due to github large files issues, I will only save the models, not saving the raw and prepared train and test files and the predictions."
   ]
  },
  {
   "cell_type": "code",
   "execution_count": 32,
   "metadata": {},
   "outputs": [],
   "source": [
    "# Save LGD and EAD Models.\n",
    "lgd_logistic_path = '/Users/pedrohenriquealmeidaoliveira/Documents/data_science/lending_club_credit_scoring/artifacts/ead_lgd_models/lgd_logistic.pkl'\n",
    "lgd_linear_path = '/Users/pedrohenriquealmeidaoliveira/Documents/data_science/lending_club_credit_scoring/artifacts/ead_lgd_models/lgd_linear.pkl'\n",
    "ead_model_path = '/Users/pedrohenriquealmeidaoliveira/Documents/data_science/lending_club_credit_scoring/artifacts/ead_lgd_models/ead_model.pkl'\n",
    "save_object(lgd_logistic_path, lgd_logistic)\n",
    "save_object(lgd_linear_path, lgd_linear)\n",
    "save_object(ead_model_path, ead_model)"
   ]
  },
  {
   "cell_type": "markdown",
   "metadata": {},
   "source": [
    "#### 4.7 Compute the Expected Loss and Stablish a Credit Policy\n",
    "- To compute **Expected Loss (EL)**, which is the product of Probability of Default (PD), Exposure at Default (EAD), and Loss Given Default (LGD), I will leverage the results of the **three models (PD, EAD, and LGD Models) on the test data used for testing the PD Model**, encompassing **both default and non-default loans**. Although EAD and LGD models were trained on bad loan data, this approach simulates a realistic scenario for Expected Loss forecasting and credit policy development, considering that we don't have prior knowledge of whether applicants will become good or bad loans.\n",
    "- Subsequently, I will utilize the computed Expected Loss (EL) for the establishment of a **credit policy**, which is a set of guidelines and criteria established by a financial institution or organization to govern the assessment, approval, and management of credit risk associated with lending activities. \n",
    "- I will create **risk classes** based on the **probability of default** because this way we can better leverage the results of the credit scoring model, and it is possible to establish **different policies** for individuals in different risk classes. Thus, I will create ten risk classes **(AA, A, AB, BB, B, BC, C, CD, DD, F)** based on probability of default deciles, allowing Lending Club to adopt distinct approaches for riskier and less risky individuals.\n",
    "- In this context, **Lending Club** is adopting a **more conservative profile** with a **focus** on the **profitability** of its assets. The goal is to mitigate risks associated with higher-risk and potential default loans while maximizing profitability. \n",
    "- To achieve this, the **CEO** has outlined a **conservative credit policy:** We will **automatically approve** loans for applicants who fall into **AA and A risk classes** (indicating the lowest credit risk and highest credit scores) and automatically **deny** those who fall into the **F class** (indicating the highest credit risk and lowest credit scores). For the **other classes**, the loan must provide an annualized Return on Investment **(ROI) greater than the basic United States interest rate.** This criterion aligns with the rationale that if a loan's expected ROI doesn't surpass this interest rate, it may be more prudent to invest in less risky options, such as fixed-income investments.\n",
    "- The Expected ROI is calculated by considering the net gain from the loan, which is the interest earned minus the expected loss, and expressing it as a percentage of the loan amount over its term:\n",
    "    - **E(ROI) = (Gains - E(Loss) - Costs) / Investment >= 2.15%**\n",
    "- Considering the data goes up until 2015, let's assume that the United States has a basic interest rate of 2.15%."
   ]
  },
  {
   "cell_type": "markdown",
   "metadata": {},
   "source": [
    "#### 4.7.1 Obtain the PD Model Outcomes\n",
    "- It was not possible to save the PD Model due to github large files issues. However, it was possible to save its outcomes, the train and test borrowers calculated credit scores, actual outcomes and probabilities of default for each 20% most recent test data records. I will use this to combine the PD, EAD and LGD Models to estimate the EL and design the credit policy."
   ]
  },
  {
   "cell_type": "code",
   "execution_count": 33,
   "metadata": {},
   "outputs": [],
   "source": [
    "# Obtain the PD Model outcomes.\n",
    "train_scores_path = '/Users/pedrohenriquealmeidaoliveira/Documents/data_science/lending_club_credit_scoring/artifacts/pd_model/train_scores.parquet'\n",
    "test_scores_path = '/Users/pedrohenriquealmeidaoliveira/Documents/data_science/lending_club_credit_scoring/artifacts/pd_model/test_scores.parquet'\n",
    "train_scores = pd.read_parquet(train_scores_path)\n",
    "test_scores = pd.read_parquet(test_scores_path)"
   ]
  },
  {
   "cell_type": "code",
   "execution_count": 34,
   "metadata": {},
   "outputs": [
    {
     "data": {
      "text/html": [
       "<div>\n",
       "<style scoped>\n",
       "    .dataframe tbody tr th:only-of-type {\n",
       "        vertical-align: middle;\n",
       "    }\n",
       "\n",
       "    .dataframe tbody tr th {\n",
       "        vertical-align: top;\n",
       "    }\n",
       "\n",
       "    .dataframe thead th {\n",
       "        text-align: right;\n",
       "    }\n",
       "</style>\n",
       "<table border=\"1\" class=\"dataframe\">\n",
       "  <thead>\n",
       "    <tr style=\"text-align: right;\">\n",
       "      <th></th>\n",
       "      <th>Actual</th>\n",
       "      <th>Probability of Default (PD)</th>\n",
       "      <th>Score</th>\n",
       "    </tr>\n",
       "  </thead>\n",
       "  <tbody>\n",
       "    <tr>\n",
       "      <th>0</th>\n",
       "      <td>1</td>\n",
       "      <td>0.338046</td>\n",
       "      <td>467.0</td>\n",
       "    </tr>\n",
       "    <tr>\n",
       "      <th>1</th>\n",
       "      <td>0</td>\n",
       "      <td>0.133334</td>\n",
       "      <td>564.0</td>\n",
       "    </tr>\n",
       "    <tr>\n",
       "      <th>2</th>\n",
       "      <td>1</td>\n",
       "      <td>0.191579</td>\n",
       "      <td>530.0</td>\n",
       "    </tr>\n",
       "    <tr>\n",
       "      <th>3</th>\n",
       "      <td>1</td>\n",
       "      <td>0.067132</td>\n",
       "      <td>626.0</td>\n",
       "    </tr>\n",
       "    <tr>\n",
       "      <th>4</th>\n",
       "      <td>0</td>\n",
       "      <td>0.282727</td>\n",
       "      <td>488.0</td>\n",
       "    </tr>\n",
       "  </tbody>\n",
       "</table>\n",
       "</div>"
      ],
      "text/plain": [
       "   Actual  Probability of Default (PD)  Score\n",
       "0       1                     0.338046  467.0\n",
       "1       0                     0.133334  564.0\n",
       "2       1                     0.191579  530.0\n",
       "3       1                     0.067132  626.0\n",
       "4       0                     0.282727  488.0"
      ]
     },
     "execution_count": 34,
     "metadata": {},
     "output_type": "execute_result"
    }
   ],
   "source": [
    "test_scores.head()"
   ]
  },
  {
   "cell_type": "markdown",
   "metadata": {},
   "source": [
    "#### 4.7.2 Calculate EAD and LGD on the Same Test Data\n",
    "- As a good practice, I trained the LGD and EAD models using only data containing charged-off loans — those that defaulted and with sufficient time passed for recoveries to be made.\n",
    "- Next, I will utilize these trained models to **predict EAD and LGD on the entire test dataset** (the same one used for the PD model, comprising the **20% most recent loans**), for **both default and non-default loans.**\n",
    "- Finally, I will **merge the predictions from the PD, EAD, and LGD** models on the test data to **calculate the Expected Loss (EL)** and formulate the **credit policy.**\n",
    "- It will be necessary to apply the same preprocessing applied to EAD and LGD Models to the 20% most recent loans data, an then predict."
   ]
  },
  {
   "cell_type": "code",
   "execution_count": 35,
   "metadata": {},
   "outputs": [
    {
     "data": {
      "text/plain": [
       "(93252, 42)"
      ]
     },
     "execution_count": 35,
     "metadata": {},
     "output_type": "execute_result"
    }
   ],
   "source": [
    "# Obtain the raw data.\n",
    "df_ead_lgd = pd.read_parquet(parquet_file_path)\n",
    "\n",
    "# Out-of-time train-test-split. Get the 20% most recent loan data for the credit policy.\n",
    "_, test_ead_lgd = np.split(df_ead_lgd, [int(.80 * len(df_ead_lgd))])\n",
    "test_ead_lgd.shape"
   ]
  },
  {
   "cell_type": "code",
   "execution_count": 36,
   "metadata": {},
   "outputs": [],
   "source": [
    "# Predict recovery rate, credit conversion factor, lgd and ead.\n",
    "_, _, ead_final_pred, lgd_final_pred = predict_ead_lgd(test_ead_lgd, preprocessor, ead_model,\n",
    "                                                       lgd_logistic, lgd_linear)"
   ]
  },
  {
   "cell_type": "code",
   "execution_count": 37,
   "metadata": {},
   "outputs": [
    {
     "data": {
      "text/plain": [
       "count    93252.000000\n",
       "mean     10465.519869\n",
       "std       6654.934660\n",
       "min        490.689472\n",
       "25%       5197.384155\n",
       "50%       9094.638970\n",
       "75%      14490.378365\n",
       "max      34104.567711\n",
       "dtype: float64"
      ]
     },
     "execution_count": 37,
     "metadata": {},
     "output_type": "execute_result"
    }
   ],
   "source": [
    "# Descriptive statistics.\n",
    "ead_final_pred.describe()"
   ]
  },
  {
   "cell_type": "code",
   "execution_count": 38,
   "metadata": {},
   "outputs": [
    {
     "data": {
      "text/plain": [
       "count    93252.000000\n",
       "mean         0.946107\n",
       "std          0.013902\n",
       "min          0.399657\n",
       "25%          0.938926\n",
       "50%          0.947820\n",
       "75%          0.955546\n",
       "max          0.984390\n",
       "dtype: float64"
      ]
     },
     "execution_count": 38,
     "metadata": {},
     "output_type": "execute_result"
    }
   ],
   "source": [
    "# Descriptive statistics.\n",
    "lgd_final_pred.describe()"
   ]
  },
  {
   "cell_type": "markdown",
   "metadata": {},
   "source": [
    "#### 4.7.3 Expected Losses and Credit Policy\n",
    "- As mentioned above, the **credit policy** is **conservative** and establishes that we will **automatically approve** loans for applicants who fall into **AA and A risk classes** and automatically **deny** those who fall into the **F class**. For the **other classes**, **loans with an annualized ROI higher than the basic US interest rate will be approved.** **Lending Club** intends to **focus on profit** while minimizing risk. This strategy is based on the rationale that if the expected ROI of the loan is lower than the US interest rate, it is better to invest the money in a less risky option, such as fixed income.\n",
    "- Below is the computed **credit policy**, with loan characteristics such as term, interest rate, and loan amount, and risk characteristics like credit score, risk class, PD, EAD, LGD, EL, and expected returns (ROI and annualized ROI). We have the **status approved or not for the loans based on the aforementioned criteria.**\n",
    "-  The computed **credit scores** can be used by the analysts, along with the credit policy, to decide whether to approve a loan that was automatically denied by the policy. We refer to this as an **override.** \n",
    "- Moreover, **other configurations of policy** can also be done. This is a specific design."
   ]
  },
  {
   "cell_type": "code",
   "execution_count": 97,
   "metadata": {},
   "outputs": [
    {
     "data": {
      "text/html": [
       "<div>\n",
       "<style scoped>\n",
       "    .dataframe tbody tr th:only-of-type {\n",
       "        vertical-align: middle;\n",
       "    }\n",
       "\n",
       "    .dataframe tbody tr th {\n",
       "        vertical-align: top;\n",
       "    }\n",
       "\n",
       "    .dataframe thead th {\n",
       "        text-align: right;\n",
       "    }\n",
       "</style>\n",
       "<table border=\"1\" class=\"dataframe\">\n",
       "  <thead>\n",
       "    <tr style=\"text-align: right;\">\n",
       "      <th></th>\n",
       "      <th>Term</th>\n",
       "      <th>Interest Rate</th>\n",
       "      <th>Loan Amount</th>\n",
       "      <th>Actual</th>\n",
       "      <th>Credit Score</th>\n",
       "      <th>Risk Class</th>\n",
       "      <th>Score Range</th>\n",
       "      <th>Probability of Default (PD)</th>\n",
       "      <th>Exposure at Default (EAD)</th>\n",
       "      <th>Loss Given Default (LGD)</th>\n",
       "      <th>Expected Loss (EL)</th>\n",
       "      <th>ROI (%)</th>\n",
       "      <th>Annualized ROI (%)</th>\n",
       "      <th>Approved</th>\n",
       "    </tr>\n",
       "  </thead>\n",
       "  <tbody>\n",
       "    <tr>\n",
       "      <th>59802</th>\n",
       "      <td>60</td>\n",
       "      <td>20.99</td>\n",
       "      <td>26000</td>\n",
       "      <td>1</td>\n",
       "      <td>593.0</td>\n",
       "      <td>BC</td>\n",
       "      <td>588.0-602.0</td>\n",
       "      <td>0.097890</td>\n",
       "      <td>21767.757607</td>\n",
       "      <td>0.921880</td>\n",
       "      <td>1964.375109</td>\n",
       "      <td>20.904447</td>\n",
       "      <td>4.181</td>\n",
       "      <td>1</td>\n",
       "    </tr>\n",
       "    <tr>\n",
       "      <th>42604</th>\n",
       "      <td>36</td>\n",
       "      <td>6.03</td>\n",
       "      <td>10000</td>\n",
       "      <td>1</td>\n",
       "      <td>688.0</td>\n",
       "      <td>AA</td>\n",
       "      <td>688.0-820.0</td>\n",
       "      <td>0.032105</td>\n",
       "      <td>5834.006248</td>\n",
       "      <td>0.970821</td>\n",
       "      <td>181.837559</td>\n",
       "      <td>6.001816</td>\n",
       "      <td>2.001</td>\n",
       "      <td>1</td>\n",
       "    </tr>\n",
       "    <tr>\n",
       "      <th>31794</th>\n",
       "      <td>60</td>\n",
       "      <td>20.99</td>\n",
       "      <td>25000</td>\n",
       "      <td>1</td>\n",
       "      <td>568.0</td>\n",
       "      <td>CD</td>\n",
       "      <td>555.0-572.0</td>\n",
       "      <td>0.127374</td>\n",
       "      <td>21935.159155</td>\n",
       "      <td>0.921770</td>\n",
       "      <td>2575.404144</td>\n",
       "      <td>20.876984</td>\n",
       "      <td>4.175</td>\n",
       "      <td>1</td>\n",
       "    </tr>\n",
       "    <tr>\n",
       "      <th>16781</th>\n",
       "      <td>36</td>\n",
       "      <td>7.12</td>\n",
       "      <td>15000</td>\n",
       "      <td>1</td>\n",
       "      <td>731.0</td>\n",
       "      <td>AA</td>\n",
       "      <td>688.0-820.0</td>\n",
       "      <td>0.019467</td>\n",
       "      <td>9134.256592</td>\n",
       "      <td>0.943215</td>\n",
       "      <td>167.719252</td>\n",
       "      <td>7.098819</td>\n",
       "      <td>2.366</td>\n",
       "      <td>1</td>\n",
       "    </tr>\n",
       "    <tr>\n",
       "      <th>56060</th>\n",
       "      <td>36</td>\n",
       "      <td>14.99</td>\n",
       "      <td>2000</td>\n",
       "      <td>1</td>\n",
       "      <td>587.0</td>\n",
       "      <td>C</td>\n",
       "      <td>573.0-587.0</td>\n",
       "      <td>0.104390</td>\n",
       "      <td>1382.756353</td>\n",
       "      <td>0.958047</td>\n",
       "      <td>138.289822</td>\n",
       "      <td>14.910855</td>\n",
       "      <td>4.970</td>\n",
       "      <td>1</td>\n",
       "    </tr>\n",
       "    <tr>\n",
       "      <th>68814</th>\n",
       "      <td>36</td>\n",
       "      <td>6.49</td>\n",
       "      <td>19200</td>\n",
       "      <td>1</td>\n",
       "      <td>785.0</td>\n",
       "      <td>AA</td>\n",
       "      <td>688.0-820.0</td>\n",
       "      <td>0.010066</td>\n",
       "      <td>11066.350740</td>\n",
       "      <td>0.959496</td>\n",
       "      <td>106.877153</td>\n",
       "      <td>6.474433</td>\n",
       "      <td>2.158</td>\n",
       "      <td>1</td>\n",
       "    </tr>\n",
       "    <tr>\n",
       "      <th>10849</th>\n",
       "      <td>36</td>\n",
       "      <td>11.67</td>\n",
       "      <td>6400</td>\n",
       "      <td>1</td>\n",
       "      <td>664.0</td>\n",
       "      <td>A</td>\n",
       "      <td>657.0-687.0</td>\n",
       "      <td>0.043622</td>\n",
       "      <td>4204.440862</td>\n",
       "      <td>0.938229</td>\n",
       "      <td>172.077539</td>\n",
       "      <td>11.633113</td>\n",
       "      <td>3.878</td>\n",
       "      <td>1</td>\n",
       "    </tr>\n",
       "    <tr>\n",
       "      <th>73429</th>\n",
       "      <td>36</td>\n",
       "      <td>12.99</td>\n",
       "      <td>10000</td>\n",
       "      <td>1</td>\n",
       "      <td>545.0</td>\n",
       "      <td>DD</td>\n",
       "      <td>531.0-554.0</td>\n",
       "      <td>0.166363</td>\n",
       "      <td>6625.360444</td>\n",
       "      <td>0.955672</td>\n",
       "      <td>1053.357647</td>\n",
       "      <td>12.874664</td>\n",
       "      <td>4.292</td>\n",
       "      <td>1</td>\n",
       "    </tr>\n",
       "    <tr>\n",
       "      <th>37965</th>\n",
       "      <td>60</td>\n",
       "      <td>23.43</td>\n",
       "      <td>10075</td>\n",
       "      <td>1</td>\n",
       "      <td>527.0</td>\n",
       "      <td>F</td>\n",
       "      <td>419.0-530.0</td>\n",
       "      <td>0.196755</td>\n",
       "      <td>8846.648767</td>\n",
       "      <td>0.917021</td>\n",
       "      <td>1596.190720</td>\n",
       "      <td>23.261569</td>\n",
       "      <td>4.652</td>\n",
       "      <td>0</td>\n",
       "    </tr>\n",
       "    <tr>\n",
       "      <th>36039</th>\n",
       "      <td>36</td>\n",
       "      <td>7.69</td>\n",
       "      <td>8000</td>\n",
       "      <td>1</td>\n",
       "      <td>665.0</td>\n",
       "      <td>A</td>\n",
       "      <td>657.0-687.0</td>\n",
       "      <td>0.043235</td>\n",
       "      <td>4903.885243</td>\n",
       "      <td>0.970569</td>\n",
       "      <td>205.778077</td>\n",
       "      <td>7.654278</td>\n",
       "      <td>2.551</td>\n",
       "      <td>1</td>\n",
       "    </tr>\n",
       "  </tbody>\n",
       "</table>\n",
       "</div>"
      ],
      "text/plain": [
       "       Term  Interest Rate  Loan Amount  Actual  Credit Score Risk Class  Score Range  Probability of Default (PD)  Exposure at Default (EAD)  Loss Given Default (LGD)  Expected Loss (EL)    ROI (%)  Annualized ROI (%)  Approved\n",
       "59802    60          20.99        26000       1         593.0         BC  588.0-602.0                     0.097890               21767.757607                  0.921880         1964.375109  20.904447               4.181         1\n",
       "42604    36           6.03        10000       1         688.0         AA  688.0-820.0                     0.032105                5834.006248                  0.970821          181.837559   6.001816               2.001         1\n",
       "31794    60          20.99        25000       1         568.0         CD  555.0-572.0                     0.127374               21935.159155                  0.921770         2575.404144  20.876984               4.175         1\n",
       "16781    36           7.12        15000       1         731.0         AA  688.0-820.0                     0.019467                9134.256592                  0.943215          167.719252   7.098819               2.366         1\n",
       "56060    36          14.99         2000       1         587.0          C  573.0-587.0                     0.104390                1382.756353                  0.958047          138.289822  14.910855               4.970         1\n",
       "68814    36           6.49        19200       1         785.0         AA  688.0-820.0                     0.010066               11066.350740                  0.959496          106.877153   6.474433               2.158         1\n",
       "10849    36          11.67         6400       1         664.0          A  657.0-687.0                     0.043622                4204.440862                  0.938229          172.077539  11.633113               3.878         1\n",
       "73429    36          12.99        10000       1         545.0         DD  531.0-554.0                     0.166363                6625.360444                  0.955672         1053.357647  12.874664               4.292         1\n",
       "37965    60          23.43        10075       1         527.0          F  419.0-530.0                     0.196755                8846.648767                  0.917021         1596.190720  23.261569               4.652         0\n",
       "36039    36           7.69         8000       1         665.0          A  657.0-687.0                     0.043235                4903.885243                  0.970569          205.778077   7.654278               2.551         1"
      ]
     },
     "execution_count": 97,
     "metadata": {},
     "output_type": "execute_result"
    }
   ],
   "source": [
    "credit_policy_df = compute_credit_policy(test_ead_lgd, \n",
    "                                         test_scores[['Actual', 'Score', 'Probability of Default (PD)']], \n",
    "                                         ead_final_pred, \n",
    "                                         lgd_final_pred, \n",
    "                                         0.01, ['AA', 'A'],\n",
    "                                         ['F'], 2.15)\n",
    "credit_policy_df.sample(10, random_state=20)"
   ]
  },
  {
   "cell_type": "code",
   "execution_count": 98,
   "metadata": {},
   "outputs": [
    {
     "data": {
      "text/plain": [
       "Approved\n",
       "1    88.852786\n",
       "0    11.147214\n",
       "Name: proportion, dtype: float64"
      ]
     },
     "execution_count": 98,
     "metadata": {},
     "output_type": "execute_result"
    }
   ],
   "source": [
    "credit_policy_df.Approved.value_counts(normalize=True)*100"
   ]
  },
  {
   "cell_type": "code",
   "execution_count": 99,
   "metadata": {},
   "outputs": [
    {
     "data": {
      "text/plain": [
       "Actual\n",
       "1    93.285935\n",
       "0     6.714065\n",
       "Name: proportion, dtype: float64"
      ]
     },
     "execution_count": 99,
     "metadata": {},
     "output_type": "execute_result"
    }
   ],
   "source": [
    "credit_policy_df.Actual.value_counts(normalize=True) * 100"
   ]
  },
  {
   "cell_type": "code",
   "execution_count": 100,
   "metadata": {},
   "outputs": [
    {
     "data": {
      "text/plain": [
       "Actual\n",
       "1    94.34568\n",
       "0     5.65432\n",
       "Name: proportion, dtype: float64"
      ]
     },
     "execution_count": 100,
     "metadata": {},
     "output_type": "execute_result"
    }
   ],
   "source": [
    "credit_policy_df.loc[credit_policy_df['Approved'] == 1, 'Actual'].value_counts(normalize=True) * 100"
   ]
  },
  {
   "cell_type": "markdown",
   "metadata": {},
   "source": [
    "- With this criteria, we reject about 11% of the loans. Moreover, the default rate decreases from 6.7% to 5.65%."
   ]
  },
  {
   "cell_type": "code",
   "execution_count": 101,
   "metadata": {},
   "outputs": [
    {
     "name": "stdout",
     "output_type": "stream",
     "text": [
      "Overall Lending Club's Expected Loss (EL) = 6.91%.\n",
      "This represents an amount of = $95584225.36.\n"
     ]
    }
   ],
   "source": [
    "total_EL = round(credit_policy_df['Expected Loss (EL)'].sum() / credit_policy_df['Loan Amount'].sum() * 100, 2)\n",
    "amnt_EL = round(credit_policy_df['Expected Loss (EL)'].sum(), 2)\n",
    "print(f\"Overall Lending Club's Expected Loss (EL) = {total_EL}%.\")\n",
    "print(f\"This represents an amount of = ${amnt_EL}.\")"
   ]
  },
  {
   "cell_type": "markdown",
   "metadata": {},
   "source": [
    "- The overall Expected Loss (EL) of Lending Club's investment portfolio is 6.91%, representing an amount of 95,584,225 dollars. Let's calculate the same metrics for the loans approved in our credit policy and see whether the amount Lending Club will possibly loss has reduced."
   ]
  },
  {
   "cell_type": "code",
   "execution_count": 102,
   "metadata": {},
   "outputs": [
    {
     "name": "stdout",
     "output_type": "stream",
     "text": [
      "Overall Lending Club's Expected Loss (EL) w/ Credit Policy = 5.77%.\n",
      "This represents an amount of = $70457395.51.\n"
     ]
    }
   ],
   "source": [
    "# Calculate the Expected Loss for the approved loans with respect.\n",
    "approved = credit_policy_df.loc[credit_policy_df['Approved'] == 1]\n",
    "approved_EL = round(approved['Expected Loss (EL)'].sum() / approved['Loan Amount'].sum() * 100, 2)\n",
    "approved_amnt_EL = round(approved['Expected Loss (EL)'].sum(), 2)\n",
    "print(f\"Overall Lending Club's Expected Loss (EL) w/ Credit Policy = {approved_EL}%.\")\n",
    "print(f\"This represents an amount of = ${approved_amnt_EL}.\")"
   ]
  },
  {
   "cell_type": "markdown",
   "metadata": {},
   "source": [
    "- It is possible to see that the amount Lending Club expects to lose in its assets has reduced from 6.91% to 5.77%. "
   ]
  },
  {
   "cell_type": "markdown",
   "metadata": {},
   "source": [
    "- This is a very nice financial result. With our simple credit policy rules, by rejecting just 11% of the loans (including those belonging to the worst risk class, F, and those with an annualized ROI lower than 2.15, the basic US interest rate), both the amount Lending Club expects to lose in its assets and the default rate decreased. Specifically, the default rate decreased from 6.71% to 5.65% and the Expected Loss decreased from 6.91% to 5.77%. Although these represent little percentage points decreasement, when dealing with thousands of loans and funded amounts, it represents a substantial financial gain to Lending Club.\n",
    "- Furthermore, other policies can also be designed, in a more restrictive or free way. This is just a draw to show that our project is worthwile.\n",
    "- Finally, the business problem is solved."
   ]
  },
  {
   "cell_type": "markdown",
   "metadata": {},
   "source": [
    "#### 4.8 Conclusion\n",
    "- In this notebook, we conducted **EAD and LGD modeling** on data containing only **charged-off defaulted loans** – that is, loans for which sufficient time has passed, allowing for recoveries. For EAD, we estimated the credit conversion factor through linear regression. It was then calculated as EAD = Funded Amount * Credit Conversion Factor. Regarding LGD, we estimated the recovery rate in two stages. First, we built a logistic regression model to predict whether the recovery rate was greater than zero (1) or zero (0). Those predicted as zero are maintained as such, while those predicted as greater than zero pass through a second stage linear regression that estimates the corresponding value.\n",
    "- After estimating these models, it was possible to combine their outcomes with the PD model outcome and calculate the **expected losses (EL)** by obtaining the product of **PD * EAD * LGD**. With the expected losses, a **credit policy** was designed. Considering that **Lending Club** aims to focus on **profitability**, a more **conservative** policy is established: We will **automatically approve** loans for applicants who fall into **AA and A risk classes** and automatically **deny** those who fall into the **F class**. For the other classes, loans with an **annualized ROI higher than the basic US interest rate** will be **approved**; otherwise, they will be denied. This makes total sense since, if the loan's annualized ROI does not exceed the basic US interest rate, it is better to allocate the money to a less risky investment, such as fixed income.\n",
    "- As a **financial result**, with our simple credit policy rules, by rejecting just 11% of the loans (including those belonging to the worst risk class, F, and those with an annualized ROI lower than 2.15, the basic US interest rate), both the amount Lending Club expects to lose in its assets and the default rate decreased. Specifically, the default rate decreased from 6.71% to 5.65% and the Expected Loss decreased from 6.91% to 5.77%. Although these represent little percentage points decreasement, when dealing with thousands of loans and funded amounts, it represents a substantial financial gain to Lending Club.\n",
    "- Furthermore, other policies can also be designed, in a more restrictive or free way. This is just a draw to show that our project is worthwile.\n",
    "- The next steps involve monitoring the PD Model in more recent data, which is made in the model monitoring notebook."
   ]
  }
 ],
 "metadata": {
  "kernelspec": {
   "display_name": "Python 3",
   "language": "python",
   "name": "python3"
  },
  "language_info": {
   "codemirror_mode": {
    "name": "ipython",
    "version": 3
   },
   "file_extension": ".py",
   "mimetype": "text/x-python",
   "name": "python",
   "nbconvert_exporter": "python",
   "pygments_lexer": "ipython3",
   "version": "3.11.5"
  }
 },
 "nbformat": 4,
 "nbformat_minor": 2
}
